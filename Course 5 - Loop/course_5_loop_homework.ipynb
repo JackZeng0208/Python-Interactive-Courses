{
 "cells": [
  {
   "cell_type": "code",
   "execution_count": null,
   "metadata": {},
   "outputs": [],
   "source": [
    "# Given two lists\n",
    "# Print each fruit with its corresponding color.\n",
    "fruits = [\"apple\", \"banana\", \"cherry\"]\n",
    "colors = [\"red\", \"yellow\", \"red\"]"
   ]
  },
  {
   "cell_type": "code",
   "execution_count": null,
   "metadata": {},
   "outputs": [],
   "source": [
    "# Write in while loop\n",
    "# Input value n\n",
    "# Print the sum of integers from 1 to n (inclusive, do not use sum() function)"
   ]
  },
  {
   "cell_type": "code",
   "execution_count": 4,
   "metadata": {},
   "outputs": [
    {
     "name": "stdout",
     "output_type": "stream",
     "text": [
      "....1\n",
      "...22\n",
      "..333\n",
      ".4444\n",
      "55555\n"
     ]
    }
   ],
   "source": [
    "# Print the following pattern (nested loop)\n",
    "# ....1\n",
    "# ...22\n",
    "# ..333\n",
    "# .4444\n",
    "# 55555\n",
    "for i in range(1, 6):\n",
    "    for _ in range(5-i):\n",
    "        # dots number\n",
    "        print(\".\", end=\"\")\n",
    "    for _ in range(i):\n",
    "        print(i,end=\"\")\n",
    "    print()"
   ]
  },
  {
   "cell_type": "code",
   "execution_count": 3,
   "metadata": {},
   "outputs": [
    {
     "name": "stdout",
     "output_type": "stream",
     "text": [
      "1\n",
      "3\n",
      "7\n",
      "9\n",
      "11\n",
      "13\n",
      "17\n",
      "19\n"
     ]
    }
   ],
   "source": [
    "# Prints all odd numbers between 1 and 20\n",
    "# Except for numbers that are divisible by 5\n",
    "for i in range(1, 21):\n",
    "    if i % 2 != 0 and i % 5 != 0:\n",
    "        print(i)"
   ]
  },
  {
   "cell_type": "code",
   "execution_count": null,
   "metadata": {},
   "outputs": [],
   "source": [
    "# Finds the first prime number greater than 50\n",
    "# Stops checking further numbers once it finds the prime number"
   ]
  },
  {
   "cell_type": "code",
   "execution_count": null,
   "metadata": {},
   "outputs": [],
   "source": [
    "# Find all of the numbers from 1-100 that are divisible by any single digit besides 1 (2-9)"
   ]
  }
 ],
 "metadata": {
  "kernelspec": {
   "display_name": "python-course",
   "language": "python",
   "name": "python3"
  },
  "language_info": {
   "codemirror_mode": {
    "name": "ipython",
    "version": 3
   },
   "file_extension": ".py",
   "mimetype": "text/x-python",
   "name": "python",
   "nbconvert_exporter": "python",
   "pygments_lexer": "ipython3",
   "version": "3.12.4"
  }
 },
 "nbformat": 4,
 "nbformat_minor": 2
}
