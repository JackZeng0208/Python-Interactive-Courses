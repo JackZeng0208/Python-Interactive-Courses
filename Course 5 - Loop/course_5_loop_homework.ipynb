{
 "cells": [
  {
   "cell_type": "code",
   "execution_count": null,
   "metadata": {},
   "outputs": [],
   "source": [
    "# Given two lists\n",
    "# Print each fruit with its corresponding color.\n",
    "fruits = [\"apple\", \"banana\", \"cherry\"]\n",
    "colors = [\"red\", \"yellow\", \"red\"]"
   ]
  },
  {
   "cell_type": "code",
   "execution_count": null,
   "metadata": {},
   "outputs": [],
   "source": [
    "# Write in while loop\n",
    "# Input value n\n",
    "# Print the sum of integers from 1 to n (inclusive, do not use sum() function)"
   ]
  },
  {
   "cell_type": "code",
   "execution_count": null,
   "metadata": {},
   "outputs": [],
   "source": [
    "# Print the following pattern (nested loop)\n",
    "# ....1\n",
    "# ...22\n",
    "# ..333\n",
    "# .4444\n",
    "# 55555"
   ]
  },
  {
   "cell_type": "code",
   "execution_count": null,
   "metadata": {},
   "outputs": [],
   "source": [
    "# Prints all odd numbers between 1 and 20\n",
    "# Except for numbers that are divisible by 5"
   ]
  },
  {
   "cell_type": "code",
   "execution_count": null,
   "metadata": {},
   "outputs": [],
   "source": [
    "# Finds the first prime number greater than 50\n",
    "# Stops checking further numbers once it finds the prime number"
   ]
  },
  {
   "cell_type": "code",
   "execution_count": null,
   "metadata": {},
   "outputs": [],
   "source": [
    "# Find all of the numbers from 1-100 that are divisible by any single digit besides 1 (2-9)"
   ]
  }
 ],
 "metadata": {
  "language_info": {
   "name": "python"
  }
 },
 "nbformat": 4,
 "nbformat_minor": 2
}
