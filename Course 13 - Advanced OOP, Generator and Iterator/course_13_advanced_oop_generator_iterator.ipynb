{
 "cells": [
  {
   "cell_type": "markdown",
   "metadata": {},
   "source": [
    "# Course 13 - Advanced OOP, Generator and Iterator"
   ]
  },
  {
   "cell_type": "markdown",
   "metadata": {},
   "source": [
    "## Abstract classes and interfaces"
   ]
  },
  {
   "cell_type": "markdown",
   "metadata": {},
   "source": [
    "- An abstract class is a class that **cannot be instantiated** on its own and often contains one or more abstract methods. \n",
    "- Abstract methods are methods that are declared but contain no implementation. \n",
    "- Subclasses of the abstract class are responsible for implementing the abstract methods."
   ]
  },
  {
   "cell_type": "markdown",
   "metadata": {},
   "source": [
    "Why we need abstract class:"
   ]
  },
  {
   "cell_type": "markdown",
   "metadata": {},
   "source": [
    "1. Providing a template for subclasses\n",
    "2. Promoting code reusability\n",
    "3. Defining contract for subclasses\n",
    "4. Encouraging better design practices"
   ]
  },
  {
   "cell_type": "markdown",
   "metadata": {},
   "source": [
    "Key points:\n",
    "- Abstract classes are defined using the `abc` (Abstract Base Classes) module in Python.\n",
    "- Abstract classes can contain **concrete methods** as well."
   ]
  },
  {
   "cell_type": "markdown",
   "metadata": {},
   "source": [
    "Example:"
   ]
  },
  {
   "cell_type": "code",
   "execution_count": null,
   "metadata": {},
   "outputs": [],
   "source": [
    "from abc import ABC, abstractmethod\n",
    "\n",
    "class Animal(ABC):\n",
    "    # Abstract method decorator is used to define abstract methods\n",
    "    @abstractmethod\n",
    "    def sound(self):\n",
    "        pass\n",
    "    \n",
    "    # Concrete method\n",
    "    def sleep(self):\n",
    "        print(\"This animal is sleeping\")\n",
    "\n",
    "class Dog(Animal):\n",
    "    def sound(self):\n",
    "        print(\"Woof!\")\n",
    "\n",
    "class Cat(Animal):\n",
    "    def sound(self):\n",
    "        print(\"Meow!\")\n",
    "\n",
    "dog = Dog()\n",
    "cat = Cat()\n",
    "\n",
    "dog.sound()  # Output: Woof!\n",
    "cat.sound()  # Output: Meow!\n",
    "dog.sleep()"
   ]
  },
  {
   "cell_type": "markdown",
   "metadata": {},
   "source": [
    "You cannot create instance based on abstract class:"
   ]
  },
  {
   "cell_type": "code",
   "execution_count": null,
   "metadata": {},
   "outputs": [],
   "source": [
    "object = Animal()"
   ]
  },
  {
   "cell_type": "markdown",
   "metadata": {},
   "source": [
    "## Decorators"
   ]
  },
  {
   "cell_type": "markdown",
   "metadata": {},
   "source": [
    "A decorator in Python is a function that takes another function and extends its behavior without explicitly modifying it"
   ]
  },
  {
   "cell_type": "markdown",
   "metadata": {},
   "source": [
    "Explain it step by step:"
   ]
  },
  {
   "cell_type": "markdown",
   "metadata": {},
   "source": [
    "1. We can define function inside a function"
   ]
  },
  {
   "cell_type": "code",
   "execution_count": null,
   "metadata": {},
   "outputs": [],
   "source": [
    "# Nested functions\n",
    "def outer_function():\n",
    "    def inner_function():\n",
    "        print(\"Inside inner_function\")\n",
    "    inner_function()\n",
    "    print(\"Inside outer_function\")\n",
    "# Run the both functions\n",
    "outer_function()"
   ]
  },
  {
   "cell_type": "markdown",
   "metadata": {},
   "source": [
    "2. We can return a function from function"
   ]
  },
  {
   "cell_type": "code",
   "execution_count": null,
   "metadata": {},
   "outputs": [],
   "source": [
    "# Return a function from another function\n",
    "def outer_function():\n",
    "    def inner_function():\n",
    "        print(\"Inside inner_function\")\n",
    "    return inner_function\n",
    "\n",
    "# Return the inner_function itself\n",
    "print(outer_function())\n",
    "# Run the outer_function and store the returned function in a variable\n",
    "outer_function()()"
   ]
  },
  {
   "cell_type": "markdown",
   "metadata": {},
   "source": [
    "3. We can transfer one function to another function"
   ]
  },
  {
   "cell_type": "code",
   "execution_count": null,
   "metadata": {},
   "outputs": [],
   "source": [
    "def hello():\n",
    "    return \"Hello\"\n",
    "\n",
    "def function_caller(func):\n",
    "    print(func())\n",
    "\n",
    "# Actually, it's a decorator\n",
    "function_caller(hello)"
   ]
  },
  {
   "cell_type": "markdown",
   "metadata": {},
   "source": [
    "Combine all of the knowledge, let's understand what is decorator:"
   ]
  },
  {
   "cell_type": "code",
   "execution_count": null,
   "metadata": {},
   "outputs": [],
   "source": [
    "# Source: https://www.runoob.com/w3cnote/python-func-decorators.html\n",
    "def a_new_decorator(a_func):\n",
    "    def wrapTheFunction():\n",
    "        print(\"I am doing some work before executing a_func()\")\n",
    "        a_func()\n",
    "        print(\"I am doing some work after executing a_func()\")\n",
    "    return wrapTheFunction\n",
    " \n",
    "def a_function_requiring_decoration():\n",
    "    print(\"I am the function which needs some decoration\")\n",
    " \n",
    "# a_function_requiring_decoration()\n",
    "# It inserts some functionality (For here, print some sentences before and after the original function) to the original function\n",
    "a_function_requiring_decoration = a_new_decorator(a_function_requiring_decoration)\n",
    "a_function_requiring_decoration()\n",
    "\n"
   ]
  },
  {
   "cell_type": "code",
   "execution_count": null,
   "metadata": {},
   "outputs": [],
   "source": [
    "# Using the @ symbol\n",
    "@a_new_decorator\n",
    "def a_function_requiring_decoration():\n",
    "    \"\"\"Hey you! Decorate me!\"\"\"\n",
    "    print(\"I am the function which needs some decoration\")\n",
    " \n",
    "a_function_requiring_decoration()\n",
    "# The @a_new_decorator is just a short way of saying:\n",
    "a_function_requiring_decoration = a_new_decorator(a_function_requiring_decoration)"
   ]
  },
  {
   "cell_type": "markdown",
   "metadata": {},
   "source": [
    "Decorators can also handle functions with arguments:"
   ]
  },
  {
   "cell_type": "code",
   "execution_count": null,
   "metadata": {},
   "outputs": [],
   "source": [
    "def logger_decorator(func):\n",
    "    def wrapper(*args):\n",
    "        print(f\"Function {func.__name__} called with arguments {args} and keyword arguments\")\n",
    "        return func(*args)\n",
    "    return wrapper\n",
    "\n",
    "@logger_decorator\n",
    "def add(a, b):\n",
    "    return a + b\n",
    "\n",
    "print(add(2, 3))"
   ]
  },
  {
   "cell_type": "markdown",
   "metadata": {},
   "source": [
    "### Built-in decorators"
   ]
  },
  {
   "cell_type": "markdown",
   "metadata": {},
   "source": [
    "1. `@staticmethod`"
   ]
  },
  {
   "cell_type": "markdown",
   "metadata": {},
   "source": [
    "- Converts a method into a static method, which means it does not receive an implicit first argument (usually self or cls).\n",
    "- Used when you need a method that doesn't modify the object or class state."
   ]
  },
  {
   "cell_type": "code",
   "execution_count": null,
   "metadata": {},
   "outputs": [],
   "source": [
    "class MyClass:\n",
    "    @staticmethod\n",
    "    # No need to pass self as an argument\n",
    "    # No need any parameters\n",
    "    def static_method():\n",
    "        print(\"This is a static method.\")\n",
    "\n",
    "MyClass.static_method()\n"
   ]
  },
  {
   "cell_type": "markdown",
   "metadata": {},
   "source": [
    "2. `@classmethod`"
   ]
  },
  {
   "cell_type": "markdown",
   "metadata": {},
   "source": [
    "- Converts a method into a class method, which means it receives the class as its first argument (usually cls).\n",
    "- Used when you need to access or modify the class state."
   ]
  },
  {
   "cell_type": "code",
   "execution_count": null,
   "metadata": {},
   "outputs": [],
   "source": [
    "class MyClass:\n",
    "    class_variable = 0\n",
    "\n",
    "    @classmethod\n",
    "    def increment_class_variable(cls):\n",
    "        cls.class_variable += 1\n",
    "        return cls.class_variable\n",
    "\n",
    "print(MyClass.increment_class_variable())\n",
    "print(MyClass.increment_class_variable())\n"
   ]
  },
  {
   "cell_type": "markdown",
   "metadata": {},
   "source": [
    "3. `@property`"
   ]
  },
  {
   "cell_type": "markdown",
   "metadata": {},
   "source": [
    "- Define methods in a class that can be accessed like attributes\n",
    "- Allows you to encapsulate instance attributes and provide controlled access to them. "
   ]
  },
  {
   "cell_type": "code",
   "execution_count": null,
   "metadata": {},
   "outputs": [],
   "source": [
    "class Person:\n",
    "    def __init__(self, name):\n",
    "        self._name = name\n",
    "\n",
    "    # @property provides a way to define a read-only attribute\n",
    "    @property\n",
    "    def name(self):\n",
    "        return self._name\n",
    "\n",
    "    # xxx.setter is a decorator that makes the name method a setter for the name property\n",
    "    # @name.setter\n",
    "    # def name(self, value):\n",
    "    #     if not isinstance(value, str):\n",
    "    #         raise ValueError(\"Name must be a string\")\n",
    "    #     self._name = value\n",
    "\n",
    "# Usage\n",
    "p = Person(\"Alice\")\n",
    "print(p.name)\n",
    "p.name = \"Bob\""
   ]
  },
  {
   "cell_type": "markdown",
   "metadata": {},
   "source": [
    "**Exercise**"
   ]
  },
  {
   "cell_type": "markdown",
   "metadata": {},
   "source": [
    "Your task is to use abstract classes and decorators together:\n",
    "1. Create an abstract class called `Calculator` with an abstract method calculate().\n",
    "2. Implement two subclasses, `Adder` and `Multiplier`, that inherit from `Calculator`.\n",
    "   1. `Adder` should take two numbers and return their sum.\n",
    "   2. `Multiplier` should take two numbers and return their product.\n",
    "3. Create a decorator called `log_calculation` that logs the calculation process.\n",
    "   1. print result of calculation\n",
    "4. Apply the decorator to the `calculate()` method of both subclasses."
   ]
  },
  {
   "cell_type": "code",
   "execution_count": null,
   "metadata": {},
   "outputs": [],
   "source": []
  },
  {
   "cell_type": "markdown",
   "metadata": {},
   "source": [
    "## Operator overloading"
   ]
  },
  {
   "cell_type": "markdown",
   "metadata": {},
   "source": [
    "Operator overloading allows you to define custom behavior for operators in user-defined classes. "
   ]
  },
  {
   "cell_type": "markdown",
   "metadata": {},
   "source": [
    "Here're some common special methods used for operator overloading: \n",
    "- `__add__(self, other)`: To overload the + operator.\n",
    "- `__sub__(self, other)`: To overload the - operator.\n",
    "- `__mul__(self, other`): To overload the * operator.\n",
    "- `__le__(self, other)`: To overload the <= operator.\n",
    "- `__eq__(self, other)`: To overload the == operator.\n",
    "- `__ne__(self, other)`: To overload the != operator.\n",
    "- `__gt__(self, other)`: To overload the > operator.\n",
    "- `__ge__(self, other)`: To overload the >= operator.\n"
   ]
  },
  {
   "cell_type": "code",
   "execution_count": null,
   "metadata": {},
   "outputs": [],
   "source": [
    "class Vector:\n",
    "    def __init__(self, x, y):\n",
    "        self.x = x\n",
    "        self.y = y\n",
    "        \n",
    "    # \"other\" means the other object to be added\n",
    "    def __add__(self, other):\n",
    "        return Vector(self.x + other.x, self.y + other.y)\n",
    "    \n",
    "    def __mul__(self, scalar):\n",
    "        return Vector(self.x * scalar, self.y * scalar)\n",
    "\n",
    "    def __lt__(self, other):\n",
    "        return (self.x**2 + self.y**2) < (other.x**2 + other.y**2)\n",
    "\n",
    "    def __le__(self, other):\n",
    "        return (self.x**2 + self.y**2) <= (other.x**2 + other.y**2)\n",
    "\n",
    "    def __eq__(self, other):\n",
    "        return self.x == other.x and self.y == other.y\n",
    "\n",
    "    def __str__(self):\n",
    "        return f\"Vector({self.x}, {self.y})\"\n",
    "v1 = Vector(2, 3)\n",
    "v2 = Vector(5, 7)\n",
    "print(v1 + v2)\n",
    "print(v1 * 3)\n",
    "print(v1 < v2)\n",
    "print(v1 <= v2)\n",
    "print(v1 == v2)"
   ]
  },
  {
   "cell_type": "markdown",
   "metadata": {},
   "source": [
    "## Iterator"
   ]
  },
  {
   "cell_type": "markdown",
   "metadata": {},
   "source": [
    "- An iterator is an object in Python that can be iterated upon, meaning that you can traverse through all the values.\n",
    "- Iterators are implemented using two special methods: `__iter__()` and` __next__()`\n",
    "    - To create an iterator, we need to implement both `__iter__()` and `__next__()` methods in a class.\n",
    "- Note: `for` loop works based on iterators"
   ]
  },
  {
   "cell_type": "markdown",
   "metadata": {},
   "source": [
    "### Iterable vs. iterator"
   ]
  },
  {
   "cell_type": "markdown",
   "metadata": {},
   "source": [
    "- Iterable is an object that any user can iterate over\n",
    "- Iterator is an iterable object that helps a user in iterating over another object"
   ]
  },
  {
   "cell_type": "markdown",
   "metadata": {},
   "source": [
    "Example:"
   ]
  },
  {
   "cell_type": "code",
   "execution_count": null,
   "metadata": {},
   "outputs": [],
   "source": [
    "# list is an iterable variable, but not an iterator\n",
    "lst = [1, 2, 3, 4, 5]\n",
    "print(next(lst))"
   ]
  },
  {
   "cell_type": "code",
   "execution_count": null,
   "metadata": {},
   "outputs": [],
   "source": [
    "# Convert list to an iterator\n",
    "lst = [1, 2, 3, 4, 5]\n",
    "lst_iterator = iter(lst)\n",
    "print(next(lst_iterator))\n",
    "print(next(lst_iterator))"
   ]
  },
  {
   "cell_type": "markdown",
   "metadata": {},
   "source": [
    "### Creating an iterator"
   ]
  },
  {
   "cell_type": "markdown",
   "metadata": {},
   "source": [
    "Example:"
   ]
  },
  {
   "cell_type": "code",
   "execution_count": null,
   "metadata": {},
   "outputs": [],
   "source": [
    "class Counter:\n",
    "    def __init__(self, limit):\n",
    "        self.limit = limit\n",
    "        self.current = 0\n",
    "    # __iter__ method defines the object as an iterator\n",
    "    def __iter__(self):\n",
    "        return self\n",
    "\n",
    "    # __next__ method define the behavior of the iterator (how it iterates the numbers)\n",
    "    # Return the next object in the sequence\n",
    "    def __next__(self):\n",
    "        if self.current < self.limit:\n",
    "            self.current += 1\n",
    "            return self.current\n",
    "        else:\n",
    "            # StopIteration is raised when the iterator is exhausted\n",
    "            raise StopIteration\n",
    "\n",
    "# Using the iterator\n",
    "counter = Counter(5)\n",
    "for number in counter:\n",
    "    print(number)"
   ]
  },
  {
   "cell_type": "markdown",
   "metadata": {},
   "source": [
    "If you don't raise StopIteration, the iteration will never stop:"
   ]
  },
  {
   "cell_type": "code",
   "execution_count": null,
   "metadata": {},
   "outputs": [],
   "source": [
    "class InfiniteCounter:\n",
    "    def __init__(self):\n",
    "        self.current = 0\n",
    "\n",
    "    def __iter__(self):\n",
    "        return self\n",
    "\n",
    "    def __next__(self):\n",
    "        self.current += 1\n",
    "        return self.current\n",
    "\n",
    "# Using the infinite iterator\n",
    "infinite_counter = InfiniteCounter()\n",
    "for number in infinite_counter:\n",
    "    print(number)\n",
    "# ... and so on"
   ]
  },
  {
   "cell_type": "markdown",
   "metadata": {},
   "source": [
    "## Generator"
   ]
  },
  {
   "cell_type": "markdown",
   "metadata": {},
   "source": [
    "- Generator is a iterator\n",
    "- It allows you to iterate through a sequence of values but does not store them in memory. \n",
    "- Instead, it generates values on the fly as you iterate over them.\n",
    "- When the `next()` method is called for the first time, the function starts executing until it reaches the `yield` statement, which returns the yielded value."
   ]
  },
  {
   "cell_type": "markdown",
   "metadata": {},
   "source": [
    "### Advantages of generators"
   ]
  },
  {
   "cell_type": "markdown",
   "metadata": {},
   "source": [
    "### Differences between functions and generators"
   ]
  },
  {
   "cell_type": "markdown",
   "metadata": {},
   "source": [
    "- Memory efficiency: They only generate values one at a time as needed, which is memory efficient.\n",
    "- Represent infinite sequences: Generators can represent an infinite sequence of values.\n",
    "- Cleaner code: Using yield can lead to more readable and maintainable code compared to managing the state with class-based iterators."
   ]
  },
  {
   "cell_type": "markdown",
   "metadata": {},
   "source": [
    "- Function: executes and returns a single result.\n",
    "- Generator: yields multiple results, one at a time, using the yield statement."
   ]
  },
  {
   "cell_type": "markdown",
   "metadata": {},
   "source": [
    "### Generator functions"
   ]
  },
  {
   "cell_type": "markdown",
   "metadata": {},
   "source": [
    "A generator function uses the `yield` keyword instead of `return`:"
   ]
  },
  {
   "cell_type": "code",
   "execution_count": null,
   "metadata": {},
   "outputs": [],
   "source": [
    "def simple_generator():\n",
    "    yield 1\n",
    "    yield 2\n",
    "    yield 3\n",
    "\n",
    "# Using the generator\n",
    "# You need to assign the generator to a variable\n",
    "# If you don't assign it to a variable, the generator will be created and immediately destroyed\n",
    "gen = simple_generator()\n",
    "print(next(simple_generator()))\n",
    "print(next(simple_generator()))\n",
    "print(next(simple_generator()))"
   ]
  },
  {
   "cell_type": "markdown",
   "metadata": {},
   "source": [
    "## Generator expressions"
   ]
  },
  {
   "cell_type": "markdown",
   "metadata": {},
   "source": [
    "Generator expressions provide a compact generator syntax. They are similar to list comprehensions but use parentheses instead of square brackets."
   ]
  },
  {
   "cell_type": "code",
   "execution_count": null,
   "metadata": {},
   "outputs": [],
   "source": [
    "gen_expr = (x*x for x in range(3))\n",
    "print(next(gen_expr))  # Output: 0\n",
    "print(next(gen_expr))  # Output: 1\n",
    "print(next(gen_expr))  # Output: 4"
   ]
  },
  {
   "cell_type": "markdown",
   "metadata": {},
   "source": [
    "### Generator methods"
   ]
  },
  {
   "cell_type": "markdown",
   "metadata": {},
   "source": [
    "- next(): Retrieves the next value from the generator.\n",
    "- send(value): Resumes the generator and sends a value that can be used to modify the internal state.\n",
    "- close(): Terminates the generator."
   ]
  },
  {
   "cell_type": "code",
   "execution_count": null,
   "metadata": {},
   "outputs": [],
   "source": [
    "def count_up_to(max):\n",
    "    count = 1\n",
    "    while count <= max:\n",
    "        value = (yield count)\n",
    "        if value is not None:\n",
    "            count = value\n",
    "        else:\n",
    "            count += 1\n",
    "\n",
    "counter = count_up_to(5)\n",
    "print(next(counter))\n",
    "print(counter.send(3))\n",
    "print(next(counter))\n",
    "print(next(counter))"
   ]
  },
  {
   "cell_type": "markdown",
   "metadata": {},
   "source": [
    "**Exercise**"
   ]
  },
  {
   "cell_type": "markdown",
   "metadata": {},
   "source": [
    "Create a fibonacci sequence generator that return first 100 fibonacci number:"
   ]
  },
  {
   "cell_type": "code",
   "execution_count": null,
   "metadata": {},
   "outputs": [],
   "source": [
    "def fibonacci():\n",
    "    pass"
   ]
  }
 ],
 "metadata": {
  "kernelspec": {
   "display_name": "python-course",
   "language": "python",
   "name": "python3"
  },
  "language_info": {
   "codemirror_mode": {
    "name": "ipython",
    "version": 3
   },
   "file_extension": ".py",
   "mimetype": "text/x-python",
   "name": "python",
   "nbconvert_exporter": "python",
   "pygments_lexer": "ipython3",
   "version": "3.12.4"
  }
 },
 "nbformat": 4,
 "nbformat_minor": 2
}
