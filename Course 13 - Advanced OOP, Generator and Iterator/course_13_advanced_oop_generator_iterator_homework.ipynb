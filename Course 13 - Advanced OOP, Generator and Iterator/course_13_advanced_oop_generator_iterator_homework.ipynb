{
 "cells": [
  {
   "cell_type": "markdown",
   "metadata": {},
   "source": [
    "# Problem 1"
   ]
  },
  {
   "cell_type": "markdown",
   "metadata": {},
   "source": [
    "- Create an abstract class `Shape` with an abstract method `area()`. \n",
    "- Then, create two subclasses `Circle` and `Rectangle` that implement the area() method.\n",
    "  - For `area()` method in `Circle`, you need to know the width and height (two parameters)\n",
    "  - For `area()` method in `Rectangle`, you need to know the radius (one parameter)"
   ]
  },
  {
   "cell_type": "code",
   "execution_count": null,
   "metadata": {},
   "outputs": [],
   "source": [
    "\n"
   ]
  },
  {
   "cell_type": "markdown",
   "metadata": {},
   "source": [
    "# Problem 2"
   ]
  },
  {
   "cell_type": "markdown",
   "metadata": {},
   "source": [
    "Create a decorator `timeit` that prints the time a function takes to execute.\n",
    "- print format: \"Function tooks {interval} seconds to execute\"\n",
    "- Note: to measure time interval, use time.time().\n",
    "  - time.time() will return current time in seconds"
   ]
  },
  {
   "cell_type": "code",
   "execution_count": null,
   "metadata": {},
   "outputs": [],
   "source": [
    "import time\n",
    "\n",
    "# Your decorator function:\n",
    "def timeit(func):\n",
    "    pass\n",
    "\n",
    "# Given function\n",
    "def calculate_factorial(n):\n",
    "    if n == 0:\n",
    "        return 1\n",
    "    else:\n",
    "        return n * calculate_factorial(n - 1)\n",
    "\n",
    "print(calculate_factorial(10))"
   ]
  },
  {
   "cell_type": "markdown",
   "metadata": {},
   "source": [
    "# Problem 3"
   ]
  },
  {
   "cell_type": "markdown",
   "metadata": {},
   "source": [
    "Implement a class `Reverse` that takes a list and iterates over it in reverse order"
   ]
  },
  {
   "cell_type": "code",
   "execution_count": null,
   "metadata": {},
   "outputs": [],
   "source": [
    "# Given Reverse class, add __iter__() and __next__()\n",
    "class Reverse:\n",
    "    def __init__(self, data):\n",
    "        # data in list\n",
    "        self.data = data\n",
    "        # Current index\n",
    "        self.index = len(data)\n",
    "    \n",
    "rev = Reverse([1, 2, 3, 4])\n",
    "for item in rev:\n",
    "    print(item) "
   ]
  },
  {
   "cell_type": "markdown",
   "metadata": {},
   "source": [
    "# Problem 4"
   ]
  },
  {
   "cell_type": "markdown",
   "metadata": {},
   "source": [
    "Create a class Matrix to represent a 2x2 matrix and overload the +, -, and * operators to perform matrix addition, subtraction, and multiplication. Also, implement a method to represent the matrix in a readable format (`__repr__` method).\n",
    "- Note: for all operations between matrices, the operations are done between corresponding elements in the identical position. \n",
    "- For example, [[1,2],[3,4]] + [[5,6],[7,8]] = [[1+5,2+6],[3+7,4+8]]"
   ]
  },
  {
   "cell_type": "code",
   "execution_count": null,
   "metadata": {},
   "outputs": [],
   "source": [
    "# Given class\n",
    "class Matrix:\n",
    "    def __init__(self, a11, a12, a21, a22):\n",
    "        self.a11 = a11\n",
    "        self.a12 = a12\n",
    "        self.a21 = a21\n",
    "        self.a22 = a22\n",
    "\n",
    "    # Fill out the overloading methods respectively:\n",
    "\n",
    "m1 = Matrix(1, 2, 3, 4)\n",
    "m2 = Matrix(5, 6, 7, 8)\n",
    "\n",
    "print(\"Matrix 1:\")\n",
    "print(m1)\n",
    "print(\"\\nMatrix 2:\")\n",
    "print(m2)\n",
    "\n",
    "print(\"\\nMatrix Addition:\")\n",
    "print(m1 + m2)  \n",
    "print(\"\\nMatrix Subtraction:\")\n",
    "print(m1 - m2)\n",
    "print(\"\\nMatrix Multiplication:\")\n",
    "print(m1 * m2)"
   ]
  }
 ],
 "metadata": {
  "kernelspec": {
   "display_name": "base",
   "language": "python",
   "name": "python3"
  },
  "language_info": {
   "codemirror_mode": {
    "name": "ipython",
    "version": 3
   },
   "file_extension": ".py",
   "mimetype": "text/x-python",
   "name": "python",
   "nbconvert_exporter": "python",
   "pygments_lexer": "ipython3",
   "version": "3.11.6"
  }
 },
 "nbformat": 4,
 "nbformat_minor": 2
}
