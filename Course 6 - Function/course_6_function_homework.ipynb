{
 "cells": [
  {
   "cell_type": "markdown",
   "metadata": {},
   "source": [
    "Problem 1: Fibonacci sequence\n",
    "\n",
    "Define a function `fibonacci` that generates a list of the first `n` Fibonacci numbers.\n",
    "- The function should take one argument: `n` (the number of Fibonacci numbers to generate).\n",
    "- Print a list of the first `n` Fibonacci numbers."
   ]
  },
  {
   "cell_type": "code",
   "execution_count": null,
   "metadata": {},
   "outputs": [],
   "source": [
    "# fibonacci(5) -> [0, 1, 1, 2, 3]\n",
    "# fibonacci(10) -> [0, 1, 1, 2, 3, 5, 8, 13, 21, 34]\n",
    "n = int(input())\n",
    "def fibonacci(n):\n",
    "    pass"
   ]
  },
  {
   "cell_type": "markdown",
   "metadata": {},
   "source": [
    "Problem 2: Factorial calculator\n",
    "\n",
    "Define a function `factorial` that calculates the factorial of a given non-negative integer.\n",
    "- The function should take one argument: n (the integer for which the factorial is to be calculated).\n",
    "- Print the factorial of n."
   ]
  },
  {
   "cell_type": "code",
   "execution_count": null,
   "metadata": {},
   "outputs": [],
   "source": [
    "def factorial(n):\n",
    "    pass"
   ]
  },
  {
   "cell_type": "markdown",
   "metadata": {},
   "source": [
    "Problem 3: Sorted() function"
   ]
  },
  {
   "cell_type": "markdown",
   "metadata": {},
   "source": [
    "- Sort primarily by the last character of the name in ascending order.\n",
    "  - Note: last charater of string: `x[-1]`\n",
    "- If two names have the same last character, sort by the length of the name in descending order.\n",
    "- If two names have the same last character and the same length, sort them based on default order\n",
    "\n",
    "Solve it within one line"
   ]
  },
  {
   "cell_type": "code",
   "execution_count": null,
   "metadata": {},
   "outputs": [],
   "source": [
    "data = [\n",
    "    \"Elizabeth\",\n",
    "    \"Charlotte\",\n",
    "    \"Isabella\",\n",
    "    \"Mia\",\n",
    "    \"Sophia\",\n",
    "    \"Amelia\",\n",
    "    \"James\",\n",
    "    \"Benjamin\",\n",
    "    \"Alexander\",\n",
    "    \"William\"\n",
    "]"
   ]
  }
 ],
 "metadata": {
  "kernelspec": {
   "display_name": "python-course",
   "language": "python",
   "name": "python3"
  },
  "language_info": {
   "name": "python",
   "version": "3.12.4"
  }
 },
 "nbformat": 4,
 "nbformat_minor": 2
}
