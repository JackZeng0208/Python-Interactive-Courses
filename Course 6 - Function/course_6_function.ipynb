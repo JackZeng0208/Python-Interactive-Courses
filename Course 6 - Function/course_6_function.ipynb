{
 "cells": [
  {
   "cell_type": "markdown",
   "metadata": {},
   "source": [
    "# Course 6 - Function"
   ]
  },
  {
   "cell_type": "markdown",
   "metadata": {},
   "source": [
    "## 1. Function Basic"
   ]
  },
  {
   "cell_type": "markdown",
   "metadata": {},
   "source": [
    "To define a function in Python, use the following syntax:"
   ]
  },
  {
   "cell_type": "markdown",
   "metadata": {},
   "source": [
    "```python\n",
    "def function_name(parameter1, parameter2,...):\n",
    "    \"\"\"\n",
    "    Write your Docstring\n",
    "    \"\"\"\n",
    "    # Your own code\n",
    "    return value\n",
    "```"
   ]
  },
  {
   "cell_type": "markdown",
   "metadata": {},
   "source": [
    "Note: `return` value is optional"
   ]
  },
  {
   "cell_type": "markdown",
   "metadata": {},
   "source": [
    "Example:"
   ]
  },
  {
   "cell_type": "code",
   "execution_count": null,
   "metadata": {},
   "outputs": [],
   "source": [
    "# We can pass a variable to a function\n",
    "# Ex: \"name\" is a variable that is passed to the function \"greet\"\n",
    "def greet(name):\n",
    "    print(f\"Hello, {name}!\")\n",
    "name = \"Alex\"\n",
    "greet(name)"
   ]
  },
  {
   "cell_type": "markdown",
   "metadata": {},
   "source": [
    "### Return values"
   ]
  },
  {
   "cell_type": "markdown",
   "metadata": {},
   "source": [
    "The `return` statement is used to exit a function and return a value."
   ]
  },
  {
   "cell_type": "code",
   "execution_count": null,
   "metadata": {},
   "outputs": [],
   "source": [
    "def square(number):\n",
    "    return number ** 2\n",
    "    # Note: code after return statement will not be executed\n",
    "    print(x ** 2)\n",
    "square(4)"
   ]
  },
  {
   "cell_type": "markdown",
   "metadata": {},
   "source": [
    "### Return Docstring"
   ]
  },
  {
   "cell_type": "markdown",
   "metadata": {},
   "source": [
    "Using the `.__doc__` attribute associated with the function to return the Docstring"
   ]
  },
  {
   "cell_type": "code",
   "execution_count": null,
   "metadata": {},
   "outputs": [],
   "source": [
    "def example_function():\n",
    "    \"\"\"\n",
    "    This is the docstring for example_function.\n",
    "    It explains what the function does.\n",
    "    \"\"\"\n",
    "    print(\"Function is called.\")\n",
    "\n",
    "# Accessing the docstring\n",
    "print(example_function.__doc__)"
   ]
  },
  {
   "cell_type": "markdown",
   "metadata": {},
   "source": [
    "Extra knowledge - how to write proper Docstring?\n",
    "- [Python official Docstring](https://peps.python.org/pep-0257/)\n",
    "- [Google Style Guide](https://google.github.io/styleguide/pyguide.html#38-comments-and-docstrings)"
   ]
  },
  {
   "cell_type": "markdown",
   "metadata": {},
   "source": [
    "## 2. Function arguments"
   ]
  },
  {
   "cell_type": "markdown",
   "metadata": {},
   "source": [
    "Functions can take arguments to process within their body.\n",
    "- Parameter: a variable named in the function or method definition\n",
    "- Argument: actual value that is passed to the function or method "
   ]
  },
  {
   "cell_type": "markdown",
   "metadata": {},
   "source": [
    "### Positional arguments"
   ]
  },
  {
   "cell_type": "markdown",
   "metadata": {},
   "source": [
    "Arguments passed to a function based on their position (in default scenario)."
   ]
  },
  {
   "cell_type": "code",
   "execution_count": null,
   "metadata": {},
   "outputs": [],
   "source": [
    "def add(a, b):\n",
    "    return a + b\n",
    "\n",
    "# Pass the parameters to the function in the same order as they are defined\n",
    "# a -> 3\n",
    "# b -> 5\n",
    "print(add(3, 5))"
   ]
  },
  {
   "cell_type": "markdown",
   "metadata": {},
   "source": [
    "#### Positional-only parameter (optional knowledge, since Python 3.8)"
   ]
  },
  {
   "cell_type": "markdown",
   "metadata": {},
   "source": [
    "The `/` symbol in a function definition specifies that **all preceding parameters** must provide positions"
   ]
  },
  {
   "cell_type": "markdown",
   "metadata": {},
   "source": [
    "Example:"
   ]
  },
  {
   "cell_type": "code",
   "execution_count": null,
   "metadata": {},
   "outputs": [],
   "source": [
    "def greet(name, /, age, city):\n",
    "    print(f\"Hello, {name}. You are {age} years old and live in {city}.\")\n",
    "\n",
    "# Valid calls\n",
    "greet(\"Alice\", 30, \"New York\")\n",
    "\n",
    "# Invalid call\n",
    "# \"name\" is a positional-only parameter because it is defined before the \"/\" separator\n",
    "greet(name=\"Alice\", age=30, city=\"New York\")"
   ]
  },
  {
   "cell_type": "markdown",
   "metadata": {},
   "source": [
    "### Keyword arguments"
   ]
  },
  {
   "cell_type": "markdown",
   "metadata": {},
   "source": [
    "Order of the argument doesn't matter if you specify the parameter name."
   ]
  },
  {
   "cell_type": "code",
   "execution_count": null,
   "metadata": {},
   "outputs": [],
   "source": [
    "def introduce(name, age):\n",
    "    print(f\"Hello, my name is {name} and I am {age} years old.\")\n",
    "\n",
    "# You don't need to pass the arguments in the same order as they are defined\n",
    "introduce(age=25, name=\"Alice\")"
   ]
  },
  {
   "cell_type": "markdown",
   "metadata": {},
   "source": [
    "#### Keyword-only parameter (optional knowledge, since Python 3.8)"
   ]
  },
  {
   "cell_type": "markdown",
   "metadata": {},
   "source": [
    "The `*` symbol in a function definition specifies that **all following parameters** must be provided as keyword arguments."
   ]
  },
  {
   "cell_type": "markdown",
   "metadata": {},
   "source": [
    "Example:"
   ]
  },
  {
   "cell_type": "code",
   "execution_count": null,
   "metadata": {},
   "outputs": [],
   "source": [
    "def greet(name, age, *, city):\n",
    "    print(f\"Hello, {name}. You are {age} years old and live in {city}.\")\n",
    "\n",
    "# Valid call\n",
    "greet(\"Alice\", 30, city=\"New York\")\n",
    "\n",
    "# Invalid call\n",
    "# \"city\" is a keyword-only parameter because it is defined after the \"*\" separator\n",
    "greet(\"Alice\", 30, \"New York\")"
   ]
  },
  {
   "cell_type": "markdown",
   "metadata": {},
   "source": [
    "### Default arguments"
   ]
  },
  {
   "cell_type": "markdown",
   "metadata": {},
   "source": [
    "We can set default arguments for the parameters if no value is passed"
   ]
  },
  {
   "cell_type": "code",
   "execution_count": null,
   "metadata": {},
   "outputs": [],
   "source": [
    "# You can set multiple default values and required values in the same function\n",
    "def greet(name=\"Stranger\"):\n",
    "    print(f\"Hello, {name}!\")\n",
    "\n",
    "# No name passed, so the default value is used\n",
    "greet()\n",
    "greet(\"Alice\")"
   ]
  },
  {
   "cell_type": "markdown",
   "metadata": {},
   "source": [
    "### Variable-length arguments"
   ]
  },
  {
   "cell_type": "markdown",
   "metadata": {},
   "source": [
    "Functions can accept an **arbitrary** number of arguments using `*`\n",
    "- Non-keyword arguments"
   ]
  },
  {
   "cell_type": "code",
   "execution_count": null,
   "metadata": {},
   "outputs": [],
   "source": [
    "# Doesn't have to name it as \"args\"\n",
    "def sum_all(*args):\n",
    "    # Here, args is a sequence of all passed arguments (a tuple)\n",
    "    print(args)\n",
    "    return sum(args)\n",
    "print(sum_all(1,2,3,4))"
   ]
  },
  {
   "cell_type": "markdown",
   "metadata": {},
   "source": [
    "Functions can also accept an **arbitrary** number of key-value pairs using `**`"
   ]
  },
  {
   "cell_type": "code",
   "execution_count": null,
   "metadata": {},
   "outputs": [],
   "source": [
    "# Doesn't have to name it as \"kwargs\"\n",
    "def display_info(**kwargs):\n",
    "    print(kwargs)\n",
    "    for key, value in kwargs.items():\n",
    "        print(f\"{key}: {value}\")\n",
    "display_info(name=\"Alice\", age=30, city=\"New York\")"
   ]
  },
  {
   "cell_type": "markdown",
   "metadata": {},
   "source": [
    "**Exercise**"
   ]
  },
  {
   "cell_type": "code",
   "execution_count": null,
   "metadata": {},
   "outputs": [],
   "source": [
    "# Define a function named convert_to_fahrenheit that takes a single parameter celsius and returns the equivalent temperature in Fahrenheit.\n",
    "# The formula to convert Celsius to Fahrenheit is: F = C * 9/5 + 32\n",
    "def convert_to_fahrenheit(C):\n",
    "    return C*9/5+32\n",
    "print(convert_to_fahrenheit(30))"
   ]
  },
  {
   "cell_type": "code",
   "execution_count": null,
   "metadata": {},
   "outputs": [],
   "source": [
    "# Define a function named shopping_cart that accepts an arbitrary number of keyword arguments representing items and their prices. \n",
    "# The function should return the total cost.\n",
    "# Note: the values method of the dictionary object: dict.values()\n",
    "# Example: shopping_cart(shoes=50, jeans=25, tshirt=10) returns 85\n",
    "def shopping_cart(**a):  \n",
    "    return sum(a.values())\n",
    "total = shopping_cart(shoes=50, jeans=25, tshirt=10)  \n",
    "print(f\"总成本为: {total}元\")"
   ]
  },
  {
   "cell_type": "code",
   "execution_count": null,
   "metadata": {},
   "outputs": [],
   "source": [
    "# Define a function named \"invite\" that takes a name parameter and an optional event parameter with a default value of \"party\". \n",
    "# The function should print an invitation message.\n",
    "# Example: invite(\"Alice\") prints \"Alice is invited to a party.\"\n",
    "# Example: invite(\"Bob\", \"wedding\") prints \"Bob is invited to a wedding.\"\n",
    "def invite(name, event=\"party\"):\n",
    "    print(f'{name} is invited to a {event}')\n",
    "invite(\"Alice\")\n",
    "invite(\"Bob\", \"wedding\")"
   ]
  },
  {
   "cell_type": "markdown",
   "metadata": {},
   "source": [
    "## 3. Scope of variables"
   ]
  },
  {
   "cell_type": "markdown",
   "metadata": {},
   "source": [
    "The scope of a variable determines where it can be accessed. Variables defined **inside a function** are local to that function."
   ]
  },
  {
   "cell_type": "markdown",
   "metadata": {},
   "source": [
    "Example (what will happen for variable `local_variable` here?):"
   ]
  },
  {
   "cell_type": "code",
   "execution_count": null,
   "metadata": {},
   "outputs": [],
   "source": [
    "def my_function():\n",
    "    local_variable = 10\n",
    "    print(local_variable)\n",
    "\n",
    "my_function()\n",
    "print(local_variable)"
   ]
  },
  {
   "cell_type": "markdown",
   "metadata": {},
   "source": [
    "**Global variables**: variables defined outside any function are global and can be accessed anywhere in the code."
   ]
  },
  {
   "cell_type": "code",
   "execution_count": null,
   "metadata": {},
   "outputs": [],
   "source": [
    "global_variable = 20\n",
    "\n",
    "def my_function():\n",
    "    print(global_variable)\n",
    "\n",
    "my_function()\n",
    "print(global_variable)"
   ]
  },
  {
   "cell_type": "markdown",
   "metadata": {},
   "source": [
    "## 4. `lambda` function"
   ]
  },
  {
   "cell_type": "markdown",
   "metadata": {},
   "source": [
    "- A lambda function is a small anonymous function defined with the `lambda` keyword.\n",
    "- Lambda functions can take **any number of arguments** but can only have **one expression**.\n",
    "  - Short option for "
   ]
  },
  {
   "cell_type": "markdown",
   "metadata": {},
   "source": [
    "Basic syntax:"
   ]
  },
  {
   "cell_type": "markdown",
   "metadata": {},
   "source": [
    "```python\n",
    "lambda arguments: expression\n",
    "```"
   ]
  },
  {
   "cell_type": "markdown",
   "metadata": {},
   "source": [
    "Example:"
   ]
  },
  {
   "cell_type": "code",
   "execution_count": null,
   "metadata": {},
   "outputs": [],
   "source": [
    "add = lambda x, y: x + y\n",
    "print(add(2, 3))\n",
    "\n",
    "# It is equivalent to\n",
    "def add(x, y):\n",
    "    return x + y\n",
    "print(add(2, 3))"
   ]
  },
  {
   "cell_type": "markdown",
   "metadata": {},
   "source": [
    "**Exercise**"
   ]
  },
  {
   "cell_type": "code",
   "execution_count": null,
   "metadata": {},
   "outputs": [],
   "source": [
    "# Write a lambda function that takes a single parameter and returns its square.\n",
    "# Write the equivalent function definition first, then the lambda function.\n",
    "lambda i: i**2"
   ]
  },
  {
   "cell_type": "code",
   "execution_count": null,
   "metadata": {},
   "outputs": [],
   "source": [
    "# Define a function named convert_to_fahrenheit that takes a single parameter celsius and returns the equivalent temperature in Fahrenheit\n",
    "# The formula to convert Celsius to Fahrenheit is: F = C * 9/5 + 32\n",
    "# Use a lambda function to achieve this\n",
    "lambda c: c * 9/5 + 32"
   ]
  },
  {
   "cell_type": "markdown",
   "metadata": {},
   "source": [
    "### Use cases of `lambda` functions"
   ]
  },
  {
   "cell_type": "markdown",
   "metadata": {},
   "source": [
    "#### `lambda` function + `sorted()` function"
   ]
  },
  {
   "cell_type": "markdown",
   "metadata": {},
   "source": [
    "`sorted(key=function,iterable,reverse=bool)` function returns a sorted list. "
   ]
  },
  {
   "cell_type": "markdown",
   "metadata": {},
   "source": [
    "Difference between `.sort()` method and `sorted()` function:\n",
    "- `object.sort()` method changes object itself\n",
    "- `sorted(iterable)` function does not change the iterable variable itself, it returns the sorted result"
   ]
  },
  {
   "cell_type": "code",
   "execution_count": null,
   "metadata": {},
   "outputs": [],
   "source": [
    "num = [5,4,3,2,1]\n",
    "print(sorted(num))"
   ]
  },
  {
   "cell_type": "markdown",
   "metadata": {},
   "source": [
    "Example #1:"
   ]
  },
  {
   "cell_type": "code",
   "execution_count": null,
   "metadata": {},
   "outputs": [],
   "source": [
    "# Sort the list of strings based on the length of the strings using a lambda function (ascending order)\n",
    "# Example: ['aaa', 'b', 'cc', 'dddd'] -> ['b', 'cc', 'aaa', 'dddd']\n",
    "\n",
    "lst = ['aaa', 'b', 'cc', 'dddd']\n",
    "\n",
    "# # Default string sorting:\n",
    "# print(sorted(lst))\n",
    "\n",
    "# Custom sorting:\n",
    "print(sorted(lst, key=lambda x: len(x)))\n",
    "\n",
    "# Question: what if we want to sort the list in descending order (not using reverse keyword)?\n"
   ]
  },
  {
   "cell_type": "markdown",
   "metadata": {},
   "source": [
    "Example #2:"
   ]
  },
  {
   "cell_type": "code",
   "execution_count": null,
   "metadata": {},
   "outputs": [],
   "source": [
    "# Sort the list of numbers based on the last digit of the numbers using a lambda function (ascending order)\n",
    "# Example: [19, 28, 37, 46, 55] -> [55, 46, 37, 28, 19]\n",
    "print(sorted([19, 28, 37, 46, 55], key=lambda x: x % 10))"
   ]
  },
  {
   "cell_type": "markdown",
   "metadata": {},
   "source": [
    "##### Sort with multiple rules"
   ]
  },
  {
   "cell_type": "markdown",
   "metadata": {},
   "source": [
    "If we have a scenario when we want to sort the list based on multiple criteria with order, we can pass a **tuple of expressions** to the lambda function"
   ]
  },
  {
   "cell_type": "code",
   "execution_count": null,
   "metadata": {},
   "outputs": [],
   "source": [
    "# Sort the list of strings based on the length of the strings in ascending order and then alphabetically\n",
    "# Example: ['aaa', 'b', 'cc', 'dddd'] -> ['dddd', 'aaa', 'cc', 'b']\n",
    "lst = ['aaa', 'b', 'ccc', 'dddd']\n",
    "\n",
    "# Sort by length first, then alphabetically\n",
    "print(sorted(lst, key=lambda x: (len(x), x)))"
   ]
  },
  {
   "cell_type": "markdown",
   "metadata": {},
   "source": [
    "#### `lambda` function + `map()` function"
   ]
  },
  {
   "cell_type": "markdown",
   "metadata": {},
   "source": [
    "`map(function, iterable)` function applies a given function to all items in an input iterable and returns a sequence of the results."
   ]
  },
  {
   "cell_type": "markdown",
   "metadata": {},
   "source": [
    "Example:"
   ]
  },
  {
   "cell_type": "code",
   "execution_count": null,
   "metadata": {},
   "outputs": [],
   "source": [
    "# Doubling each number in a list\n",
    "numbers = [1, 2, 3, 4, 5]\n",
    "\n",
    "# The return value of map is `map` class, so we need to convert it to a list\n",
    "doubled = list(map(lambda x: x * 2, numbers))\n",
    "print(doubled)"
   ]
  },
  {
   "cell_type": "markdown",
   "metadata": {},
   "source": [
    "#### `lambda` function + `filter()` function"
   ]
  },
  {
   "cell_type": "markdown",
   "metadata": {},
   "source": [
    "`filter(function, iterable)` function extract elements that meet certain criteria (return value from the function)."
   ]
  },
  {
   "cell_type": "markdown",
   "metadata": {},
   "source": [
    "Example:"
   ]
  },
  {
   "cell_type": "code",
   "execution_count": null,
   "metadata": {},
   "outputs": [],
   "source": [
    "# Filtering out even numbers from a list\n",
    "numbers = [1, 2, 3, 4, 5, 6, 7, 8, 9, 10]\n",
    "\n",
    "# Same as `map()`, we need to convert the return value to a list\n",
    "print(list(filter(lambda x: x % 2 == 0, numbers)))"
   ]
  },
  {
   "cell_type": "markdown",
   "metadata": {},
   "source": [
    "**Exercise**"
   ]
  },
  {
   "cell_type": "markdown",
   "metadata": {},
   "source": [
    "Exercise #1:\n",
    "Given a list of integers, filter out all numbers that are:\n",
    "- Greater than 5\n",
    "- Even number\n",
    "- Divisible by 3\n",
    "\n",
    "Solve it within one line"
   ]
  },
  {
   "cell_type": "code",
   "execution_count": null,
   "metadata": {},
   "outputs": [],
   "source": [
    "# Output: [6, 12, 18]\n",
    "numbers = [1, 3, 5, 6, 8, 9, 12, 15, 18, 20, 21]"
   ]
  },
  {
   "cell_type": "markdown",
   "metadata": {},
   "source": [
    "Exercise #2:\n",
    "Given a list of positive integers, apply the following transformation to each integer:\n",
    "- Square the number\n",
    "- Convert the squared result to a string and append \"!\" at the end\n",
    "\n",
    "Solve it within one line"
   ]
  },
  {
   "cell_type": "code",
   "execution_count": null,
   "metadata": {},
   "outputs": [],
   "source": [
    "# Output: ['1!', '4!', '9!', '16!', '25!']\n",
    "numbers = [1, 2, 3, 4, 5]"
   ]
  },
  {
   "cell_type": "markdown",
   "metadata": {},
   "source": [
    "Exercise #3:\n",
    "- Given a list of strings, sort and print them in **descending order** based on the number of vowels (a, e, i, o, u) each string contains. \n",
    "- If two strings have the same number of vowels, maintain original ranking rule in Python"
   ]
  },
  {
   "cell_type": "markdown",
   "metadata": {},
   "source": [
    "Hints:\n",
    "- Same as list, you can iterate each character using for loop\n",
    "  - Ex: `for i in \"string\"`\n",
    "- Use the list comprehension to shorten your code"
   ]
  },
  {
   "cell_type": "code",
   "execution_count": null,
   "metadata": {},
   "outputs": [],
   "source": [
    "# ['banana', 'elderberry', 'apple', 'date', 'grape', 'cherry', 'fig']\n",
    "words = [\"apple\", \"banana\", \"cherry\", \"date\", \"elderberry\", \"fig\", \"grape\"]\n",
    "print(sorted(words, key=lambda x: (-sum([1 for i in x if i in 'aeiou']), x)))"
   ]
  }
 ],
 "metadata": {
  "kernelspec": {
   "display_name": "python-course",
   "language": "python",
   "name": "python3"
  },
  "language_info": {
   "codemirror_mode": {
    "name": "ipython",
    "version": 3
   },
   "file_extension": ".py",
   "mimetype": "text/x-python",
   "name": "python",
   "nbconvert_exporter": "python",
   "pygments_lexer": "ipython3",
   "version": "3.11.6"
  }
 },
 "nbformat": 4,
 "nbformat_minor": 2
}
