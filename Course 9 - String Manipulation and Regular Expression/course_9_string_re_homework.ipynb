{
 "cells": [
  {
   "cell_type": "markdown",
   "metadata": {},
   "source": [
    "# Problem 1: Reverse Words in a String"
   ]
  },
  {
   "cell_type": "markdown",
   "metadata": {},
   "source": [
    "Write a function that takes a string as input and returns the string with the words in reverse order. \n",
    "- For example, the string \"Hello World!\" should become \"World! Hello\"."
   ]
  },
  {
   "cell_type": "code",
   "execution_count": null,
   "metadata": {},
   "outputs": [],
   "source": [
    "def reverse_words(s):\n",
    "    pass\n",
    "\n",
    "print(reverse_words(\"Hello World!\")) \n",
    "# Output: \"fun is Python\"\n",
    "print(reverse_words(\"Python is fun\"))"
   ]
  },
  {
   "cell_type": "markdown",
   "metadata": {},
   "source": [
    "# Problem 2: Longest substring without repeating characters"
   ]
  },
  {
   "cell_type": "markdown",
   "metadata": {},
   "source": [
    "Write a function that finds the length of the longest substring without repeating characters in a given string."
   ]
  },
  {
   "cell_type": "code",
   "execution_count": null,
   "metadata": {},
   "outputs": [],
   "source": [
    "def longest_unique_substring(s):\n",
    "    pass\n",
    "\n",
    "# Output: 3 (Since \"abc\" is the longest substring with no repeating characters)\n",
    "print(longest_unique_substring(\"abcabcbb\"))\n",
    "# Output: 1 (Since \"b\" is the longest substring with no repeating characters)\n",
    "print(longest_unique_substring(\"bbbbb\"))\n",
    "# Output: 3 (Since \"wke\" is the longest substring with no repeating characters)\n",
    "print(longest_unique_substring(\"pwwkew\"))  "
   ]
  },
  {
   "cell_type": "markdown",
   "metadata": {},
   "source": [
    "# Problem 3: String compression"
   ]
  },
  {
   "cell_type": "markdown",
   "metadata": {},
   "source": [
    "Write a function that performs basic string compression using the counts of repeated characters.\n",
    "- For example, the string \"aabcccccaaa\" would become \"a2b1c5a3\". If the compressed string would not become smaller than the original string, the function should return the original string."
   ]
  },
  {
   "cell_type": "code",
   "execution_count": null,
   "metadata": {},
   "outputs": [],
   "source": [
    "def compress_string(s):\n",
    "    pass\n",
    "\n",
    "# Output: \"a2b1c5a3\"\n",
    "print(compress_string(\"aabcccccaaa\"))\n",
    "# Output: \"abcd\"\n",
    "print(compress_string(\"abcd\"))"
   ]
  },
  {
   "cell_type": "markdown",
   "metadata": {},
   "source": [
    "# Problem 4: Common characters in strings\n",
    "Source: https://leetcode.com/problems/find-common-characters/description/"
   ]
  },
  {
   "cell_type": "markdown",
   "metadata": {},
   "source": [
    "Write a function that finds all characters that appear in every string from a list of strings. The result should be a list of characters."
   ]
  },
  {
   "cell_type": "code",
   "execution_count": null,
   "metadata": {},
   "outputs": [],
   "source": [
    "def common_characters(strings):\n",
    "    pass\n",
    "\n",
    "# Output: [\"e\", \"l\"]\n",
    "print(common_characters([\"bella\", \"label\", \"roller\"]))\n",
    "# Output: [\"c\", \"o\"]\n",
    "print(common_characters([\"cool\", \"lock\", \"cook\"]))"
   ]
  }
 ],
 "metadata": {
  "kernelspec": {
   "display_name": "base",
   "language": "python",
   "name": "python3"
  },
  "language_info": {
   "codemirror_mode": {
    "name": "ipython",
    "version": 3
   },
   "file_extension": ".py",
   "mimetype": "text/x-python",
   "name": "python",
   "nbconvert_exporter": "python",
   "pygments_lexer": "ipython3",
   "version": "3.11.6"
  }
 },
 "nbformat": 4,
 "nbformat_minor": 2
}
