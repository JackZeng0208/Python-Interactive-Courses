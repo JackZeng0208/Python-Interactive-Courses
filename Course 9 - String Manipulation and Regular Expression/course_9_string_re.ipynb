{
 "cells": [
  {
   "cell_type": "markdown",
   "metadata": {},
   "source": [
    "# Course 9 - String and Regular Expression"
   ]
  },
  {
   "cell_type": "markdown",
   "metadata": {},
   "source": [
    "## Accessing characters and slicing strings"
   ]
  },
  {
   "cell_type": "markdown",
   "metadata": {},
   "source": [
    "Similar to list, we can access a character in a string through corresponding index and slice it."
   ]
  },
  {
   "cell_type": "code",
   "execution_count": null,
   "metadata": {},
   "outputs": [],
   "source": [
    "string = \"Python\"\n",
    "first_char = string[0]\n",
    "last_char = string[-1]\n",
    "\n",
    "print(\"First character is\", first_char)\n",
    "print(\"Last character is\", last_char)"
   ]
  },
  {
   "cell_type": "code",
   "execution_count": null,
   "metadata": {},
   "outputs": [],
   "source": [
    "# Slicing\n",
    "# Exactly same as list slicing\n",
    "print(string[0:2])\n",
    "print(string[2:6])\n",
    "print(string[2:])\n",
    "print(string[:2])\n",
    "print(string[::-1])\n"
   ]
  },
  {
   "cell_type": "markdown",
   "metadata": {},
   "source": [
    "### Looping through string"
   ]
  },
  {
   "cell_type": "markdown",
   "metadata": {},
   "source": [
    "Similar to list, we can use for loop to iterate over each character"
   ]
  },
  {
   "cell_type": "code",
   "execution_count": null,
   "metadata": {},
   "outputs": [],
   "source": [
    "for i in \"banana\":\n",
    "    # Prints each character in the string\n",
    "    print(i)"
   ]
  },
  {
   "cell_type": "markdown",
   "metadata": {},
   "source": [
    "### len() and `in` operator"
   ]
  },
  {
   "cell_type": "markdown",
   "metadata": {},
   "source": [
    "Use `len()` to get the length of the string"
   ]
  },
  {
   "cell_type": "code",
   "execution_count": null,
   "metadata": {},
   "outputs": [],
   "source": [
    "string_1 = \"Hello, World!\"\n",
    "print(len(string_1))"
   ]
  },
  {
   "cell_type": "markdown",
   "metadata": {},
   "source": [
    "To check a character or a string in another string, use the `in` operator."
   ]
  },
  {
   "cell_type": "code",
   "execution_count": null,
   "metadata": {},
   "outputs": [],
   "source": [
    "text = \"Hello, World!\"\n",
    "print(\"Hello\" in text)\n",
    "\n",
    "# Not in operator\n",
    "print(\"Hello \" not in text)"
   ]
  },
  {
   "cell_type": "markdown",
   "metadata": {},
   "source": [
    "## String methods"
   ]
  },
  {
   "cell_type": "markdown",
   "metadata": {},
   "source": [
    "### Basic methods"
   ]
  },
  {
   "cell_type": "markdown",
   "metadata": {},
   "source": [
    "Convert string to lower case or upper case:\n",
    "- `lower()`: return the lower case version of string\n",
    "- `upper()`: return the upper case version of string"
   ]
  },
  {
   "cell_type": "code",
   "execution_count": null,
   "metadata": {},
   "outputs": [],
   "source": [
    "text = \"Hello, World!\"\n",
    "print(text.upper())\n",
    "print(text.lower())\n",
    "# It will not change the original string\n",
    "print(text)"
   ]
  },
  {
   "cell_type": "markdown",
   "metadata": {},
   "source": [
    "Remove whitespace or any other character from the beginning and/or end of the string:\n",
    "- `strip(character)` removes any whitespace from the beginning and the end\n",
    "  - Character is optional, if not provided, it will remove whitespace\n",
    "  - Character = A set of characters to remove\n",
    "- `rstrip(character)` removes any whitespace or given set of characters at the end (right side of the string)\n",
    "- `lstrip(character)` removes any whitespace or given set of characters at the beginning (left side of the string)"
   ]
  },
  {
   "cell_type": "code",
   "execution_count": null,
   "metadata": {},
   "outputs": [],
   "source": [
    "# `strip(character)` method removes any whitespace from the beginning and the end\n",
    "# Character is optional, if not provided, it will remove whitespace\n",
    "# Remove whitespace or any other character from the beginning and/or end of the string\n",
    "# strip() method removes any whitespace from the beginning or the end\n",
    "text = \" Hello, World! \"\n",
    "print(text.strip())\n",
    "print(text.rstrip())\n",
    "print(text.lstrip())\n",
    "\n",
    "print()\n",
    "# With character\n",
    "text = \" Hello, World! \"\n",
    "print(text.strip(\" Hd!\"))\n",
    "print(text.rstrip(\"d! \"))\n",
    "print(text.lstrip(\"H \"))"
   ]
  },
  {
   "cell_type": "markdown",
   "metadata": {},
   "source": [
    "`replace(old_value, new_value)`: Replace occurrences of a substring with another substring."
   ]
  },
  {
   "cell_type": "code",
   "execution_count": null,
   "metadata": {},
   "outputs": [],
   "source": [
    "text = \"Hello, World!\"\n",
    "print(text.replace(\"H\", \"J\"))\\\n",
    "# Replace method will not change the original string\n",
    "print(text)"
   ]
  },
  {
   "cell_type": "markdown",
   "metadata": {},
   "source": [
    "`split(str, num)`:\n",
    "- Split a string into a list of substrings based on a delimiter\n",
    "\n",
    "`join(iterable)`:\n",
    "- Join a iterable variable of strings/character into a single string with a delimiter"
   ]
  },
  {
   "cell_type": "code",
   "execution_count": null,
   "metadata": {},
   "outputs": [],
   "source": [
    "# Split method examples:\n",
    "text = \"Hello, World!, Python, Programming, Language\"\n",
    "print(text.split(\", \"))\n",
    "# Only split 2 times if we set number of splits to 2\n",
    "print(text.split(\", \", 2))\n",
    "\n",
    "# Join method examples:\n",
    "text = [\"Hello\", \"World!\", \"Python\", \"Programming\", \"Language\"]\n",
    "\n",
    "# Join the list of strings and separate them with the string \", \"\n",
    "print(\", \".join(text))"
   ]
  },
  {
   "cell_type": "markdown",
   "metadata": {},
   "source": [
    "### Searching and replacing"
   ]
  },
  {
   "cell_type": "markdown",
   "metadata": {},
   "source": [
    "`find(substring)`: \n",
    "- Find the location of (index) first occurrence of a substring\n",
    "\n",
    "`rfind(substring)`:\n",
    "- Find the location of (index) last occurrence of a substring."
   ]
  },
  {
   "cell_type": "code",
   "execution_count": null,
   "metadata": {},
   "outputs": [],
   "source": [
    "text = \"Hello, World!\"\n",
    "print(text.find(\"World\"))\n",
    "# If the substring is not found, it will return -1\n",
    "print(text.find(\"Python\"))\n",
    "\n",
    "text = \"Hello, World! World! World!\"\n",
    "print(text.rfind(\"World\"))\n",
    "print(text.rfind(\"Python\"))\n"
   ]
  },
  {
   "cell_type": "markdown",
   "metadata": {},
   "source": [
    "`startswith(string)` and `endswith(string)`: Check if a string starts or ends with a specified substring."
   ]
  },
  {
   "cell_type": "code",
   "execution_count": null,
   "metadata": {},
   "outputs": [],
   "source": [
    "text = \"Hello, World!\"\n",
    "print(text.startswith(\"Hello\"))\n",
    "print(text.startswith(\"World\"))\n",
    "print(text.endswith(\"World!\"))"
   ]
  },
  {
   "cell_type": "markdown",
   "metadata": {},
   "source": [
    "`count()`: Count the occurrences of a substring in a string."
   ]
  },
  {
   "cell_type": "code",
   "execution_count": null,
   "metadata": {},
   "outputs": [],
   "source": [
    "text = \"Hello, World!\"\n",
    "print(text.count(\"o\"))"
   ]
  },
  {
   "cell_type": "markdown",
   "metadata": {},
   "source": [
    "### `format()` and formatting type"
   ]
  },
  {
   "cell_type": "code",
   "execution_count": null,
   "metadata": {},
   "outputs": [],
   "source": [
    "# Format(): keep decimal places\n",
    "# f-string\n",
    "x = 10.012\n",
    "y = 20.031\n",
    "# separate the value and formatting type with a colon\n",
    "print(f\"The value of x is {x:.2f} and y is {y:.2f}\")\n",
    "\n",
    "# ExampleL formatting with binary\n",
    "x = 10\n",
    "print(f\"Binary representation of {x} is {x:b}\")"
   ]
  },
  {
   "cell_type": "markdown",
   "metadata": {},
   "source": [
    "To check other formatting type, please visit: https://peps.python.org/pep-3101/"
   ]
  },
  {
   "cell_type": "markdown",
   "metadata": {},
   "source": [
    "### Character checks"
   ]
  },
  {
   "cell_type": "markdown",
   "metadata": {},
   "source": [
    "`isalnum()`: Check if all characters in the string are alphanumeric."
   ]
  },
  {
   "cell_type": "code",
   "execution_count": null,
   "metadata": {},
   "outputs": [],
   "source": [
    "print(\"Hello123\".isalnum()) "
   ]
  },
  {
   "cell_type": "markdown",
   "metadata": {},
   "source": [
    "`isalpha()`: Check if all characters in the string are alphabetic."
   ]
  },
  {
   "cell_type": "code",
   "execution_count": null,
   "metadata": {},
   "outputs": [],
   "source": [
    "print(\"Hello\".isalpha())"
   ]
  },
  {
   "cell_type": "markdown",
   "metadata": {},
   "source": [
    "`isdigit()`: Check if all characters in the string are digits."
   ]
  },
  {
   "cell_type": "code",
   "execution_count": null,
   "metadata": {},
   "outputs": [],
   "source": [
    "print(\"123\".isdigit())"
   ]
  },
  {
   "cell_type": "markdown",
   "metadata": {},
   "source": [
    "`isspace()`: Check if all characters in the string are whitespace."
   ]
  },
  {
   "cell_type": "code",
   "execution_count": null,
   "metadata": {},
   "outputs": [],
   "source": [
    "print(\"   \".isspace())"
   ]
  },
  {
   "cell_type": "markdown",
   "metadata": {},
   "source": [
    "`istitle()`: Check if all the words in string starts with upper case letter."
   ]
  },
  {
   "cell_type": "code",
   "execution_count": null,
   "metadata": {},
   "outputs": [],
   "source": [
    "print(\"Hello World\".istitle())"
   ]
  },
  {
   "cell_type": "markdown",
   "metadata": {},
   "source": [
    "`islower()`: Check if all characters in the string are lowercase."
   ]
  },
  {
   "cell_type": "code",
   "execution_count": null,
   "metadata": {},
   "outputs": [],
   "source": [
    "print(\"hello\".islower())"
   ]
  },
  {
   "cell_type": "markdown",
   "metadata": {},
   "source": [
    "`isupper()`: Check if all characters in the string are uppercase."
   ]
  },
  {
   "cell_type": "code",
   "execution_count": null,
   "metadata": {},
   "outputs": [],
   "source": [
    "print(\"HELLO\".isupper())"
   ]
  },
  {
   "cell_type": "markdown",
   "metadata": {},
   "source": [
    "**Exercise**"
   ]
  },
  {
   "cell_type": "code",
   "execution_count": null,
   "metadata": {},
   "outputs": [],
   "source": [
    "example_string = \" The quick brown fox jumps over the lazy dog. \"\n",
    "# Clear the whitespaces in the beginning and the end and capitalize the first letter of each word.\n"
   ]
  },
  {
   "cell_type": "code",
   "execution_count": null,
   "metadata": {},
   "outputs": [],
   "source": [
    "# Write a function that removes duplicate characters from a given string.\n",
    "def remove_duplicates(string):\n",
    "    pass\n",
    "\n",
    "# Output should be: \"Helo, Wrd! Pytn\"\n",
    "text = \"Hello, World! Hello, Python!\""
   ]
  },
  {
   "cell_type": "code",
   "execution_count": null,
   "metadata": {},
   "outputs": [],
   "source": [
    "# Write a function that checks if a given string is a palindrome (reads the same forward and backward)\n",
    "def is_palindrome(string):\n",
    "    pass\n",
    "\n",
    "text_1 = \"radar\"\n",
    "text_2 = \"hello\"\n",
    "text_3 = \"level\"\n",
    "print(is_palindrome(text_1))\n",
    "print(is_palindrome(text_2))\n",
    "print(is_palindrome(text_3))"
   ]
  },
  {
   "cell_type": "code",
   "execution_count": null,
   "metadata": {},
   "outputs": [],
   "source": [
    "# Write a function that counts the number of vowels (both upper and lower cases) in a given string.\n",
    "def count_vowels(string):\n",
    "    pass\n",
    "\n",
    "text = \"how many vowels are in this sentence?\"\n",
    "print(count_vowels(text))"
   ]
  },
  {
   "cell_type": "code",
   "execution_count": null,
   "metadata": {},
   "outputs": [],
   "source": [
    "# Write a function that finds the longest word in a given string.\n",
    "def longest_word(string):\n",
    "    pass\n",
    "text = \"Python is an awesome programming language\"\n",
    "print(longest_word(text))"
   ]
  },
  {
   "cell_type": "code",
   "execution_count": null,
   "metadata": {},
   "outputs": [],
   "source": [
    "# Write a function that checks if two given strings are anagrams (contain the same characters in a different order)\n",
    "def is_anagrams(s1, s2):\n",
    "    pass\n",
    "text_1 = \"listen\"\n",
    "text_2 = \"silent\"\n",
    "text_3 = \"hello\"\n",
    "print(is_anagrams(text_1, text_2))\n",
    "print(is_anagrams(text_1, text_3))"
   ]
  },
  {
   "cell_type": "code",
   "execution_count": null,
   "metadata": {},
   "outputs": [],
   "source": [
    "# Write a function that generates an acronym from a given string. \n",
    "# The acronym should be composed of the first letter of each word, converted to uppercase.\n",
    "def acronym(string):\n",
    "    pass\n",
    "\n",
    "# Output should be: \"TCP\"\n",
    "text_1 = \"Transmissions Control Protocol\"\n",
    "# Output should be: \"JVM\"\n",
    "text_2 = \"Java Virtual Machine\"\n",
    "\n",
    "print(acronym(text_1))\n",
    "print(acronym(text_2))"
   ]
  },
  {
   "cell_type": "markdown",
   "metadata": {},
   "source": [
    "## Regular Expression in Python"
   ]
  },
  {
   "cell_type": "markdown",
   "metadata": {},
   "source": [
    "A regular expression is a sequence of characters that defines a **search pattern**. This pattern can be used for string matching, searching, and manipulating text.\n",
    "- Suggestion: Use regex101.com to test your expression first"
   ]
  },
  {
   "cell_type": "markdown",
   "metadata": {},
   "source": [
    "### Basic syntax and their meaning"
   ]
  },
  {
   "cell_type": "markdown",
   "metadata": {},
   "source": [
    "#### Special characters"
   ]
  },
  {
   "cell_type": "markdown",
   "metadata": {},
   "source": [
    "- `.`: Matches any character except a newline.\n",
    "- `^`: Matches the start of the string.\n",
    "- `$`: Matches the end of the string.\n",
    "- `*`: Matches 0 or more repetitions of the preceding character.\n",
    "- `+`: Matches 1 or more repetitions of the preceding character.\n",
    "- `?`: Matches 0 or 1 repetition of the preceding character.\n",
    "- `{n}`: Matches exactly n repetitions of the preceding character.\n",
    "- `{n,}`: Matches n or more repetitions of the preceding character.\n",
    "- `{n,m}`: Matches between n and m repetitions of the preceding character.\n",
    "- `[]`: Matches any one of the characters inside the brackets.\n",
    "- `|`: Acts like a logical OR.\n",
    "- `()`: Groups expressions and captures matched text.\n",
    "- `\\`: Escapes a special character."
   ]
  },
  {
   "cell_type": "markdown",
   "metadata": {},
   "source": [
    "#### Common regex Patterns"
   ]
  },
  {
   "cell_type": "markdown",
   "metadata": {},
   "source": [
    "- `\\d`: Matches any digit (equivalent to [0-9]).\n",
    "- `\\D`: Matches any non-digit.\n",
    "- `\\w`: Matches any word character (equivalent to [a-zA-Z0-9_]).\n",
    "- `\\W`: Matches any non-word character.\n",
    "- `\\s`: Matches any whitespace character (spaces, tabs, line breaks).\n",
    "- `\\S`: Matches any non-whitespace character.\n",
    "- `\\b`: Matches a word boundary.\n",
    "- `\\B`: Matches a non-word boundary."
   ]
  },
  {
   "cell_type": "markdown",
   "metadata": {},
   "source": [
    "### Using the Python `re` module"
   ]
  },
  {
   "cell_type": "markdown",
   "metadata": {},
   "source": [
    "To use the regular expression inImport the `re` module first"
   ]
  },
  {
   "cell_type": "code",
   "execution_count": null,
   "metadata": {},
   "outputs": [],
   "source": [
    "import re"
   ]
  },
  {
   "cell_type": "markdown",
   "metadata": {},
   "source": [
    "Regular expression string is different from traditional string, it starts with `r`"
   ]
  },
  {
   "cell_type": "code",
   "execution_count": null,
   "metadata": {},
   "outputs": [],
   "source": [
    "regex = r\"\\d+\""
   ]
  },
  {
   "cell_type": "markdown",
   "metadata": {},
   "source": [
    "### Common Python regular expression functions"
   ]
  },
  {
   "cell_type": "markdown",
   "metadata": {},
   "source": [
    "- `re.search()` function searches the string for a pattern and returns the first match.\n",
    "  - Return `None` if no matches\n",
    "- `re.group(group_number=0)` extracts and retrieves specific parts of the matched text\n",
    "  - This is the index of the group you want to retrieve. \n",
    "  - The default value is 0, which returns the **entire match**. \n",
    "  - Group numbers start at 1 for the first capturing group, 2 for the second, and so on."
   ]
  },
  {
   "cell_type": "code",
   "execution_count": null,
   "metadata": {},
   "outputs": [],
   "source": [
    "text = \"Hello, world! world\"\n",
    "search = re.search(r\"world\", text)\n",
    "print(search.group())"
   ]
  },
  {
   "cell_type": "markdown",
   "metadata": {},
   "source": [
    "`re.match()` function attempts to match a pattern at the **beginning of a string.**\n",
    "- Note: it only tries to match the beginning of the string"
   ]
  },
  {
   "cell_type": "code",
   "execution_count": null,
   "metadata": {},
   "outputs": [],
   "source": [
    "text = \"Hello, world!\"\n",
    "match = re.match(r\"world\", text)\n",
    "print(match.group())"
   ]
  },
  {
   "cell_type": "markdown",
   "metadata": {},
   "source": [
    "`re.findall()` function returns a list of all matches in the string."
   ]
  },
  {
   "cell_type": "code",
   "execution_count": null,
   "metadata": {},
   "outputs": [],
   "source": [
    "text = \"Hello, world! Hello, universe!\"\n",
    "matches = re.findall(r\"Hello\", text)\n",
    "print(matches)"
   ]
  },
  {
   "cell_type": "markdown",
   "metadata": {},
   "source": [
    "`re.sub()` function replaces matches with a string."
   ]
  },
  {
   "cell_type": "code",
   "execution_count": null,
   "metadata": {},
   "outputs": [],
   "source": [
    "text = \"The price is $100.\"\n",
    "# Pattern: $ followed by one or more digits\n",
    "# Replace the price with $200\n",
    "# text -> the original text I want to search and replace\n",
    "new_text = re.sub(r\"\\$\\d+\", \"$200\", text)\n",
    "print(new_text)"
   ]
  },
  {
   "cell_type": "markdown",
   "metadata": {},
   "source": [
    "`re.split()` function splits the string by the occurrences of the pattern."
   ]
  },
  {
   "cell_type": "code",
   "execution_count": null,
   "metadata": {},
   "outputs": [],
   "source": [
    "text = \"apple,banana,orange\"\n",
    "fruits = re.split(r\",\", text)\n",
    "print(fruits)"
   ]
  },
  {
   "cell_type": "markdown",
   "metadata": {},
   "source": [
    "### Python regular expression use cases"
   ]
  },
  {
   "cell_type": "markdown",
   "metadata": {},
   "source": [
    "Digit and non-digit characters:\n",
    "- `\\d`: Matches any digit (equivalent to [0-9]).\n",
    "- `\\D`: Matches any non-digit."
   ]
  },
  {
   "cell_type": "code",
   "execution_count": null,
   "metadata": {},
   "outputs": [],
   "source": [
    "text = \"My phone number is 123-456-7890.\"\n",
    "digits = re.findall(r\"\\d+\", text)\n",
    "print(digits)"
   ]
  },
  {
   "cell_type": "markdown",
   "metadata": {},
   "source": [
    "Word and non-word characters\n",
    "- `\\w`: Matches any word character (equivalent to [a-zA-Z0-9_]).\n",
    "- `\\W`: Matches any non-word character."
   ]
  },
  {
   "cell_type": "code",
   "execution_count": null,
   "metadata": {},
   "outputs": [],
   "source": [
    "text = \"Hello, world!\"\n",
    "words = re.findall(r\"\\w+\", text)\n",
    "print(words)"
   ]
  },
  {
   "cell_type": "markdown",
   "metadata": {},
   "source": [
    "Whitespace and non-whitespace characters\n",
    "- \\s: Matches any whitespace character (spaces, tabs, line breaks).\n",
    "- \\S: Matches any non-whitespace character."
   ]
  },
  {
   "cell_type": "code",
   "execution_count": null,
   "metadata": {},
   "outputs": [],
   "source": [
    "text = \"Hello, world!\"\n",
    "whitespaces = re.findall(r\"\\s+\", text)\n",
    "print(whitespaces)"
   ]
  },
  {
   "cell_type": "markdown",
   "metadata": {},
   "source": [
    "Word boundaries\n",
    "- \\b: Matches a word boundary.\n",
    "- \\B: Matches a non-word boundary."
   ]
  },
  {
   "cell_type": "code",
   "execution_count": null,
   "metadata": {},
   "outputs": [],
   "source": [
    "text = \"The cat sat on the mat.\"\n",
    "matches = re.findall(r\"\\bcat\\b\", text)\n",
    "print(matches)"
   ]
  },
  {
   "cell_type": "markdown",
   "metadata": {},
   "source": [
    "Grouping and capturing\n",
    "- Parentheses `()` are used to group parts of a pattern and capture the matched text.\n",
    "- Use `(?:...)` for non-capturing groups."
   ]
  },
  {
   "cell_type": "code",
   "execution_count": null,
   "metadata": {},
   "outputs": [],
   "source": [
    "text = \"My phone number is 123-456-7890.\"\n",
    "\n",
    "digits = re.findall(r\"(\\d{3})-(\\d{3})-(\\d{4})\", text)\n",
    "not_digits = re.findall(r\"(?:\\d{3})-(\\d{3})-(\\d{4})\", text)\n",
    "print(digits)\n",
    "print(not_digits)"
   ]
  },
  {
   "cell_type": "markdown",
   "metadata": {},
   "source": [
    "**Exercise**"
   ]
  },
  {
   "cell_type": "code",
   "execution_count": null,
   "metadata": {},
   "outputs": [],
   "source": [
    "# Write a regex pattern to match the word \"Python\" in the text \"I am learning Python.\"\n",
    "text = \"I am learning Python.\"\n",
    "# Fill out the pattern\n",
    "regex = \n",
    "match = re.search(regex, text)\n",
    "print(match.group())"
   ]
  },
  {
   "cell_type": "code",
   "execution_count": null,
   "metadata": {},
   "outputs": [],
   "source": [
    "# Write a regex pattern to extract all digits from the text \"2718 sa76 sa sa787 2199 7y217 1234567890\".\n",
    "text = \"2718 sa76 sa sa787 2199 7y217 1234567890\"\n",
    "# Fill out the pattern\n",
    "regex = \n",
    "matches = re.findall(regex, text)\n",
    "print(matches)"
   ]
  },
  {
   "cell_type": "code",
   "execution_count": null,
   "metadata": {},
   "outputs": [],
   "source": [
    "# Write a regex pattern to extract all words from the text \"I am learning Python.\"\n",
    "text = \"I am learning Python.\"\n",
    "# Fill out the pattern\n",
    "regex = \n",
    "matches = re.findall(regex, text)\n",
    "print(matches)"
   ]
  },
  {
   "cell_type": "code",
   "execution_count": null,
   "metadata": {},
   "outputs": [],
   "source": [
    "# Write a regex pattern to find dates in the format \"YYYY-MM-DD\" in the text\n",
    "text = \"Today is 2024-01-01. Tomorrow is 2024-01-02.\"\n",
    "# Fill out the pattern\n",
    "regex = \n",
    "matches = re.findall(regex, text)\n",
    "print(matches)"
   ]
  },
  {
   "cell_type": "code",
   "execution_count": null,
   "metadata": {},
   "outputs": [],
   "source": [
    "# NOTE: IT IS OK IF YOU COULDN'T SOLVE THE ABOVE QUESTIONS.\n",
    "\n",
    "# Write a regex pattern to validate the email address\n",
    "# Email address should be in the format: \"test@example.com\"\n",
    "# Email name can contain letters, numbers, dots, and underscores\n",
    "# Email domain can contain letters and dots\n",
    "# Email name and domain should be separated by an @ symbol\n",
    "\n",
    "def validate_email(email):\n",
    "    # Fill out the pattern\n",
    "    pattern = \n",
    "    return re.match(pattern, email) is not None\n",
    "\n",
    "email = \"test@example.com\"\n",
    "print(\"Is valid email:\", validate_email(email))"
   ]
  }
 ],
 "metadata": {
  "kernelspec": {
   "display_name": "python-course",
   "language": "python",
   "name": "python3"
  },
  "language_info": {
   "codemirror_mode": {
    "name": "ipython",
    "version": 3
   },
   "file_extension": ".py",
   "mimetype": "text/x-python",
   "name": "python",
   "nbconvert_exporter": "python",
   "pygments_lexer": "ipython3",
   "version": "3.12.4"
  }
 },
 "nbformat": 4,
 "nbformat_minor": 2
}
