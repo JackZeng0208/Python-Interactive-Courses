{
 "cells": [
  {
   "cell_type": "markdown",
   "metadata": {},
   "source": [
    "Write a function to convert a given non-negative integer to its binary representation as a string."
   ]
  },
  {
   "cell_type": "code",
   "execution_count": 2,
   "metadata": {},
   "outputs": [
    {
     "name": "stdout",
     "output_type": "stream",
     "text": [
      "1010\n"
     ]
    }
   ],
   "source": [
    "def decimal_to_binary(n: int) -> str:\n",
    "    if n == 0:\n",
    "        return \"0\"\n",
    "    if n == 1:\n",
    "        return \"1\"\n",
    "    return decimal_to_binary(n // 2) + str(n % 2)\n",
    "\n",
    "print(decimal_to_binary(10))"
   ]
  },
  {
   "cell_type": "markdown",
   "metadata": {},
   "source": [
    "Write a function to generate all subsets of a given set of integers."
   ]
  },
  {
   "cell_type": "code",
   "execution_count": 3,
   "metadata": {},
   "outputs": [
    {
     "name": "stdout",
     "output_type": "stream",
     "text": [
      "[[], [3], [2], [2, 3], [1], [1, 3], [1, 2], [1, 2, 3]]\n"
     ]
    }
   ],
   "source": [
    "def generate_subsets(s: list) -> list:\n",
    "    if len(s) == 0:\n",
    "        return [[]]\n",
    "    subsets = generate_subsets(s[1:])\n",
    "    return subsets + [[s[0]] + subset for subset in subsets]\n",
    "# Output: [[], [1], [2], [3], [1, 2], [1, 3], [2, 3], [1, 2, 3]]\n",
    "print(generate_subsets([1, 2, 3]))"
   ]
  },
  {
   "cell_type": "markdown",
   "metadata": {},
   "source": [
    "Write a function that takes a non-negative integer n and returns the sum of its digits using recursion."
   ]
  },
  {
   "cell_type": "code",
   "execution_count": 4,
   "metadata": {},
   "outputs": [
    {
     "name": "stdout",
     "output_type": "stream",
     "text": [
      "10\n",
      "18\n"
     ]
    }
   ],
   "source": [
    "def sum_of_digits(n):\n",
    "    if n == 0:\n",
    "        return 0\n",
    "    return n % 10 + sum_of_digits(n // 10)\n",
    "print(sum_of_digits(1234))\n",
    "print(sum_of_digits(567)) "
   ]
  }
 ],
 "metadata": {
  "kernelspec": {
   "display_name": "base",
   "language": "python",
   "name": "python3"
  },
  "language_info": {
   "codemirror_mode": {
    "name": "ipython",
    "version": 3
   },
   "file_extension": ".py",
   "mimetype": "text/x-python",
   "name": "python",
   "nbconvert_exporter": "python",
   "pygments_lexer": "ipython3",
   "version": "3.11.6"
  }
 },
 "nbformat": 4,
 "nbformat_minor": 2
}
