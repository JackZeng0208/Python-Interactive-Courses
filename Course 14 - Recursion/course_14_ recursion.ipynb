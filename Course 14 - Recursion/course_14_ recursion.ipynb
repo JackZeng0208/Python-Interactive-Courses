{
 "cells": [
  {
   "cell_type": "markdown",
   "metadata": {},
   "source": [
    "# Course 14 - Recursion"
   ]
  },
  {
   "cell_type": "markdown",
   "metadata": {},
   "source": [
    "- Recursion is a programming technique where **a function calls itself** to solve smaller instances of the same problem. \n",
    "- It involves a base case and a recursive case. \n",
    "- The base case stops the recursion, while the recursive case reduces the problem size and moves towards the base case."
   ]
  },
  {
   "cell_type": "markdown",
   "metadata": {},
   "source": [
    "Recursion example in words:"
   ]
  },
  {
   "cell_type": "markdown",
   "metadata": {},
   "source": [
    "When you are looking for a vocabulary definition in a dictionary, you might find unfamiliar words in its definition, so you look up these words as well. This process continues until you find a word whose meaning you fully understand. Then, you work backwards, understanding each previous word until you understand the meaning of the original word."
   ]
  },
  {
   "cell_type": "markdown",
   "metadata": {},
   "source": [
    "Why we use recursion?"
   ]
  },
  {
   "cell_type": "markdown",
   "metadata": {},
   "source": [
    "1. Simplifies code: Makes complex problems easier to solve and understand by breaking them into smaller, more manageable sub-problems.\n",
    "2. Natural fit for certain problems: Ideal for problems like tree and graph traversal, and those that follow a divide-and-conquer approach (e.g., quicksort, mergesort)."
   ]
  },
  {
   "cell_type": "markdown",
   "metadata": {},
   "source": [
    "Sometimes, recursion is not the best option and it will cause certain problems:"
   ]
  },
  {
   "cell_type": "markdown",
   "metadata": {},
   "source": [
    "1. Stack overflow: risk of stack overflow errors if the recursion depth is too large, especially in languages with limited stack size.\n",
    "2. Complexity: recursive solutions can sometimes be harder to debug and understand compared to iterative solutions."
   ]
  },
  {
   "cell_type": "markdown",
   "metadata": {},
   "source": [
    "### Basic structure of a recursive function"
   ]
  },
  {
   "cell_type": "markdown",
   "metadata": {},
   "source": [
    "A recursive function typically follows this structure:\n",
    "1. Base case: The condition under which the function stops calling itself.\n",
    "2. Recursive case: The part of the function where it calls itself with a smaller or simpler problem."
   ]
  },
  {
   "cell_type": "markdown",
   "metadata": {},
   "source": [
    "Example of a recursive function in python:"
   ]
  },
  {
   "cell_type": "code",
   "execution_count": null,
   "metadata": {},
   "outputs": [],
   "source": [
    "def factorial(n):\n",
    "    # Base case\n",
    "    if n == 0 or n == 1:\n",
    "        return 1\n",
    "    # Recursive case\n",
    "    else:\n",
    "        return n * factorial(n - 1)"
   ]
  },
  {
   "cell_type": "markdown",
   "metadata": {},
   "source": [
    "### Step-by-step construction of a recursive function"
   ]
  },
  {
   "cell_type": "markdown",
   "metadata": {},
   "source": [
    "1. Identify the problem: Determine if the problem can be broken down into smaller instances of the same problem.\n",
    "2. Define the base case: Establish the stopping condition for the recursion.\n",
    "3. Define the recursive case: Determine how the function will call itself with a **simpler or smaller problem**.\n",
    "   1. Separate large problem into small problems\n",
    "4. Combine base and recursive cases: Ensure the function **moves towards the base case** with each recursive call.\n",
    "   1. Find a formula that can be used for both large and small problems.\n",
    "   2. Ex: f(n) = n * f(n-1)"
   ]
  },
  {
   "cell_type": "markdown",
   "metadata": {},
   "source": [
    "Example #1: Fibonacci sequence"
   ]
  },
  {
   "cell_type": "markdown",
   "metadata": {},
   "source": [
    "Step-by-step construction:"
   ]
  },
  {
   "cell_type": "markdown",
   "metadata": {},
   "source": [
    "1. Identify the problem: The Fibonacci sequence can be broken down into smaller instances, all of them using Fibonacci function itself: $fib(n) = fib(n-1) + fib(n-2)$."
   ]
  },
  {
   "cell_type": "markdown",
   "metadata": {},
   "source": [
    "2. Define the base case: The simplest cases for the Fibonacci function are when n is 0 or 1. `fib(0)` is 0 and `fib(1)` is 1."
   ]
  },
  {
   "cell_type": "markdown",
   "metadata": {},
   "source": [
    "```python\n",
    "if n == 0:\n",
    "    return 0\n",
    "elif n == 1:\n",
    "    return 1\n",
    "```"
   ]
  },
  {
   "cell_type": "markdown",
   "metadata": {},
   "source": [
    "3. Define the recursive case: For $n>1$, the Fibonacci number can be calculated as the sum of the previous two Fibonacci numbers."
   ]
  },
  {
   "cell_type": "markdown",
   "metadata": {},
   "source": [
    "```python\n",
    "else:\n",
    "    return fibonacci(n - 1) + fibonacci(n - 2)\n",
    "```"
   ]
  },
  {
   "cell_type": "markdown",
   "metadata": {},
   "source": [
    "4. Combine base and recursive cases:"
   ]
  },
  {
   "cell_type": "code",
   "execution_count": null,
   "metadata": {},
   "outputs": [],
   "source": [
    "def fibonacci(n):\n",
    "    # Base case\n",
    "    if n == 0:\n",
    "        return 0\n",
    "    # Base case\n",
    "    elif n == 1:\n",
    "        return 1\n",
    "    # Recursive case\n",
    "    else:\n",
    "        return fibonacci(n - 1) + fibonacci(n - 2)\n",
    "print(fibonacci(10))"
   ]
  },
  {
   "cell_type": "markdown",
   "metadata": {},
   "source": [
    "Example #2: binary search"
   ]
  },
  {
   "cell_type": "markdown",
   "metadata": {},
   "source": [
    "How binary search works:\n",
    "1. Initial setup: Start with the entire list.\n",
    "2. Middle element: Find the middle element of the list.\n",
    "3. Compare: Compare the middle element with the target value:\n",
    "   1. If the middle element is equal to the target, you've found the item.\n",
    "   2. If the middle element is less than the target, repeat the search with the right half of the list.\n",
    "   3. If the middle element is greater than the target, repeat the search with the left half of the list.\n",
    "4. Repeat: Continue this process until the target is found or the sub-list reduces to zero."
   ]
  },
  {
   "cell_type": "markdown",
   "metadata": {},
   "source": [
    "Step-by-step construction:"
   ]
  },
  {
   "cell_type": "markdown",
   "metadata": {},
   "source": [
    "1. Identify the problem: Can the problem be broken down into smaller instances of the same problem?\n",
    "- Yes, binary search works by repeatedly dividing the list in half. This makes it suitable for a recursive approach where each recursive call handles a smaller sublist of the original list."
   ]
  },
  {
   "cell_type": "markdown",
   "metadata": {},
   "source": [
    "2. Base case: Since the base case is the condition under which the recursion will stop. For binary search, this occurs when the portion of the list being searched is invalid (i.e., the sublist range becomes empty).\n",
    "- If low is greater than high, the sublist is empty, and the target is not found. We return -1.\n",
    "- If we find our target, return the index of target (index = middle index of a sublist)"
   ]
  },
  {
   "cell_type": "markdown",
   "metadata": {},
   "source": [
    "```python\n",
    "if low > high:\n",
    "    return -1\n",
    "mid = (low + high) // 2\n",
    "if arr[mid] == target:\n",
    "    return mid\n",
    "```"
   ]
  },
  {
   "cell_type": "markdown",
   "metadata": {},
   "source": [
    "3. Define the recursive case: How will the function call itself with a simpler or smaller problem?\n",
    "- In binary search, the list is divided into two halves, and the function calls itself on one of the halves **based on the comparison between the middle element and the target value**."
   ]
  },
  {
   "cell_type": "markdown",
   "metadata": {},
   "source": [
    "- If arr[mid] > target, search in the left half\n",
    "- If arr[mid] < target, search in the right half"
   ]
  },
  {
   "cell_type": "markdown",
   "metadata": {},
   "source": [
    "```python\n",
    "if arr[mid] > target:\n",
    "    return binary_search_recursive(arr, target, low, mid - 1)\n",
    "if arr[mid] < target:\n",
    "    return binary_search_recursive(arr, target, mid + 1, high)\n",
    "```"
   ]
  },
  {
   "cell_type": "markdown",
   "metadata": {},
   "source": [
    "4. Combine base and recursive cases"
   ]
  },
  {
   "cell_type": "code",
   "execution_count": null,
   "metadata": {},
   "outputs": [],
   "source": [
    "# Note: you need to think about what parameters you need to pass to the recursive function\n",
    "def binary_search(arr, target, low, high):\n",
    "    # Base case: not found\n",
    "    if low > high:\n",
    "        return -1\n",
    "    mid = (low + high) // 2\n",
    "    if arr[mid] == target:\n",
    "        return mid\n",
    "    elif arr[mid] > target:\n",
    "        # Recursive case: search in left half\n",
    "        return binary_search(arr, target, low, mid - 1)\n",
    "    else:\n",
    "        # Recursive case: search in right half\n",
    "        return binary_search(arr, target, mid + 1, high)\n",
    "lst = [1, 2, 3, 4, 5, 6, 7, 8, 9, 10]\n",
    "print(binary_search(lst, 5, 0, len(lst) - 1))"
   ]
  },
  {
   "cell_type": "markdown",
   "metadata": {},
   "source": [
    "**Exercise**"
   ]
  },
  {
   "cell_type": "markdown",
   "metadata": {},
   "source": [
    "Solve the following problem in recursion:"
   ]
  },
  {
   "cell_type": "markdown",
   "metadata": {},
   "source": [
    "Write a function to check if a given string is a palindrome. A palindrome is a string that reads the same backward as forward."
   ]
  },
  {
   "cell_type": "code",
   "execution_count": null,
   "metadata": {},
   "outputs": [],
   "source": [
    "def is_palindrome(s: str) -> bool:\n",
    "    pass\n",
    "\n",
    "print(is_palindrome(\"racecar\"))\n",
    "print(is_palindrome(\"hello\"))"
   ]
  },
  {
   "cell_type": "markdown",
   "metadata": {},
   "source": [
    "Write a function to convert a given non-negative integer to its binary representation as a string."
   ]
  },
  {
   "cell_type": "code",
   "execution_count": null,
   "metadata": {},
   "outputs": [],
   "source": [
    "def decimal_to_binary(n: int) -> str:\n",
    "    pass\n",
    "\n",
    "print(decimal_to_binary(10))"
   ]
  },
  {
   "cell_type": "markdown",
   "metadata": {},
   "source": [
    "Write a function to generate all subsets of a given set of integers."
   ]
  },
  {
   "cell_type": "code",
   "execution_count": null,
   "metadata": {},
   "outputs": [],
   "source": [
    "def generate_subsets(s: list) -> list:\n",
    "    pass\n",
    "\n",
    "# Output: [[], [1], [2], [3], [1, 2], [1, 3], [2, 3], [1, 2, 3]]\n",
    "print(generate_subsets([1, 2, 3]))"
   ]
  },
  {
   "cell_type": "markdown",
   "metadata": {},
   "source": [
    "Write a function that takes a non-negative integer n and returns the sum of its digits using recursion."
   ]
  },
  {
   "cell_type": "code",
   "execution_count": null,
   "metadata": {},
   "outputs": [],
   "source": [
    "def sum_of_digits(n):\n",
    "    pass\n",
    "\n",
    "print(sum_of_digits(1234))\n",
    "print(sum_of_digits(567)) "
   ]
  },
  {
   "cell_type": "markdown",
   "metadata": {},
   "source": [
    "### Memoization in recursion"
   ]
  },
  {
   "cell_type": "markdown",
   "metadata": {},
   "source": [
    "Memoization is an optimization technique to improve the performance of recursive functions by storing the results of expensive function calls and reusing them when the same inputs occur again."
   ]
  },
  {
   "cell_type": "code",
   "execution_count": null,
   "metadata": {},
   "outputs": [],
   "source": [
    "# Without memoization\n",
    "def fibonacci(n):\n",
    "    # Base case\n",
    "    print(n)\n",
    "    if n == 0:\n",
    "        return 0\n",
    "    # Base case\n",
    "    elif n == 1:\n",
    "        return 1\n",
    "    # Recursive case\n",
    "    else:\n",
    "        return fibonacci(n - 1) + fibonacci(n - 2)\n",
    "print(fibonacci(5))"
   ]
  },
  {
   "cell_type": "code",
   "execution_count": null,
   "metadata": {},
   "outputs": [],
   "source": [
    "# With memoization\n",
    "memo = {}\n",
    "def fibonacci_memo(n):\n",
    "    print(n)\n",
    "    if n in memo:\n",
    "        return memo[n]\n",
    "    if n == 0:\n",
    "        return 0\n",
    "    elif n == 1:\n",
    "        return 1\n",
    "    else:\n",
    "        memo[n] = fibonacci_memo(n - 1) + fibonacci_memo(n - 2)\n",
    "        return memo[n]\n",
    "\n",
    "print(fibonacci_memo(5))"
   ]
  }
 ],
 "metadata": {
  "kernelspec": {
   "display_name": "python-course",
   "language": "python",
   "name": "python3"
  },
  "language_info": {
   "codemirror_mode": {
    "name": "ipython",
    "version": 3
   },
   "file_extension": ".py",
   "mimetype": "text/x-python",
   "name": "python",
   "nbconvert_exporter": "python",
   "pygments_lexer": "ipython3",
   "version": "3.12.4"
  }
 },
 "nbformat": 4,
 "nbformat_minor": 2
}
