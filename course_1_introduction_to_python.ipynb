{
 "cells": [
  {
   "cell_type": "markdown",
   "metadata": {},
   "source": [
    "# Course 1 - Introduction to Python"
   ]
  },
  {
   "cell_type": "markdown",
   "metadata": {},
   "source": [
    "## 1. Overview of Python and its applications"
   ]
  },
  {
   "cell_type": "markdown",
   "metadata": {},
   "source": [
    "Python is a high-level, interpreted programming language known for its simplicity, readability, and versatility. It was created by Guido van Rossum and first released in 1991. Python has gained immense popularity over the years due to its beginner-friendly syntax and extensive standard library.\n",
    "\n",
    "Python finds applications in various domains, including:\n",
    "- Web development: Python offers frameworks like Django and Flask for building web applications.\n",
    "- Data analysis and scientific computing: Libraries like NumPy, Pandas, and SciPy make Python a popular choice for data manipulation and numerical computations.\n",
    "- Machine learning and artificial intelligence: Python has renowned libraries like scikit-learn and Pytorch for machine learning and deep learning.\n",
    "- Automation and scripting: Python's simplicity and wide range of libraries make it ideal for automating tasks and writing utility scripts."
   ]
  },
  {
   "cell_type": "markdown",
   "metadata": {},
   "source": [
    "## 2. Introduction to Jupyter Notebook and Python Interactive Console"
   ]
  },
  {
   "cell_type": "markdown",
   "metadata": {},
   "source": [
    "Jupyter Notebook is an open-source web application that allows you to create and share documents that contain live code, equations, visualizations, and narrative text. It provides an interactive environment for data analysis, scientific computing, and exploratory programming. Jupyter Notebook supports multiple programming languages, including Python, R, Julia, and more."
   ]
  },
  {
   "cell_type": "markdown",
   "metadata": {},
   "source": [
    "### 2.1 How to use Jupyter Notebook"
   ]
  },
  {
   "cell_type": "markdown",
   "metadata": {},
   "source": [
    "Jupyter Notebook has two different types of \"blocks\":\n",
    "- "
   ]
  }
 ],
 "metadata": {
  "kernelspec": {
   "display_name": "base",
   "language": "python",
   "name": "python3"
  },
  "language_info": {
   "codemirror_mode": {
    "name": "ipython",
    "version": 3
   },
   "file_extension": ".py",
   "mimetype": "text/x-python",
   "name": "python",
   "nbconvert_exporter": "python",
   "pygments_lexer": "ipython3",
   "version": "3.12.1"
  }
 },
 "nbformat": 4,
 "nbformat_minor": 2
}
