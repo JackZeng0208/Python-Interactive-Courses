{
 "cells": [
  {
   "cell_type": "markdown",
   "metadata": {},
   "source": [
    "# Course 3: Control Flow - Conditional Statements"
   ]
  },
  {
   "cell_type": "markdown",
   "metadata": {},
   "source": [
    "## 1. Homework rewrite"
   ]
  },
  {
   "cell_type": "markdown",
   "metadata": {},
   "source": [
    "## 2. Boolean data types and its operators"
   ]
  },
  {
   "cell_type": "markdown",
   "metadata": {},
   "source": [
    "### 2.1 Boolean data type\n",
    "In Python, the boolean data type has two values: `True` and `False`."
   ]
  },
  {
   "cell_type": "code",
   "execution_count": null,
   "metadata": {},
   "outputs": [],
   "source": [
    "is_true = True\n",
    "is_false = False\n",
    "\n",
    "print(is_true)\n",
    "print(is_false)"
   ]
  },
  {
   "cell_type": "markdown",
   "metadata": {},
   "source": [
    "### 2.2 Comparison operators"
   ]
  },
  {
   "cell_type": "markdown",
   "metadata": {},
   "source": [
    "Comparison operators return `True` or `False`"
   ]
  },
  {
   "cell_type": "markdown",
   "metadata": {},
   "source": [
    "\n",
    "| Operator | Description | Example |\n",
    "| --- | --- | --- |\n",
    "| == | Equal to | 5 == 5 |\n",
    "| != | Not equal to | 5 != 3 |\n",
    "| > | Greater than\t| 5 > 3 |\n",
    "| < | Less than\t| 3 < 5 |\n",
    "| >= | Greater than or equal to | 5 >= 5 |\n",
    "| <= | Less than or equal to | 3 <= 5 |"
   ]
  },
  {
   "cell_type": "code",
   "execution_count": null,
   "metadata": {},
   "outputs": [],
   "source": [
    "a = 5\n",
    "b = 3\n",
    "\n",
    "# Try it yourself:\n",
    "# First, do the math in your head\n",
    "# Then, print the result of the following operations and compare it to your answer\n",
    "print(a == b)\n",
    "print(a != b)\n",
    "print(a > b)\n",
    "print(a < b)\n",
    "print(a >= b)\n",
    "print(a <= b)"
   ]
  },
  {
   "cell_type": "markdown",
   "metadata": {},
   "source": [
    "### 2.3 String comparisons"
   ]
  },
  {
   "cell_type": "markdown",
   "metadata": {},
   "source": [
    "Strings in Python can be compared using comparison operators. The comparisons are based on the Unicode values of the characters."
   ]
  },
  {
   "cell_type": "code",
   "execution_count": null,
   "metadata": {},
   "outputs": [],
   "source": [
    "string_1 = \"apple\"\n",
    "string_2 = \"banana\"\n",
    "\n",
    "print(string_1 == string_2)\n",
    "print(string_1 != string_2)\n",
    "print(string_1 > string_2)\n",
    "print(string_1 < string_2)"
   ]
  },
  {
   "cell_type": "markdown",
   "metadata": {},
   "source": [
    "What happen below?"
   ]
  },
  {
   "cell_type": "code",
   "execution_count": null,
   "metadata": {},
   "outputs": [],
   "source": [
    "string_3 = \"apple\"\n",
    "string_4 = \"Apple\"\n",
    "\n",
    "print(string_3 == string_4)\n",
    "print(string_3 != string_4)\n",
    "print(string_3 > string_4)\n",
    "print(string_3 < string_4)"
   ]
  },
  {
   "cell_type": "markdown",
   "metadata": {},
   "source": [
    "Use `ord()` function to check Unicode value of a character"
   ]
  },
  {
   "cell_type": "code",
   "execution_count": null,
   "metadata": {},
   "outputs": [],
   "source": [
    "ord('2')"
   ]
  },
  {
   "cell_type": "markdown",
   "metadata": {},
   "source": [
    "### 2.4 Mixed Comparisons"
   ]
  },
  {
   "cell_type": "markdown",
   "metadata": {},
   "source": [
    "Python can compare different types of objects, but it may raise a `TypeError` if the comparison is not supported."
   ]
  },
  {
   "cell_type": "code",
   "execution_count": null,
   "metadata": {},
   "outputs": [],
   "source": [
    "number = 10\n",
    "string = \"10\"\n",
    "\n",
    "# Question: What will the following print?\n",
    "print(number > string)\n",
    "\n",
    "# Question: What will the following print?\n",
    "print(number == string)\n",
    "\n",
    "# Question: What will the following print?\n",
    "print(number != string)"
   ]
  },
  {
   "cell_type": "code",
   "execution_count": null,
   "metadata": {},
   "outputs": [],
   "source": [
    "# Question: What will the following print?\n",
    "print(10 == 10.0)\n",
    "\n",
    "# Question: What will the following print?\n",
    "print(10 > 10.0)"
   ]
  },
  {
   "cell_type": "markdown",
   "metadata": {},
   "source": [
    "### 2.5 Multiple operators"
   ]
  },
  {
   "cell_type": "code",
   "execution_count": null,
   "metadata": {},
   "outputs": [],
   "source": [
    "# The following syntax is valid in Python\n",
    "print(10 < 11 < 22 < 33)"
   ]
  },
  {
   "cell_type": "markdown",
   "metadata": {},
   "source": [
    "## 3. Logical operators"
   ]
  },
  {
   "cell_type": "markdown",
   "metadata": {},
   "source": [
    "Logical operators combine boolean expressions and return a boolean result."
   ]
  },
  {
   "cell_type": "markdown",
   "metadata": {},
   "source": [
    "| Operator | Description | Example |\n",
    "| --- | --- | --- |\n",
    "| `and` |\tTrue if both expressions are true |\t`True and False` |\n",
    "| `or` | True if at least one expression is true | `True or False` |\n",
    "| `not` |\tInverts the boolean value |\t`not True` |"
   ]
  },
  {
   "cell_type": "code",
   "execution_count": null,
   "metadata": {},
   "outputs": [],
   "source": [
    "x = True\n",
    "y = False\n",
    "\n",
    "# What will the following print?\n",
    "print(x and y)\n",
    "print(x or y)   \n",
    "print(not x)    \n",
    "print(not y)   "
   ]
  },
  {
   "cell_type": "markdown",
   "metadata": {},
   "source": [
    "### 3.1 Identity operators: `is` and `is not`\n",
    "The is operator checks if two variables point to the **same object in memory**, while the is not operator checks if they do not."
   ]
  },
  {
   "cell_type": "code",
   "execution_count": null,
   "metadata": {},
   "outputs": [],
   "source": [
    "a = 123\n",
    "b = a\n",
    "c = 123\n",
    "\n",
    "print(a is b)\n",
    "print(a is c)\n",
    "print(a == c)\n",
    "print(a is not b)\n",
    "print(a is not c)"
   ]
  },
  {
   "cell_type": "markdown",
   "metadata": {},
   "source": [
    "#### How does it work, what is the difference between `is` and `==`"
   ]
  },
  {
   "cell_type": "markdown",
   "metadata": {},
   "source": [
    "The `id()` function in Python returns the unique identifier for a specified object. By using the `id` function, you can see the actual memory address of the objects being compared. This can help you understand how the `is` and `is not` operators work."
   ]
  },
  {
   "cell_type": "code",
   "execution_count": 27,
   "metadata": {},
   "outputs": [
    {
     "name": "stdout",
     "output_type": "stream",
     "text": [
      "9775720\n",
      "9775720\n",
      "9775720\n"
     ]
    }
   ],
   "source": [
    "print(id(a))\n",
    "print(id(b))\n",
    "print(id(c))"
   ]
  },
  {
   "cell_type": "markdown",
   "metadata": {},
   "source": [
    "**Exercise (5 minutes)**"
   ]
  },
  {
   "cell_type": "markdown",
   "metadata": {},
   "source": [
    "Evaluate the truthiness of the following statements without using python:\n",
    "1. `5 > 3 and 2 < 4`\n",
    "2. `not(5 == 5 or 4 != 4)`\n",
    "3. `7 >= 7 and (2 < 3 or 5 > 6)`"
   ]
  },
  {
   "cell_type": "markdown",
   "metadata": {},
   "source": [
    "Write your answer here:"
   ]
  },
  {
   "cell_type": "markdown",
   "metadata": {},
   "source": [
    "## Precedence of operators"
   ]
  },
  {
   "cell_type": "markdown",
   "metadata": {},
   "source": [
    "source: https://runestone.academy/ns/books/published/fopp/Conditionals/PrecedenceofOperators.html"
   ]
  },
  {
   "cell_type": "markdown",
   "metadata": {},
   "source": [
    "| Level | Category | Operators |\n",
    "| --- | --- | --- |\n",
    "| 7 | exponent | `**` |\n",
    "| 6 | multiplication | `*`,`/`,`//`,`%` |\n",
    "| 5 | addition | `+`,`-` |\n",
    "| 4 | relational | `==`,`!=`,`<=`,`>=`,`>`,`<` |\n",
    "| 3 | logical | `not` |\n",
    "| 2 | logical | `and` |\n",
    "| 1 | logical | `or` |"
   ]
  },
  {
   "cell_type": "markdown",
   "metadata": {},
   "source": [
    "**Exercise**"
   ]
  },
  {
   "cell_type": "markdown",
   "metadata": {},
   "source": [
    "Calculate the following equations without using python"
   ]
  },
  {
   "cell_type": "markdown",
   "metadata": {},
   "source": [
    "1. True or False and False\n",
    "2. 10 - 4 / 2\n",
    "3. 5 * 2 ** 3 / 4 - 6 + 7\n",
    "4. 10 / 2 != 5 or 3 ** 2 == 9\n",
    "5. (5 + 3 * 2) > 10 or (2 ** 3) < 8"
   ]
  },
  {
   "cell_type": "markdown",
   "metadata": {},
   "source": [
    "## 2. If, Elif, and Else Statements"
   ]
  }
 ],
 "metadata": {
  "kernelspec": {
   "display_name": "base",
   "language": "python",
   "name": "python3"
  },
  "language_info": {
   "codemirror_mode": {
    "name": "ipython",
    "version": 3
   },
   "file_extension": ".py",
   "mimetype": "text/x-python",
   "name": "python",
   "nbconvert_exporter": "python",
   "pygments_lexer": "ipython3",
   "version": "3.12.4"
  }
 },
 "nbformat": 4,
 "nbformat_minor": 2
}
