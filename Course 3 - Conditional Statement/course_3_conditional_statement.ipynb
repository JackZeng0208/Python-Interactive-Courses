{
 "cells": [
  {
   "cell_type": "markdown",
   "metadata": {},
   "source": [
    "# Course 3: Control Flow - Conditional Statements"
   ]
  },
  {
   "cell_type": "markdown",
   "metadata": {},
   "source": [
    "## 1. Homework rewrite"
   ]
  },
  {
   "cell_type": "markdown",
   "metadata": {},
   "source": [
    "Please rewrite problem 03078"
   ]
  },
  {
   "cell_type": "markdown",
   "metadata": {},
   "source": [
    "## 2. Boolean data types and its operators"
   ]
  },
  {
   "cell_type": "markdown",
   "metadata": {},
   "source": [
    "### 2.1 Boolean data type\n",
    "In Python, the boolean data type has two values: `True` and `False`."
   ]
  },
  {
   "cell_type": "code",
   "execution_count": null,
   "metadata": {},
   "outputs": [],
   "source": [
    "is_true = True\n",
    "is_false = False\n",
    "\n",
    "print(is_true)\n",
    "print(is_false)"
   ]
  },
  {
   "cell_type": "markdown",
   "metadata": {},
   "source": [
    "### 2.2 Comparison operators"
   ]
  },
  {
   "cell_type": "markdown",
   "metadata": {},
   "source": [
    "Comparison operators return `True` or `False`"
   ]
  },
  {
   "cell_type": "markdown",
   "metadata": {},
   "source": [
    "\n",
    "| Operator | Description | Example |\n",
    "| --- | --- | --- |\n",
    "| == | Equal to | 5 == 5 |\n",
    "| != | Not equal to | 5 != 3 |\n",
    "| > | Greater than\t| 5 > 3 |\n",
    "| < | Less than\t| 3 < 5 |\n",
    "| >= | Greater than or equal to | 5 >= 5 |\n",
    "| <= | Less than or equal to | 3 <= 5 |"
   ]
  },
  {
   "cell_type": "code",
   "execution_count": null,
   "metadata": {},
   "outputs": [],
   "source": [
    "a = 5\n",
    "b = 3\n",
    "\n",
    "# Try it yourself:\n",
    "# First, do the math in your head\n",
    "# Then, print the result of the following operations and compare it to your answer\n",
    "print(a == b)\n",
    "print(a != b)\n",
    "print(a > b)\n",
    "print(a < b)\n",
    "print(a >= b)\n",
    "print(a <= b)"
   ]
  },
  {
   "cell_type": "markdown",
   "metadata": {},
   "source": [
    "### 2.3 String comparisons"
   ]
  },
  {
   "cell_type": "markdown",
   "metadata": {},
   "source": [
    "Strings in Python can be compared using comparison operators. The comparisons are based on the Unicode values of the characters."
   ]
  },
  {
   "cell_type": "code",
   "execution_count": null,
   "metadata": {},
   "outputs": [],
   "source": [
    "string_1 = \"apple\"\n",
    "string_2 = \"banana\"\n",
    "\n",
    "print(string_1 == string_2)\n",
    "print(string_1 != string_2)\n",
    "print(string_1 > string_2)\n",
    "print(string_1 < string_2)"
   ]
  },
  {
   "cell_type": "markdown",
   "metadata": {},
   "source": [
    "What happen below?"
   ]
  },
  {
   "cell_type": "code",
   "execution_count": null,
   "metadata": {},
   "outputs": [],
   "source": [
    "string_3 = \"apple\"\n",
    "string_4 = \"Apple\"\n",
    "\n",
    "print(string_3 == string_4)\n",
    "print(string_3 != string_4)\n",
    "print(string_3 > string_4)\n",
    "print(string_3 < string_4)"
   ]
  },
  {
   "cell_type": "markdown",
   "metadata": {},
   "source": [
    "Use `ord()` function to check Unicode value of a character"
   ]
  },
  {
   "cell_type": "code",
   "execution_count": null,
   "metadata": {},
   "outputs": [],
   "source": [
    "ord('2')"
   ]
  },
  {
   "cell_type": "markdown",
   "metadata": {},
   "source": [
    "### 2.4 Mixed Comparisons"
   ]
  },
  {
   "cell_type": "markdown",
   "metadata": {},
   "source": [
    "Python can compare different types of objects, but it may raise a `TypeError` if the comparison is not supported."
   ]
  },
  {
   "cell_type": "code",
   "execution_count": null,
   "metadata": {},
   "outputs": [],
   "source": [
    "number = 10\n",
    "string = \"10\"\n",
    "\n",
    "# Question: What will the following print?\n",
    "print(number > string)\n",
    "\n",
    "# Question: What will the following print?\n",
    "print(number == string)\n",
    "\n",
    "# Question: What will the following print?\n",
    "print(number != string)"
   ]
  },
  {
   "cell_type": "code",
   "execution_count": null,
   "metadata": {},
   "outputs": [],
   "source": [
    "# Question: What will the following print?\n",
    "print(10 == 10.0)\n",
    "\n",
    "# Question: What will the following print?\n",
    "print(10 > 10.0)"
   ]
  },
  {
   "cell_type": "markdown",
   "metadata": {},
   "source": [
    "### 2.5 Multiple operators"
   ]
  },
  {
   "cell_type": "code",
   "execution_count": null,
   "metadata": {},
   "outputs": [],
   "source": [
    "# The following syntax is valid in Python\n",
    "print(10 < 11 < 22 < 33)"
   ]
  },
  {
   "cell_type": "markdown",
   "metadata": {},
   "source": [
    "## 3. Logical operators"
   ]
  },
  {
   "cell_type": "markdown",
   "metadata": {},
   "source": [
    "Logical operators combine boolean expressions and return a boolean result."
   ]
  },
  {
   "cell_type": "markdown",
   "metadata": {},
   "source": [
    "| Operator | Description | Example |\n",
    "| --- | --- | --- |\n",
    "| `and` |\tTrue if both expressions are true |\t`True and False` |\n",
    "| `or` | True if at least one expression is true | `True or False` |\n",
    "| `not` |\tInverts the boolean value |\t`not True` |"
   ]
  },
  {
   "cell_type": "code",
   "execution_count": null,
   "metadata": {},
   "outputs": [],
   "source": [
    "x = True\n",
    "y = False\n",
    "\n",
    "# What will the following print?\n",
    "print(x and y)\n",
    "print(x or y)   \n",
    "print(not x)    \n",
    "print(not y)   "
   ]
  },
  {
   "cell_type": "markdown",
   "metadata": {},
   "source": [
    "### 3.1 Identity operators: `is` and `is not`\n",
    "The is operator checks if two variables point to the **same object in memory**, while the is not operator checks if they do not."
   ]
  },
  {
   "cell_type": "code",
   "execution_count": null,
   "metadata": {},
   "outputs": [],
   "source": [
    "a = 123\n",
    "b = a\n",
    "c = 123\n",
    "\n",
    "print(a is b)\n",
    "print(a is c)\n",
    "print(a == c)\n",
    "print(a is not b)\n",
    "print(a is not c)"
   ]
  },
  {
   "cell_type": "markdown",
   "metadata": {},
   "source": [
    "#### How does it work, what is the difference between `is` and `==`"
   ]
  },
  {
   "cell_type": "markdown",
   "metadata": {},
   "source": [
    "The `id()` function in Python returns the unique identifier for a specified object. By using the `id` function, you can see the actual memory address of the objects being compared. This can help you understand how the `is` and `is not` operators work."
   ]
  },
  {
   "cell_type": "code",
   "execution_count": null,
   "metadata": {},
   "outputs": [],
   "source": [
    "print(id(a))\n",
    "print(id(b))\n",
    "print(id(c))"
   ]
  },
  {
   "cell_type": "markdown",
   "metadata": {},
   "source": [
    "**Exercise (5 minutes)**"
   ]
  },
  {
   "cell_type": "markdown",
   "metadata": {},
   "source": [
    "Evaluate the truthiness of the following statements without using python:\n",
    "1. `5 > 3 and 2 < 4`\n",
    "2. `not(5 == 5 or 4 != 4)`\n",
    "3. `7 >= 7 and (2 < 3 or 5 > 6)`"
   ]
  },
  {
   "cell_type": "markdown",
   "metadata": {},
   "source": [
    "Write your answer here:"
   ]
  },
  {
   "cell_type": "markdown",
   "metadata": {},
   "source": []
  },
  {
   "cell_type": "markdown",
   "metadata": {},
   "source": [
    "## Precedence of operators"
   ]
  },
  {
   "cell_type": "markdown",
   "metadata": {},
   "source": [
    "source: https://runestone.academy/ns/books/published/fopp/Conditionals/PrecedenceofOperators.html"
   ]
  },
  {
   "cell_type": "markdown",
   "metadata": {},
   "source": [
    "| Level | Category | Operators |\n",
    "| --- | --- | --- |\n",
    "| 7 | exponent | `**` |\n",
    "| 6 | multiplication | `*`,`/`,`//`,`%` |\n",
    "| 5 | addition | `+`,`-` |\n",
    "| 4 | relational | `==`,`!=`,`<=`,`>=`,`>`,`<` |\n",
    "| 3 | logical | `not` |\n",
    "| 2 | logical | `and` |\n",
    "| 1 | logical | `or` |"
   ]
  },
  {
   "cell_type": "markdown",
   "metadata": {},
   "source": [
    "**Exercise**"
   ]
  },
  {
   "cell_type": "markdown",
   "metadata": {},
   "source": [
    "Calculate the following equations without using python"
   ]
  },
  {
   "cell_type": "markdown",
   "metadata": {},
   "source": [
    "1. True or False and False\n",
    "2. 10 - 4 / 2\n",
    "3. 5 * 2 ** 3 / 4 - 6 + 7\n",
    "4. 10 / 2 != 5 or 3 ** 2 == 9\n",
    "5. (5 + 3 * 2) > 10 or (2 ** 3) < 8\n",
    "6. not(not(x >= 56) or x <= 55) and y < 34 or not(y>=56 or y != 55)"
   ]
  },
  {
   "cell_type": "markdown",
   "metadata": {},
   "source": [
    "Write your answer here:"
   ]
  },
  {
   "cell_type": "markdown",
   "metadata": {},
   "source": [
    "## 4. If, Elif, and Else Statements"
   ]
  },
  {
   "cell_type": "markdown",
   "metadata": {},
   "source": [
    "Conditional statements allow us to execute certain code based on specific conditions."
   ]
  },
  {
   "cell_type": "markdown",
   "metadata": {},
   "source": [
    "### Basic If statement"
   ]
  },
  {
   "cell_type": "markdown",
   "metadata": {},
   "source": [
    "Executes a block of code if the condition is `True`."
   ]
  },
  {
   "cell_type": "code",
   "execution_count": null,
   "metadata": {},
   "outputs": [],
   "source": [
    "age = 18\n",
    "\n",
    "if age >= 18:\n",
    "    print(\"You are an adult.\")"
   ]
  },
  {
   "cell_type": "markdown",
   "metadata": {},
   "source": [
    "### If-Else statement"
   ]
  },
  {
   "cell_type": "markdown",
   "metadata": {},
   "source": [
    "Executes one block of code if the condition is True, and another block if the condition is `False`."
   ]
  },
  {
   "cell_type": "code",
   "execution_count": null,
   "metadata": {},
   "outputs": [],
   "source": [
    "temperature = 30\n",
    "if temperature > 30:\n",
    "    print(\"It's hot.\")\n",
    "else:\n",
    "    print(\"It's not hot.\")"
   ]
  },
  {
   "cell_type": "markdown",
   "metadata": {},
   "source": [
    "### Elif statement"
   ]
  },
  {
   "cell_type": "code",
   "execution_count": null,
   "metadata": {},
   "outputs": [],
   "source": [
    "if temperature > 30:\n",
    "    print(\"It's a hot day.\")\n",
    "elif temperature > 20:\n",
    "    print(\"It's a nice day.\")\n",
    "elif temperature > 10:\n",
    "    print(\"It's a bit chilly.\")\n",
    "else:\n",
    "    print(\"It's cold.\")"
   ]
  },
  {
   "cell_type": "markdown",
   "metadata": {},
   "source": [
    "In this example:\n",
    "- If the temperature is greater than 30, it prints \"It's a hot day.\"\n",
    "- If the temperature is not greater than 30 but greater than 20, it prints \"It's a nice day.\"\n",
    "- If the temperature is not greater than 20 but greater than 10, it prints \"It's a bit chilly.\"\n",
    "- If none of the conditions are met, it prints \"It's cold.\""
   ]
  },
  {
   "cell_type": "markdown",
   "metadata": {},
   "source": [
    "### Nested If statements"
   ]
  },
  {
   "cell_type": "code",
   "execution_count": null,
   "metadata": {},
   "outputs": [],
   "source": [
    "num = 15\n",
    "if num > 10:\n",
    "    if num < 20:\n",
    "        # Output: Number is between 10 and 20.\n",
    "        print(\"Number is between 10 and 20.\")  \n",
    "    else:\n",
    "        print(\"Number is 20 or more.\")\n",
    "else:\n",
    "    print(\"Number is 10 or less.\")"
   ]
  },
  {
   "cell_type": "markdown",
   "metadata": {},
   "source": [
    "### `match` case statements in Python 3.10"
   ]
  },
  {
   "cell_type": "markdown",
   "metadata": {},
   "source": [
    "Basic structure"
   ]
  },
  {
   "cell_type": "code",
   "execution_count": null,
   "metadata": {},
   "outputs": [],
   "source": [
    "\"\"\"\n",
    "match subject:\n",
    "    case pattern1:\n",
    "        # Code block to execute if subject matches pattern1\n",
    "    case pattern2:\n",
    "        # Code block to execute if subject matches pattern2\n",
    "    case _:\n",
    "        # Code block to execute if none of the patterns match (default case)\n",
    "\"\"\""
   ]
  },
  {
   "cell_type": "code",
   "execution_count": null,
   "metadata": {},
   "outputs": [],
   "source": [
    "number = 1\n",
    "match number:\n",
    "    case 0:\n",
    "        print(\"Zero\")\n",
    "    case 1:\n",
    "        print(\"One\")\n",
    "    # \"_\" is a wildcard character that matches any other value\n",
    "    case _:\n",
    "        print(\"Some other number\")\n"
   ]
  },
  {
   "cell_type": "markdown",
   "metadata": {},
   "source": [
    "#### Matching with multiple patterns"
   ]
  },
  {
   "cell_type": "code",
   "execution_count": null,
   "metadata": {},
   "outputs": [],
   "source": [
    "day = \"Monday\"\n",
    "# Using | to combine multiple patterns\n",
    "# | represents logical OR\n",
    "match day:\n",
    "    case \"Monday\" | \"Tuesday\" | \"Wednesday\" | \"Thursday\" | \"Friday\":\n",
    "        print(\"Weekday\")\n",
    "    case \"Saturday\" | \"Sunday\":\n",
    "        print(\"Weekend\")\n",
    "    case _:\n",
    "        print(\"Invalid day\")\n"
   ]
  },
  {
   "cell_type": "markdown",
   "metadata": {},
   "source": [
    "#### Matching with a conditional expression"
   ]
  },
  {
   "cell_type": "code",
   "execution_count": null,
   "metadata": {},
   "outputs": [],
   "source": [
    "num = 10\n",
    "match num:\n",
    "    case num if num > 0:\n",
    "        print(\"Positive\")\n",
    "    case num if num < 0:\n",
    "        print(\"Negative\")\n",
    "    case _:\n",
    "        print(\"Zero\")"
   ]
  },
  {
   "cell_type": "markdown",
   "metadata": {},
   "source": [
    "**Exercise**"
   ]
  },
  {
   "cell_type": "code",
   "execution_count": null,
   "metadata": {},
   "outputs": [],
   "source": [
    "# 1. Write a program that fits the following requirements:\n",
    "'''\n",
    "If the age is less than 13, it prints \"Child.\"\n",
    "If the age is between 13 and 17 (inclusive), it prints \"Teenager.\"\n",
    "If the age is between 18 and 64 (inclusive), it prints \"Adult.\"\n",
    "If none of the conditions are met (i.e., the age is 65 or above), it prints \"Senior.\"\n",
    "'''\n"
   ]
  },
  {
   "cell_type": "markdown",
   "metadata": {},
   "source": [
    "## 5. Ternary operator"
   ]
  },
  {
   "cell_type": "markdown",
   "metadata": {},
   "source": [
    "Ternary operator is a **compact way** to perform conditional operations in Python."
   ]
  },
  {
   "cell_type": "markdown",
   "metadata": {},
   "source": [
    "**Basic structure**"
   ]
  },
  {
   "cell_type": "markdown",
   "metadata": {},
   "source": [
    "```python\n",
    "<true_value> if <condition> else <false_value>\n",
    "```"
   ]
  },
  {
   "cell_type": "markdown",
   "metadata": {},
   "source": [
    "This is equivalent to:"
   ]
  },
  {
   "cell_type": "markdown",
   "metadata": {},
   "source": [
    "```python\n",
    "if <condition>:\n",
    "    <true_value>\n",
    "else:\n",
    "    <false_value>\n",
    "\n",
    "```"
   ]
  },
  {
   "cell_type": "markdown",
   "metadata": {},
   "source": [
    "Example #1:"
   ]
  },
  {
   "cell_type": "code",
   "execution_count": null,
   "metadata": {},
   "outputs": [],
   "source": [
    "a = 5\n",
    "b = 3\n",
    "\n",
    "# Traditional if-else statement:\n",
    "if a > b:\n",
    "    x = 10\n",
    "else:\n",
    "    x = 5\n",
    "\n",
    "# Ternary operator:\n",
    "x = 10 if a > b else 5"
   ]
  },
  {
   "cell_type": "markdown",
   "metadata": {},
   "source": [
    "Example #2:"
   ]
  },
  {
   "cell_type": "code",
   "execution_count": null,
   "metadata": {},
   "outputs": [],
   "source": [
    "num = 4\n",
    "result = \"Even\" if num % 2 == 0 else \"Odd\"\n",
    "print(result)"
   ]
  },
  {
   "cell_type": "markdown",
   "metadata": {},
   "source": [
    "Example #3: nested ternary operator"
   ]
  },
  {
   "cell_type": "code",
   "execution_count": null,
   "metadata": {},
   "outputs": [],
   "source": [
    "a = 5\n",
    "b = 10\n",
    "c = 15\n",
    "\n",
    "max_value = a if a > b and a > c else (b if b > c else c)\n",
    "print(max_value)"
   ]
  },
  {
   "cell_type": "markdown",
   "metadata": {},
   "source": [
    "**Exercise**"
   ]
  },
  {
   "cell_type": "code",
   "execution_count": null,
   "metadata": {},
   "outputs": [],
   "source": [
    "# Find the minimum of two numbers using the ternary operator.\n",
    "a = 15\n",
    "b = 25"
   ]
  },
  {
   "cell_type": "code",
   "execution_count": null,
   "metadata": {},
   "outputs": [],
   "source": [
    "# Check if a person is a minor or an adult. A person is considered an adult if they are 18 years or older.\n",
    "# print \"adult\" if the age is 18 or more, otherwise print \"minor\"."
   ]
  },
  {
   "cell_type": "code",
   "execution_count": null,
   "metadata": {},
   "outputs": [],
   "source": [
    "# Determine whether a given number is positive, negative, or zero.\n",
    "# print \"positive\", \"zero\", or negative"
   ]
  },
  {
   "cell_type": "markdown",
   "metadata": {},
   "source": [
    "## Homework"
   ]
  },
  {
   "cell_type": "markdown",
   "metadata": {},
   "source": [
    "- Problem 02935\n",
    "- Problem 02083\n",
    "- Problem 02906"
   ]
  }
 ],
 "metadata": {
  "kernelspec": {
   "display_name": "base",
   "language": "python",
   "name": "python3"
  },
  "language_info": {
   "codemirror_mode": {
    "name": "ipython",
    "version": 3
   },
   "file_extension": ".py",
   "mimetype": "text/x-python",
   "name": "python",
   "nbconvert_exporter": "python",
   "pygments_lexer": "ipython3",
   "version": "3.12.4"
  }
 },
 "nbformat": 4,
 "nbformat_minor": 2
}
