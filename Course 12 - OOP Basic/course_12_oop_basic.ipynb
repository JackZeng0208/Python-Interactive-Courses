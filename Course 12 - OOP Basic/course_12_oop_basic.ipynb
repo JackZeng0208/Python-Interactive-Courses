{
 "cells": [
  {
   "cell_type": "markdown",
   "metadata": {},
   "source": [
    "# Course 12 - Object-Oriented Programming (OOP) Basics"
   ]
  },
  {
   "cell_type": "markdown",
   "metadata": {},
   "source": [
    "- Object-Oriented Programming (OOP) is a programming paradigm that uses \"objects\" to design and develop applications. \n",
    "- Objects are instances of classes, which can be thought of as blueprints for creating objects. \n"
   ]
  },
  {
   "cell_type": "markdown",
   "metadata": {},
   "source": [
    "Here're some important concepts in OOP (if we use car as an example):"
   ]
  },
  {
   "cell_type": "markdown",
   "metadata": {},
   "source": [
    "- Class:\n",
    "  - Think of a class as a car blueprint or a template. It defines the general attributes and behaviors (methods) that any specific car will have.\n",
    "- Object:\n",
    "  - An object is a specific car built from the blueprint. Each car (object) will have its own set of characteristics based on the blueprint.\n",
    "- Attributes:\n",
    "  - Attributes are the features of the car, like color, make, model, and year.\n",
    "- Methods:\n",
    "  - Methods are actions the car can perform, like starting the engine, honking the horn, or driving.\n",
    "- Encapsulation:\n",
    "  - Encapsulation is like having a locked hood on the car. It covers the engine and other components. You can still fix them by opening the hood.\n",
    "- Inheritance:\n",
    "  - Inheritance is like creating a new blueprint based on an existing one, such as creating a blueprint for an electric car from a general car blueprint. The new blueprint inherits all the characteristics of the original but can have additional features.\n",
    "- Polymorphism:\n",
    "  - Polymorphism is like having different types of cars (sedan, SUV, truck) that all have a \"drive\" method, but each type of car drives differently.\n",
    "- Abstraction:\n",
    "  - Abstraction is like using a car without knowing the complex mechanisms of the engine. You just need to know how to operate the basic controls."
   ]
  },
  {
   "cell_type": "markdown",
   "metadata": {},
   "source": [
    "## Classes and objects"
   ]
  },
  {
   "cell_type": "markdown",
   "metadata": {},
   "source": [
    "Classes encapsulate data for the object and methods to manipulate that data. Classes provide a means of bundling data and functionality together."
   ]
  },
  {
   "cell_type": "markdown",
   "metadata": {},
   "source": [
    "Definition:"
   ]
  },
  {
   "cell_type": "code",
   "execution_count": null,
   "metadata": {},
   "outputs": [],
   "source": [
    "class MyClass:\n",
    "    pass"
   ]
  },
  {
   "cell_type": "markdown",
   "metadata": {},
   "source": [
    "Here, `MyClass` is a simple class with no attributes or methods."
   ]
  },
  {
   "cell_type": "markdown",
   "metadata": {},
   "source": [
    "Why Classes?"
   ]
  },
  {
   "cell_type": "markdown",
   "metadata": {},
   "source": [
    "- Organization: Classes group data and functions that belong together.\n",
    "- Reusability: Classes allow you to create multiple instances (objects) with the same set of attributes and methods.\n",
    "- Modularity: Code can be more easily maintained and modified without affecting other parts."
   ]
  },
  {
   "cell_type": "markdown",
   "metadata": {},
   "source": [
    "### Objects"
   ]
  },
  {
   "cell_type": "markdown",
   "metadata": {},
   "source": [
    "An object is an instance of a class. When a class is defined, no memory is allocated until an object of that class is created. Objects are the concrete instances that are used to perform the actual operations defined by the class."
   ]
  },
  {
   "cell_type": "markdown",
   "metadata": {},
   "source": [
    "Creating an object:"
   ]
  },
  {
   "cell_type": "code",
   "execution_count": null,
   "metadata": {},
   "outputs": [],
   "source": [
    "my_object = MyClass()"
   ]
  },
  {
   "cell_type": "markdown",
   "metadata": {},
   "source": [
    "Creating an actual class and object:"
   ]
  },
  {
   "cell_type": "code",
   "execution_count": null,
   "metadata": {},
   "outputs": [],
   "source": [
    "class Dog:\n",
    "    # __init__ is a constructor that initializes the instance attributes.\n",
    "    # Every class should have an __init__ method.\n",
    "    # Everytime an object is created, __init__ is called.\n",
    "    # Ex: my_dog = Dog(), at this point __init__ is called.\n",
    "    \n",
    "    # \"self\" is a reference to the instance of the class.\n",
    "    # It allows other methods and attributes to be accessed in the class.\n",
    "    def __init__(self):\n",
    "        pass\n",
    "    # Method of the Dog class\n",
    "    def bark(self):\n",
    "        return f\"Woof!\"\n",
    "\n",
    "# Creating an object of the Dog class\n",
    "my_dog = Dog()\n",
    "\n",
    "# Accessing the bark method of the Dog class\n",
    "print(my_dog.bark())  # Output: Buddy says Woof!\n"
   ]
  },
  {
   "cell_type": "markdown",
   "metadata": {},
   "source": [
    "What if we remove \"self\" parameter:"
   ]
  },
  {
   "cell_type": "code",
   "execution_count": null,
   "metadata": {},
   "outputs": [],
   "source": [
    "class boat:\n",
    "    def sail():\n",
    "        return \"The boat is sailing\"\n",
    "b = boat()\n",
    "# sail() method belongs to the whole class and not the instance.\n",
    "print(boat.sail())\n",
    "print(b.sail())"
   ]
  },
  {
   "cell_type": "markdown",
   "metadata": {},
   "source": [
    "## Attributes and method"
   ]
  },
  {
   "cell_type": "markdown",
   "metadata": {},
   "source": [
    "### Attributes"
   ]
  },
  {
   "cell_type": "markdown",
   "metadata": {},
   "source": [
    "Attributes are variables that belong to a class. There are two types of attributes:\n",
    "- Instance attributes: These are specific to the object and are defined in the constructor method.\n",
    "- Class attributes: These are shared by all instances of the class."
   ]
  },
  {
   "cell_type": "markdown",
   "metadata": {},
   "source": [
    "Instance attributes:\n",
    "- Using `.` to access the attributes"
   ]
  },
  {
   "cell_type": "code",
   "execution_count": null,
   "metadata": {},
   "outputs": [],
   "source": [
    "class MyClass:\n",
    "    def __init__(self, instance_attribute):\n",
    "        self.instance_attribute = instance_attribute\n",
    "\n",
    "my_object = MyClass(\"I am an instance attribute\")\n",
    "print(my_object.instance_attribute)"
   ]
  },
  {
   "cell_type": "markdown",
   "metadata": {},
   "source": [
    "Class attributes:\n",
    "- Using `.` to access the attributes"
   ]
  },
  {
   "cell_type": "code",
   "execution_count": null,
   "metadata": {},
   "outputs": [],
   "source": [
    "class MyClass:\n",
    "    class_attribute = \"I am a class attribute\"\n",
    "    def __init__(self, instance_attribute):\n",
    "        self.instance_attribute = instance_attribute\n",
    "my_object_1 = MyClass(\"I am an instance attribute\")\n",
    "my_object_2 = MyClass(\"I am another instance attribute\")\n",
    "print(my_object_1.class_attribute)\n",
    "print(my_object_2.class_attribute)\n",
    "print(MyClass.class_attribute)"
   ]
  },
  {
   "cell_type": "markdown",
   "metadata": {},
   "source": [
    "Here're some functions that relates to the attributes:"
   ]
  },
  {
   "cell_type": "markdown",
   "metadata": {},
   "source": [
    "- `getattr(object, attribute)`: returns the value of the attribute of an object.\n",
    "- `hasattr(object, attribute)`: returns True if the object has the attribute, else False.\n",
    "- `setattr(object, attribute, value)` - sets the value of the attribute of an object.\n",
    "- `delattr(object, attribute)` - deletes the attribute of an object."
   ]
  },
  {
   "cell_type": "markdown",
   "metadata": {},
   "source": [
    "Examples:"
   ]
  },
  {
   "cell_type": "code",
   "execution_count": null,
   "metadata": {},
   "outputs": [],
   "source": [
    "print(getattr(my_object_1, \"instance_attribute\"))\n",
    "print(hasattr(my_object_1, \"instance_attribute\"))\n",
    "setattr(my_object_1, \"instance_attribute\", \"This is a new instance attribute\")\n",
    "print(my_object_1.instance_attribute)\n",
    "\n",
    "delattr(my_object_1, \"instance_attribute\")\n",
    "print(hasattr(my_object_1, \"instance_attribute\"))"
   ]
  },
  {
   "cell_type": "markdown",
   "metadata": {},
   "source": [
    "#### Python default attributes"
   ]
  },
  {
   "cell_type": "markdown",
   "metadata": {},
   "source": [
    "- `__dict__`: A dictionary containing the class's namespace.\n",
    "- `__doc__`: The class's documentation string, or None if undefined.\n",
    "- `__name__`: The class name.\n",
    "- `__module__`: The name of the module in which the class was defined. This attribute is \"__main__\" in interactive mode.\n",
    "- `__bases__`: A tuple containing the base classes, in the order of their occurrence in the base class list."
   ]
  },
  {
   "cell_type": "code",
   "execution_count": null,
   "metadata": {},
   "outputs": [],
   "source": [
    "# Source: https://www.runoob.com/python/python-object.html\n",
    "class Employee:\n",
    "   \"\"\"\n",
    "    Common base class for all employees\n",
    "   \"\"\"\n",
    "   emp_count = 0\n",
    " \n",
    "   def __init__(self, name, salary):\n",
    "      self.name = name\n",
    "      self.salary = salary\n",
    "      Employee.emp_count += 1\n",
    "   \n",
    "   def display_count(self):\n",
    "     print(f\"Total Employee {Employee.emp_count}\" )\n",
    " \n",
    "   def display_employee(self):\n",
    "      print(f\"Name : {self.name}. Salary:{self.salary}\")\n",
    "\n",
    "print(f\"Employee.__doc__:{Employee.__doc__}\")\n",
    "print(f\"Employee.__name__:{Employee.__name__}\")\n",
    "print(f\"Employee.__module__:{Employee.__module__}\")\n",
    "print(f\"Employee.__bases__:{Employee.__bases__}\")\n",
    "print(f\"Employee.__dict__:{Employee.__dict__}\")"
   ]
  },
  {
   "cell_type": "markdown",
   "metadata": {},
   "source": [
    "#### Private class attributes"
   ]
  },
  {
   "cell_type": "markdown",
   "metadata": {},
   "source": [
    "Class attributes can also be made private by prefixing their name with a double underscore (`__`). This prevents them from being accessed directly from outside the class."
   ]
  },
  {
   "cell_type": "code",
   "execution_count": null,
   "metadata": {},
   "outputs": [],
   "source": [
    "class MyClass:\n",
    "    # Private attribute starts with two underscores\n",
    "    __private_attr = 'I am private'\n",
    "print(MyClass.__private_attr)"
   ]
  },
  {
   "cell_type": "markdown",
   "metadata": {},
   "source": [
    "### Method"
   ]
  },
  {
   "cell_type": "markdown",
   "metadata": {},
   "source": [
    "Methods are functions that belong to a class and define the behaviors of an object. They are defined similarly to functions but are called using the object."
   ]
  },
  {
   "cell_type": "code",
   "execution_count": null,
   "metadata": {},
   "outputs": [],
   "source": [
    "class MyClass:\n",
    "    def __init__(self, name):\n",
    "        self.name = name\n",
    "    \n",
    "    def greet(self):\n",
    "        return f\"Hello, {self.name}!\"\n",
    "\n",
    "my_object = MyClass(\"Alice\")\n",
    "# Accessing the greet method of the MyClass class\n",
    "print(my_object.greet())"
   ]
  },
  {
   "cell_type": "markdown",
   "metadata": {},
   "source": [
    "#### Special methods"
   ]
  },
  {
   "cell_type": "markdown",
   "metadata": {},
   "source": [
    "`__str__` and `__repr__`:\n",
    "- `__str__`: Defines the human-readable string representation of the object.\n",
    "- `__repr__`: Defines the official string representation of the object (useful for debugging).\n"
   ]
  },
  {
   "cell_type": "code",
   "execution_count": null,
   "metadata": {},
   "outputs": [],
   "source": [
    "class Dog:\n",
    "    def __init__(self, name):\n",
    "        self.name = name\n",
    "\n",
    "    def __str__(self):\n",
    "        return f\"Dog named {self.name}\"\n",
    "\n",
    "    def __repr__(self):\n",
    "        return f\"Dog('{self.name}')\"\n",
    "dog = Dog(\"Buddy\")\n",
    "# Return the __str__ method\n",
    "print(dog)\n",
    "# Return the __repr__ method\n",
    "print(repr(dog)) "
   ]
  },
  {
   "cell_type": "markdown",
   "metadata": {},
   "source": [
    "`__len__`, `__getitem__`, and `__setitem__`:\n",
    "- `__len__`: Defines the behavior of the len() function.\n",
    "- `__getitem__`: Defines the behavior of the [] operator for indexing.\n",
    "- `__setitem__`: Defines the behavior of the [] operator for setting items."
   ]
  },
  {
   "cell_type": "markdown",
   "metadata": {},
   "source": [
    "Example:"
   ]
  },
  {
   "cell_type": "code",
   "execution_count": null,
   "metadata": {},
   "outputs": [],
   "source": [
    "class CustomList:\n",
    "    def __init__(self):\n",
    "        self.items = []\n",
    "\n",
    "    def __len__(self):\n",
    "        return len(self.items)\n",
    "\n",
    "    def __getitem__(self, index):\n",
    "        return self.items[index]\n",
    "\n",
    "    def __setitem__(self, index, value):\n",
    "        self.items[index] = value\n",
    "\n",
    "    def add_item(self, value):\n",
    "        self.items.append(value)\n",
    "\n",
    "    def __str__(self):\n",
    "        return str(self.items)\n",
    "\n",
    "# Example usage\n",
    "my_list = CustomList()\n",
    "my_list.add_item('apple')\n",
    "my_list.add_item('banana')\n",
    "my_list.add_item('cherry')\n",
    "\n",
    "print(f\"List: {my_list}\")\n",
    "print(f\"Length of list: {len(my_list)}\")\n",
    "\n",
    "print(f\"Item at index 1: {my_list[1]}\")\n",
    "\n",
    "my_list[1] = 'blueberry'\n",
    "print(f\"Updated list: {my_list}\")"
   ]
  },
  {
   "cell_type": "markdown",
   "metadata": {},
   "source": [
    "#### Private method"
   ]
  },
  {
   "cell_type": "markdown",
   "metadata": {},
   "source": [
    "- Sometimes, we need to put restrictions on some methods of the class.\n",
    "- So that they can neither be accessed outside the class nor by any subclasses.\n",
    "- Prefixing their name with a double underscore (`__`) to indicate it's a private method"
   ]
  },
  {
   "cell_type": "markdown",
   "metadata": {},
   "source": [
    "Example:"
   ]
  },
  {
   "cell_type": "code",
   "execution_count": null,
   "metadata": {},
   "outputs": [],
   "source": [
    "class Dog:\n",
    "    def __init__(self, name):\n",
    "        self.name = name\n",
    "\n",
    "    def __name(self):\n",
    "        return self.name\n",
    "dog = Dog(\"Buddy\")\n",
    "print(dog.__name())"
   ]
  },
  {
   "cell_type": "markdown",
   "metadata": {},
   "source": [
    "### Inheritance"
   ]
  },
  {
   "cell_type": "markdown",
   "metadata": {},
   "source": [
    "Inheritance allows us to define a class that inherits all the methods and properties from another class. The class being inherited from is called the **parent class** or **base class**, and the class that inherits from the parent is called the **child class** or **derived class**."
   ]
  },
  {
   "cell_type": "markdown",
   "metadata": {},
   "source": [
    "Basic syntax:"
   ]
  },
  {
   "cell_type": "markdown",
   "metadata": {},
   "source": [
    "```python\n",
    "class ParentClass:\n",
    "    # parent class code here\n",
    "    \n",
    "class ChildClass(ParentClass):\n",
    "    # child class code here\n",
    "```"
   ]
  },
  {
   "cell_type": "markdown",
   "metadata": {},
   "source": [
    "Example:"
   ]
  },
  {
   "cell_type": "code",
   "execution_count": null,
   "metadata": {},
   "outputs": [],
   "source": [
    "# Animal is a parent class\n",
    "class Animal:\n",
    "    def __init__(self, name):\n",
    "        self.name = name\n",
    "\n",
    "    def speak(self):\n",
    "        raise NotImplementedError(\"Subclasses must implement this method\")\n",
    "\n",
    "class Dog(Animal):\n",
    "    # Overriding the speak method from the parent class\n",
    "    # Providing a custom implementation\n",
    "    def speak(self):\n",
    "        return f\"{self.name} says Woof!\"\n",
    "    \n",
    "    # Adding a new method to the Dog class\n",
    "    # Cat class does not have this method\n",
    "    def run(self):\n",
    "        return f\"{self.name} runs\"\n",
    "\n",
    "class Cat(Animal):\n",
    "    def speak(self):\n",
    "        return f\"{self.name} says Meow!\"\n",
    "    \n",
    "    def jump(self):\n",
    "        return f\"{self.name} jumps\"\n",
    "\n",
    "dog = Dog(\"Buddy\")\n",
    "cat = Cat(\"Whiskers\")\n",
    "\n",
    "print(dog.speak())\n",
    "print(cat.speak()) "
   ]
  },
  {
   "cell_type": "markdown",
   "metadata": {},
   "source": [
    "#### Types of inheritance"
   ]
  },
  {
   "cell_type": "markdown",
   "metadata": {},
   "source": [
    "Python supports multiple types of inheritance:\n",
    "- Single Inheritance: A child class inherits from one parent class.\n",
    "- Multiple Inheritance: A child class inherits from more than one parent class.\n",
    "- Multilevel Inheritance: A child class inherits from a parent class, which in turn inherits from another parent class.\n",
    "- Hierarchical Inheritance: Multiple child classes inherit from the same parent class.\n",
    "- Hybrid Inheritance: A combination of two or more types of inheritance."
   ]
  },
  {
   "cell_type": "markdown",
   "metadata": {},
   "source": [
    "Single inheritance:"
   ]
  },
  {
   "cell_type": "code",
   "execution_count": null,
   "metadata": {},
   "outputs": [],
   "source": [
    "class Parent:\n",
    "    def func1(self):\n",
    "        print(\"This is function one\")\n",
    "\n",
    "class Child(Parent):\n",
    "    def func2(self):\n",
    "        print(\"This is function two\")\n",
    "\n",
    "obj = Child()\n",
    "obj.func1()\n",
    "obj.func2()"
   ]
  },
  {
   "cell_type": "markdown",
   "metadata": {},
   "source": [
    "Multiple inheritance:"
   ]
  },
  {
   "cell_type": "code",
   "execution_count": null,
   "metadata": {},
   "outputs": [],
   "source": [
    "class Parent1:\n",
    "    def func1(self):\n",
    "        print(\"This is function one from Parent1\")\n",
    "\n",
    "class Parent2:\n",
    "    def __init__(self):\n",
    "        self.i = 1\n",
    "    def func2(self):\n",
    "        print(\"This is function two from Parent2\")\n",
    "\n",
    "# Child class inherits from Parent1 and Parent2\n",
    "# Separate the parent classes by comma\n",
    "class Child(Parent1, Parent2):\n",
    "    def func3(self):\n",
    "        print(\"This is function three\")\n",
    "\n",
    "obj = Child()\n",
    "print(obj.i)\n",
    "obj.func1()\n",
    "obj.func2()\n",
    "obj.func3()"
   ]
  },
  {
   "cell_type": "markdown",
   "metadata": {},
   "source": [
    "Multilevel inheritance:"
   ]
  },
  {
   "cell_type": "code",
   "execution_count": null,
   "metadata": {},
   "outputs": [],
   "source": [
    "class Grandparent:\n",
    "    def func1(self):\n",
    "        print(\"This is function one from Grandparent\")\n",
    "\n",
    "class Parent(Grandparent):\n",
    "    def func2(self):\n",
    "        print(\"This is function two from Parent\")\n",
    "\n",
    "class Child(Parent):\n",
    "    def func3(self):\n",
    "        print(\"This is function three from Child\")\n",
    "\n",
    "obj = Child()\n",
    "obj.func1()\n",
    "obj.func2()\n",
    "obj.func3()"
   ]
  },
  {
   "cell_type": "markdown",
   "metadata": {},
   "source": [
    "Hierarchical inheritance:"
   ]
  },
  {
   "cell_type": "code",
   "execution_count": null,
   "metadata": {},
   "outputs": [],
   "source": [
    "class Parent:\n",
    "    def func1(self):\n",
    "        print(\"This is function one from Parent\")\n",
    "\n",
    "class Child1(Parent):\n",
    "    def func2(self):\n",
    "        print(\"This is function two from Child1\")\n",
    "\n",
    "class Child2(Parent):\n",
    "    def func3(self):\n",
    "        print(\"This is function three from Child2\")\n",
    "\n",
    "obj1 = Child1()\n",
    "obj2 = Child2()\n",
    "obj1.func1()\n",
    "obj1.func2()\n",
    "obj2.func1()\n",
    "obj2.func3()"
   ]
  },
  {
   "cell_type": "markdown",
   "metadata": {},
   "source": [
    "Hybrid inheritance:"
   ]
  },
  {
   "cell_type": "code",
   "execution_count": null,
   "metadata": {},
   "outputs": [],
   "source": [
    "class Base1:\n",
    "    def func1(self):\n",
    "        print(\"This is function one from Base1\")\n",
    "\n",
    "class Base2(Base1):\n",
    "    def func2(self):\n",
    "        print(\"This is function two from Base2\")\n",
    "\n",
    "class Base3:\n",
    "    def func3(self):\n",
    "        print(\"This is function three from Base3\")\n",
    "\n",
    "class Derived(Base2, Base3):\n",
    "    def func4(self):\n",
    "        print(\"This is function four from Derived\")\n",
    "\n",
    "obj = Derived()\n",
    "obj.func1()\n",
    "obj.func2()\n",
    "obj.func3()\n",
    "obj.func4()"
   ]
  },
  {
   "cell_type": "markdown",
   "metadata": {},
   "source": [
    "#### `super()` function"
   ]
  },
  {
   "cell_type": "markdown",
   "metadata": {},
   "source": [
    "The super() function in Python is used to **call a method from the parent class**. This is especially useful in cases of multiple and multilevel inheritance where you want to ensure the correct method is called."
   ]
  },
  {
   "cell_type": "code",
   "execution_count": null,
   "metadata": {},
   "outputs": [],
   "source": [
    "class Parent:\n",
    "    def func(self):\n",
    "        print(\"This is the parent function\")\n",
    "\n",
    "class Child(Parent):\n",
    "    def func(self):\n",
    "        # Call the parent class function\n",
    "        # Sometimes you want to use both the parent and child class functions\n",
    "        super().func()  \n",
    "        print(\"This is the child function\")\n",
    "\n",
    "obj = Child()\n",
    "obj.func()\n"
   ]
  },
  {
   "cell_type": "markdown",
   "metadata": {},
   "source": [
    "#### `isinstance()` and `issubclass()`"
   ]
  },
  {
   "cell_type": "markdown",
   "metadata": {},
   "source": [
    "- `isinstance()` function checks if an object is an instance of a class or a tuple of classes. \n",
    "- `issubclass()` function checks if a class is a subclass of another class or a tuple of classes."
   ]
  },
  {
   "cell_type": "code",
   "execution_count": null,
   "metadata": {},
   "outputs": [],
   "source": [
    "class Parent:\n",
    "    pass\n",
    "\n",
    "class Child(Parent):\n",
    "    pass\n",
    "\n",
    "obj = Child()\n",
    "print(isinstance(obj, Child))\n",
    "print(isinstance(obj, Parent))\n",
    "print(issubclass(Child, Parent))\n",
    "print(issubclass(Parent, Child))"
   ]
  },
  {
   "cell_type": "markdown",
   "metadata": {},
   "source": [
    "**Exercise**"
   ]
  }
 ],
 "metadata": {
  "kernelspec": {
   "display_name": "python-course",
   "language": "python",
   "name": "python3"
  },
  "language_info": {
   "codemirror_mode": {
    "name": "ipython",
    "version": 3
   },
   "file_extension": ".py",
   "mimetype": "text/x-python",
   "name": "python",
   "nbconvert_exporter": "python",
   "pygments_lexer": "ipython3",
   "version": "3.12.4"
  }
 },
 "nbformat": 4,
 "nbformat_minor": 2
}
