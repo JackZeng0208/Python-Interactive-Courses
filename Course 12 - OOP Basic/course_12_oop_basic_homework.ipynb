{
 "cells": [
  {
   "cell_type": "markdown",
   "metadata": {},
   "source": [
    "Create a base class Animal with a method `make_sound()`. This method will print \"Animal can make sound\". Then, create two subclasses `Dog` and `Cat`, each with their own implementation of `make_sound()`.\n",
    "- dog's `make_sound()` should print \"Woof!\"\n",
    "- cat's `make_sound()` should print \"Meow!\""
   ]
  },
  {
   "cell_type": "code",
   "execution_count": null,
   "metadata": {},
   "outputs": [],
   "source": []
  },
  {
   "cell_type": "markdown",
   "metadata": {},
   "source": [
    "Based on previous question, modify the `Dog` class to include an instance attribute `name` and use the `super()` function to call the parent class' `make_sound()` in `Dog` class."
   ]
  },
  {
   "cell_type": "code",
   "execution_count": null,
   "metadata": {},
   "outputs": [],
   "source": []
  },
  {
   "cell_type": "markdown",
   "metadata": {},
   "source": [
    "Create a class BankAccount with a **private attribute** balance and methods deposit(amount) and withdraw(amount). Ensure that the balance **cannot go below zero**.\n",
    "\n",
    "deposit(`amount`):\n",
    "- Add `amount` into the balance (private instance attribute)\n",
    "- Print \"Deposited {`amount`}. New balance is {`balance`}\" if amount is positive\n",
    "- If `amount` is negative, then print \"Deposit amount must be positive\"\n",
    "\n",
    "withdraw(`amount`):\n",
    "- Decrease an `amount` of balance (if and only if there's enough balance)\n",
    "- After decreasing, print \"Withdrew {`amount`}. New balance is {`balance`}\"\n",
    "- If value of amount is less than current `balance`\n",
    "  - print \"Insufficient funds or invalid amount.\""
   ]
  },
  {
   "cell_type": "code",
   "execution_count": null,
   "metadata": {},
   "outputs": [],
   "source": []
  },
  {
   "cell_type": "markdown",
   "metadata": {},
   "source": [
    "Define a class `Library` with the following attributes and methods:\n",
    "\n",
    "- Instance attributes: name (parameter in constructor, library's name), books (a dictionary to store book titles and their counts)\n",
    "- Methods:\n",
    "  - add_book(title, count): Adds books to the library.\n",
    "    - print \"Added {count} copies of '{title}'\" after adding books\n",
    "  - borrow_book(title): Decreases the count of the specified book by 1 if available (available means there's at least one book in the library).\n",
    "    - print \"Borrowed '{title}'\" after borrowing\n",
    "    - print \"'{title}' is not available\" if there's no book to borrow given title\n",
    "  - return_book(title): Increases the count of the specified book by 1.\n",
    "  - list_books(): Prints all books and their counts.\n",
    "    - print format: \"{title}: {count} copies\""
   ]
  },
  {
   "cell_type": "code",
   "execution_count": null,
   "metadata": {},
   "outputs": [],
   "source": []
  }
 ],
 "metadata": {
  "kernelspec": {
   "display_name": "base",
   "language": "python",
   "name": "python3"
  },
  "language_info": {
   "codemirror_mode": {
    "name": "ipython",
    "version": 3
   },
   "file_extension": ".py",
   "mimetype": "text/x-python",
   "name": "python",
   "nbconvert_exporter": "python",
   "pygments_lexer": "ipython3",
   "version": "3.11.6"
  }
 },
 "nbformat": 4,
 "nbformat_minor": 2
}
