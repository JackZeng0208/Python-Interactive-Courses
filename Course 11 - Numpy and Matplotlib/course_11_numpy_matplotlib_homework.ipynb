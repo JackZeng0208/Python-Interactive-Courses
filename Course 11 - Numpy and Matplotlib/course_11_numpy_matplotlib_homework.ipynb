{
 "cells": [
  {
   "cell_type": "markdown",
   "metadata": {},
   "source": [
    "# Problem 1\n",
    "1. Create a 2D numpy array data with 5 rows and 4 columns (filled with random data)\n",
    "2. Compute the following for each column:\n",
    "- Mean\n",
    "- Standard deviation\n",
    "- Variance\n",
    "3. Identify the column with the highest mean value"
   ]
  },
  {
   "cell_type": "code",
   "execution_count": null,
   "metadata": {
    "vscode": {
     "languageId": "plaintext"
    }
   },
   "outputs": [],
   "source": []
  },
  {
   "cell_type": "markdown",
   "metadata": {},
   "source": [
    "# Problem 2\n",
    "Without running code, what is the answer of following code:\n",
    "```python\n",
    "arr = np.array(\n",
    "    [\n",
    "        [\n",
    "            [1,2,3,4],\n",
    "            [5,6,7,8]\n",
    "        ],\n",
    "        [\n",
    "            [9,10,11,12],\n",
    "            [13,14,15,16]\n",
    "        ]\n",
    "    ])\n",
    "print(arr.sum(axis=1))\n",
    "```"
   ]
  },
  {
   "cell_type": "markdown",
   "metadata": {},
   "source": [
    "# Problem 3"
   ]
  },
  {
   "cell_type": "markdown",
   "metadata": {},
   "source": [
    "1. Given two lists x and y with values:\n",
    "2. Plot the values\n",
    "3. Add a title, and labels for the x and y axes.\n",
    "4. Display the plot."
   ]
  },
  {
   "cell_type": "code",
   "execution_count": null,
   "metadata": {
    "vscode": {
     "languageId": "plaintext"
    }
   },
   "outputs": [],
   "source": [
    "x = [1, 2, 3, 4, 5]\n",
    "y = [6, 7, 8, 9, 10]"
   ]
  },
  {
   "cell_type": "markdown",
   "metadata": {},
   "source": [
    "# Problem 4\n",
    "1. Create a figure with a 2x2 grid of subplots.\n",
    "2. Plot different data in each subplot:\n",
    "   1. Top-left: x and y from Exercise 1.\n",
    "   2. Top-right: x and y multiplied by 2.\n",
    "   3. Bottom-left: x and y multiplied by 3.\n",
    "   4. Bottom-right: x and y multiplied by 4.\n",
    "3. Add titles to each subplot to indicate the transformation applied.\n",
    "4. Display the plot."
   ]
  },
  {
   "cell_type": "code",
   "execution_count": null,
   "metadata": {
    "vscode": {
     "languageId": "plaintext"
    }
   },
   "outputs": [],
   "source": [
    "x = [1, 2, 3, 4, 5]\n",
    "y = [6, 7, 8, 9, 10]"
   ]
  }
 ],
 "metadata": {
  "language_info": {
   "name": "python"
  }
 },
 "nbformat": 4,
 "nbformat_minor": 2
}
