{
 "cells": [
  {
   "cell_type": "markdown",
   "metadata": {},
   "source": [
    "# Course 11 - Numpy and Matplotlib"
   ]
  },
  {
   "cell_type": "markdown",
   "metadata": {},
   "source": [
    "## Numpy"
   ]
  },
  {
   "cell_type": "markdown",
   "metadata": {},
   "source": [
    "Numpy is a fundamental package for scientific computing in Python. It provides support for arrays, matrices, and many mathematical functions to operate on these data structures."
   ]
  },
  {
   "cell_type": "markdown",
   "metadata": {},
   "source": [
    "### Installation and using Numpy"
   ]
  },
  {
   "cell_type": "markdown",
   "metadata": {},
   "source": [
    "To install NumPy, you can use pip:"
   ]
  },
  {
   "cell_type": "markdown",
   "metadata": {},
   "source": [
    "```bash\n",
    "pip install numpy\n",
    "```"
   ]
  },
  {
   "cell_type": "markdown",
   "metadata": {},
   "source": [
    "To start using NumPy, you need to import it:"
   ]
  },
  {
   "cell_type": "code",
   "execution_count": null,
   "metadata": {},
   "outputs": [],
   "source": [
    "import numpy as np"
   ]
  },
  {
   "cell_type": "markdown",
   "metadata": {},
   "source": [
    "### NumPy Arrays (ndarray)"
   ]
  },
  {
   "cell_type": "markdown",
   "metadata": {},
   "source": [
    "The core feature of NumPy is the ndarray object. An ndarray is a grid of values, all of the **same type**"
   ]
  },
  {
   "cell_type": "markdown",
   "metadata": {},
   "source": [
    "#### Creating arrays"
   ]
  },
  {
   "cell_type": "markdown",
   "metadata": {},
   "source": [
    "Using `np.array()` to create a ndarry:"
   ]
  },
  {
   "cell_type": "code",
   "execution_count": null,
   "metadata": {},
   "outputs": [],
   "source": [
    "# Create a numpy array from a list:\n",
    "arr = np.array([1, 2, 3, 4, 5])\n",
    "\n",
    "# Create a numpy array from a tuple:\n",
    "arr = np.array((1, 2, 3, 4, 5))"
   ]
  },
  {
   "cell_type": "markdown",
   "metadata": {},
   "source": [
    "Using build-in functions (note: `shape` is the dimensions of the array, indexed by a tuple of nonnegative integers):"
   ]
  },
  {
   "cell_type": "markdown",
   "metadata": {},
   "source": [
    "- `np.zeros(shape)`: Creates an array filled with zeros.\n",
    "- `np.ones(shape)`: Creates an array filled with ones.\n",
    "- `np.full(shape, fill_value)`: Creates an array filled with the specified value.\n",
    "- `np.arange(start, stop, step)`: Creates an array with a range of values.\n",
    "- `np.linspace(start, stop, num)`: Creates an array with linearly spaced values.\n",
    "- `np.eye(N)`: Creates an identity matrix.\n",
    "- `np.random.random(shape)`: Creates an array filled with random values."
   ]
  },
  {
   "cell_type": "code",
   "execution_count": null,
   "metadata": {},
   "outputs": [],
   "source": [
    "print(np.zeros((5,2)))\n",
    "\n",
    "print(np.ones((5,2)))\n",
    "\n",
    "print(np.full((5,2), 7))\n",
    "\n",
    "# Note: only generates 1D arrays\n",
    "print(np.arange(0, 10, 2))\n",
    "\n",
    "# Note: only generates 1D arrays\n",
    "print(np.linspace(0, 10, 6))\n",
    "\n",
    "print(np.eye((5,2)))\n",
    "\n",
    "print(np.random.random((5,2)))"
   ]
  },
  {
   "cell_type": "markdown",
   "metadata": {},
   "source": [
    "### Array attributes"
   ]
  },
  {
   "cell_type": "markdown",
   "metadata": {},
   "source": [
    "NumPy arrays have several attributes that help in understanding the array's structure:"
   ]
  },
  {
   "cell_type": "markdown",
   "metadata": {},
   "source": [
    "- ndim: Number of dimensions.\n",
    "- shape: Dimensions of the array.\n",
    "- size: Total number of elements.\n",
    "- dtype: Data type of the elements."
   ]
  },
  {
   "cell_type": "code",
   "execution_count": null,
   "metadata": {},
   "outputs": [],
   "source": [
    "arr = np.array([[1, 2, 3], [4, 5, 6]])\n",
    "print(arr.ndim)\n",
    "print(arr.shape)\n",
    "print(arr.size)\n",
    "print(arr.dtype)"
   ]
  },
  {
   "cell_type": "markdown",
   "metadata": {},
   "source": [
    "### Array indexing and slicing"
   ]
  },
  {
   "cell_type": "markdown",
   "metadata": {},
   "source": [
    "NumPy arrays can be indexed and sliced similarly to Python lists but with more powerful features"
   ]
  },
  {
   "cell_type": "code",
   "execution_count": null,
   "metadata": {},
   "outputs": [],
   "source": [
    "arr = np.array([1, 2, 3, 4, 5])\n",
    "print(arr[0])         \n",
    "print(arr[1:3])\n",
    "print(arr[::2]) "
   ]
  },
  {
   "cell_type": "code",
   "execution_count": null,
   "metadata": {},
   "outputs": [],
   "source": [
    "# For 2D arrays, slicing is done for each dimension separately:\n",
    "# 1st row, 2nd column and so on\n",
    "arr = np.array([[1, 2, 3], [4, 5, 6]])\n",
    "print(arr[0, 1])\n",
    "print(arr[:, 1:])\n"
   ]
  },
  {
   "cell_type": "markdown",
   "metadata": {},
   "source": [
    "### Advanced array operations"
   ]
  },
  {
   "cell_type": "markdown",
   "metadata": {},
   "source": [
    "You can change the shape of an array using the `reshape()` method:\n",
    "- Note: the number of elements after reshaping should be same as before."
   ]
  },
  {
   "cell_type": "code",
   "execution_count": null,
   "metadata": {},
   "outputs": [],
   "source": [
    "arr = np.array([[1, 2, 3], [4, 5, 6]])\n",
    "reshaped = arr.reshape((3, 2))\n",
    "print(reshaped)\n",
    "\n",
    "# Incorrect example:\n",
    "arr = np.array([1, 2, 3, 4, 5, 6])\n",
    "# Total size of new array must be unchanged\n",
    "reshaped = arr.reshape((3, 3))"
   ]
  },
  {
   "cell_type": "markdown",
   "metadata": {},
   "source": [
    "Concatenation is the process of joining two or more arrays along an axis:"
   ]
  },
  {
   "cell_type": "code",
   "execution_count": null,
   "metadata": {},
   "outputs": [],
   "source": [
    "arr_1 = np.array([1, 2, 3])\n",
    "arr_2 = np.array([4, 5, 6])\n",
    "concatenated_array = np.concatenate((arr_1, arr_1))\n",
    "print(concatenated_array)"
   ]
  },
  {
   "cell_type": "markdown",
   "metadata": {},
   "source": [
    "Axis is corresponding to the dimension of the array.\n",
    "\n",
    "For example, an array has shape of (2,3):\n",
    "- Axis = 0 -> dimension #0 (row number = 2)\n",
    "- Axis = 1 -> dimension #1 (column number = 3)\n",
    "- And so on"
   ]
  },
  {
   "cell_type": "code",
   "execution_count": null,
   "metadata": {},
   "outputs": [],
   "source": [
    "arr_1 = np.array([[1, 2], [3, 4]])\n",
    "arr_2 = np.array([[5, 6], [7, 8]])\n",
    "# \n",
    "# Concatenate along axis 0 (rows)\n",
    "concatenated_array_axis0 = np.concatenate((arr_1, arr_2), axis=0)\n",
    "# Concatenate along axis 1 (columns)\n",
    "concatenated_array_axis1 = np.concatenate((arr_1, arr_2), axis=1)\n",
    "\n",
    "print(concatenated_array_axis0)\n",
    "print(concatenated_array_axis1)"
   ]
  },
  {
   "cell_type": "markdown",
   "metadata": {},
   "source": [
    "Splitting is the process of dividing an array into multiple sub-arrays."
   ]
  },
  {
   "cell_type": "code",
   "execution_count": null,
   "metadata": {},
   "outputs": [],
   "source": [
    "array = np.array([1, 2, 3, 4, 5, 6])\n",
    "# Note: the array is split into 3 equal parts\n",
    "# You must ensure that the array is divisible by the number of parts\n",
    "split_array = np.array_split(array, 3)\n",
    "print(split_array)"
   ]
  },
  {
   "cell_type": "markdown",
   "metadata": {},
   "source": [
    "Similar to concatenate() function, it also works in 2D array:"
   ]
  },
  {
   "cell_type": "code",
   "execution_count": null,
   "metadata": {},
   "outputs": [],
   "source": [
    "array = np.array([[1, 2, 3, 4], [5, 6, 7, 8]])\n",
    "\n",
    "# Split into 2 parts along rows (axis 0)\n",
    "split_array_axis0 = np.array_split(array, 2, axis=0)\n",
    "\n",
    "# Split into 2 parts along columns (axis 1)\n",
    "split_array_axis1 = np.array_split(array, 2, axis=1)\n",
    "print(split_array_axis0)\n",
    "print(split_array_axis1)"
   ]
  },
  {
   "cell_type": "markdown",
   "metadata": {},
   "source": [
    "### Vectorization"
   ]
  },
  {
   "cell_type": "markdown",
   "metadata": {},
   "source": [
    "- Vectorization is the process of converting iterative statements, such as loops, into vectorized operations that apply a function or operation on entire arrays at once. \n",
    "- This is a core feature of NumPy that allows you to perform element-wise operations on entire arrays without writing explicit loops."
   ]
  },
  {
   "cell_type": "markdown",
   "metadata": {},
   "source": [
    "#### Examples of vectorization"
   ]
  },
  {
   "cell_type": "markdown",
   "metadata": {},
   "source": [
    "Element-wise operations:"
   ]
  },
  {
   "cell_type": "code",
   "execution_count": null,
   "metadata": {},
   "outputs": [],
   "source": [
    "# Without vectorization\n",
    "arr_1 = np.array([1, 2, 3, 4, 5])\n",
    "arr_2 = np.array([6, 7, 8, 9, 10])\n",
    "result = np.zeros(5)\n",
    "\n",
    "for i in range(len(arr_1)):\n",
    "    result[i] = arr_1[i] + arr_2[i]\n",
    "\n",
    "print(result)\n",
    "\n",
    "# With vectorization\n",
    "result = arr_1 + arr_2\n",
    "print(result)"
   ]
  },
  {
   "cell_type": "markdown",
   "metadata": {},
   "source": [
    "Scalar operations:"
   ]
  },
  {
   "cell_type": "code",
   "execution_count": null,
   "metadata": {},
   "outputs": [],
   "source": [
    "arr = np.array([1, 2, 3, 4, 5])\n",
    "\n",
    "# Without vectorization\n",
    "result = np.zeros(5)\n",
    "for i in range(len(arr)):\n",
    "    result[i] = arr[i] * 2\n",
    "\n",
    "print(result)\n",
    "\n",
    "# With vectorization\n",
    "result = arr * 2\n",
    "print(result)"
   ]
  },
  {
   "cell_type": "markdown",
   "metadata": {},
   "source": [
    "### Statistical functions"
   ]
  },
  {
   "cell_type": "code",
   "execution_count": null,
   "metadata": {},
   "outputs": [],
   "source": [
    "arr = np.array([1, 2, 3, 4, 5])\n",
    "print(np.mean(arr))\n",
    "print(np.median(arr))\n",
    "print(np.std(arr))\n",
    "print(np.var(arr))\n",
    "print(np.percentile(arr, 50))"
   ]
  },
  {
   "cell_type": "markdown",
   "metadata": {},
   "source": [
    "#### Universal functions"
   ]
  },
  {
   "cell_type": "markdown",
   "metadata": {},
   "source": [
    "NumPy's universal functions (ufuncs) are functions that operate on ndarrays in an **element-wise fashion**. They are highly optimized and support vectorized operations."
   ]
  },
  {
   "cell_type": "code",
   "execution_count": null,
   "metadata": {},
   "outputs": [],
   "source": [
    "arr = np.array([1, 2, 3, 4, 5])\n",
    "print(np.add(arr, 5))\n",
    "print(np.multiply(arr, 2))\n",
    "print(np.exp(arr))\n",
    "print(np.sin(arr))\n",
    "print(np.cos(arr))\n",
    "\n",
    "# Find the maximum and minimum elements\n",
    "print(np.argmax(arr))\n",
    "print(np.argmin(arr))\n",
    "\n",
    "# Find the sum of elements\n",
    "print(np.sum(arr))"
   ]
  },
  {
   "cell_type": "markdown",
   "metadata": {},
   "source": [
    "**Exercise**"
   ]
  },
  {
   "cell_type": "markdown",
   "metadata": {},
   "source": [
    "1. Create a 2D numpy array data with 5 rows and 4 columns (filled with random data)\n",
    "2. Compute the following for each column:\n",
    "- Mean\n",
    "- Standard deviation\n",
    "- Variance\n",
    "3. Identify the column with the highest mean value"
   ]
  },
  {
   "cell_type": "code",
   "execution_count": null,
   "metadata": {},
   "outputs": [],
   "source": []
  },
  {
   "cell_type": "markdown",
   "metadata": {},
   "source": [
    "Without running code, what is the answer of following code:\n",
    "```python\n",
    "arr = np.array(\n",
    "    [\n",
    "        [\n",
    "            [1,2,3,4],\n",
    "            [5,6,7,8]\n",
    "        ],\n",
    "        [\n",
    "            [9,10,11,12],\n",
    "            [13,14,15,16]\n",
    "        ]\n",
    "    ])\n",
    "print(arr.sum(axis=1))\n",
    "```"
   ]
  },
  {
   "cell_type": "markdown",
   "metadata": {},
   "source": [
    "## Matplotlib"
   ]
  },
  {
   "cell_type": "markdown",
   "metadata": {},
   "source": [
    "Matplotlib is a powerful plotting library that provides a variety of plotting functions and tools. It is highly customizable, making it suitable for producing publication-quality figures."
   ]
  },
  {
   "cell_type": "markdown",
   "metadata": {},
   "source": [
    "### Installation and usage"
   ]
  },
  {
   "cell_type": "markdown",
   "metadata": {},
   "source": [
    "```bash\n",
    "pip install matplotlib\n",
    "```"
   ]
  },
  {
   "cell_type": "markdown",
   "metadata": {},
   "source": [
    "The `pyplot` module is often used:"
   ]
  },
  {
   "cell_type": "code",
   "execution_count": null,
   "metadata": {},
   "outputs": [],
   "source": [
    "import matplotlib.pyplot as plt"
   ]
  },
  {
   "cell_type": "markdown",
   "metadata": {},
   "source": [
    "### Basic plotting"
   ]
  },
  {
   "cell_type": "markdown",
   "metadata": {},
   "source": [
    "![figure_and_axes](matplotlib.png)"
   ]
  },
  {
   "cell_type": "markdown",
   "metadata": {},
   "source": [
    "Example:"
   ]
  },
  {
   "cell_type": "code",
   "execution_count": null,
   "metadata": {},
   "outputs": [],
   "source": [
    "x = [1, 2, 3, 4, 5]\n",
    "y = [2, 3, 5, 7, 11]\n",
    "\n",
    "# plt.plot is used to draw points on the graph\n",
    "# First argument is the x-axis values\n",
    "# Second argument is the y-axis values\n",
    "plt.figure(figsize = (10, 10))\n",
    "plt.plot(x, y)\n",
    "# The title of the graph\n",
    "plt.title(\"Basic Line Plot\")\n",
    "plt.xlabel(\"X-axis\")\n",
    "plt.ylabel(\"Y-axis\")\n",
    "# Display the graph\n",
    "plt.show()"
   ]
  },
  {
   "cell_type": "markdown",
   "metadata": {},
   "source": [
    "### Customizing plots"
   ]
  },
  {
   "cell_type": "markdown",
   "metadata": {},
   "source": [
    "You can customize various aspects of your plots, such as titles, labels, and colors:"
   ]
  },
  {
   "cell_type": "code",
   "execution_count": null,
   "metadata": {},
   "outputs": [],
   "source": [
    "# Customizing Line Plot\n",
    "\n",
    "plt.figure(figsize = (10, 10))\n",
    "plt.plot(x, y, color='green', linestyle='--', marker='o')\n",
    "plt.title(\"Customized Line Plot\")\n",
    "plt.xlabel(\"X-axis\")\n",
    "plt.ylabel(\"Y-axis\")\n",
    "\n",
    "# Add grid line to the plot\n",
    "plt.grid(True)\n",
    "plt.show()"
   ]
  },
  {
   "cell_type": "markdown",
   "metadata": {},
   "source": [
    "### Working with multiple plots"
   ]
  },
  {
   "cell_type": "markdown",
   "metadata": {},
   "source": [
    "Matplotlib allows you to create multiple plots in a single figure using `subplots`."
   ]
  },
  {
   "cell_type": "code",
   "execution_count": null,
   "metadata": {},
   "outputs": [],
   "source": [
    "# Creating Subplots\n",
    "# Here, (2,2) means that create a 2x2 grid of subplots\n",
    "fig, axs = plt.subplots(2, 2)\n",
    "\n",
    "# The first subplot, axs[0, 0]\n",
    "axs[0, 0].plot(x, y, 'r')\n",
    "axs[0, 0].set_title('Red Line')\n",
    "\n",
    "axs[0, 1].plot(x, y, 'g')\n",
    "axs[0, 1].set_title('Green Line')\n",
    "\n",
    "axs[1, 0].plot(x, y, 'b')\n",
    "axs[1, 0].set_title('Blue Line')\n",
    "\n",
    "axs[1, 1].plot(x, y, 'y')\n",
    "axs[1, 1].set_title('Yellow Line')\n",
    "\n",
    "plt.tight_layout()\n",
    "plt.show()"
   ]
  },
  {
   "cell_type": "markdown",
   "metadata": {},
   "source": [
    "### Plotting with different scales"
   ]
  },
  {
   "cell_type": "markdown",
   "metadata": {},
   "source": [
    "You can create plots with different scales using functions like log and logit."
   ]
  },
  {
   "cell_type": "code",
   "execution_count": null,
   "metadata": {},
   "outputs": [],
   "source": [
    "# Source: https://matplotlib.org/stable/gallery/scales/scales.html\n",
    "# make up some data in the interval (0, 1)\n",
    "y = np.random.normal(loc=0.5, scale=0.4, size=1000)\n",
    "y = y[(y > 0) & (y < 1)]\n",
    "y.sort()\n",
    "x = np.arange(len(y))\n",
    "\n",
    "# plot with various axes scales\n",
    "fig, axs = plt.subplots(2, 2, figsize=(6, 8), layout='constrained')\n",
    "\n",
    "# linear\n",
    "axs[0, 0].plot(x, y)\n",
    "axs[0, 0].set_yscale('linear')\n",
    "axs[0, 0].set_title('Linear')\n",
    "\n",
    "# log\n",
    "axs[0, 1].plot(x, y)\n",
    "axs[0, 1].set_yscale('log')\n",
    "axs[0, 1].set_title('Log')\n",
    "# symmetric log\n",
    "\n",
    "axs[1, 0].plot(x, y - y.mean())\n",
    "axs[1, 0].set_yscale('symlog', linthresh=0.01)\n",
    "axs[1, 0].set_title('Symlog')\n",
    "\n",
    "# logit\n",
    "axs[1, 1].plot(x, y)\n",
    "axs[1, 1].set_yscale('logit')\n",
    "axs[1, 1].set_title('Logit')\n",
    "\n",
    "plt.show()\n"
   ]
  },
  {
   "cell_type": "markdown",
   "metadata": {},
   "source": [
    "### Advanced plotting"
   ]
  },
  {
   "cell_type": "markdown",
   "metadata": {},
   "source": [
    "Matplotlib supports a wide range of plot types including scatter plots, bar charts, histograms, and more."
   ]
  },
  {
   "cell_type": "code",
   "execution_count": 39,
   "metadata": {},
   "outputs": [
    {
     "data": {
      "image/png": "[encoded data removed]",
      "text/plain": [
       "<Figure size 640x480 with 1 Axes>"
      ]
     },
     "metadata": {},
     "output_type": "display_data"
    },
    {
     "data": {
      "image/png": "[encoded data removed]",
      "text/plain": [
       "<Figure size 640x480 with 1 Axes>"
      ]
     },
     "metadata": {},
     "output_type": "display_data"
    },
    {
     "data": {
      "image/png": "[encoded data removed]",
      "text/plain": [
       "<Figure size 640x480 with 1 Axes>"
      ]
     },
     "metadata": {},
     "output_type": "display_data"
    }
   ],
   "source": [
    "# Scatter Plot\n",
    "x = [1, 2, 3, 4, 5]\n",
    "y = [2, 3, 5, 7, 11]\n",
    "plt.scatter(x, y)\n",
    "plt.title(\"Scatter Plot\")\n",
    "plt.xlabel(\"X-axis\")\n",
    "plt.ylabel(\"Y-axis\")\n",
    "plt.show()\n",
    "\n",
    "# Bar Chart\n",
    "categories = ['A', 'B', 'C', 'D']\n",
    "values = [10, 15, 7, 10]\n",
    "\n",
    "# The first argument is the categories\n",
    "# The second argument is the corresponding frequency, representing how many times each category appears\n",
    "plt.bar(categories, values)\n",
    "plt.title(\"Bar Chart\")\n",
    "plt.xlabel(\"Categories\")\n",
    "plt.ylabel(\"Values\")\n",
    "plt.show()\n",
    "\n",
    "# Histogram\n",
    "data = np.random.randn(1000)\n",
    "# Histogram shows the frequency of each value\n",
    "plt.hist(data, bins=30)\n",
    "plt.title(\"Histogram\")\n",
    "plt.xlabel(\"Value\")\n",
    "plt.ylabel(\"Frequency\")\n",
    "plt.show()\n"
   ]
  },
  {
   "cell_type": "markdown",
   "metadata": {},
   "source": [
    "**Exercise**"
   ]
  },
  {
   "cell_type": "markdown",
   "metadata": {},
   "source": [
    "1. Given two lists x and y with values:\n",
    "2. Plot the values using plt.plot.\n",
    "3. Add a title, and labels for the x and y axes.\n",
    "4. Display the plot."
   ]
  },
  {
   "cell_type": "code",
   "execution_count": null,
   "metadata": {},
   "outputs": [],
   "source": [
    "x = [1, 2, 3, 4, 5]\n",
    "y = [6, 7, 8, 9, 10]"
   ]
  },
  {
   "cell_type": "markdown",
   "metadata": {},
   "source": [
    "1. Create a figure with a 2x2 grid of subplots.\n",
    "2. Plot different data in each subplot:\n",
    "   1. Top-left: x and y from Exercise 1.\n",
    "   2. Top-right: x and y multiplied by 2.\n",
    "   3. Bottom-left: x and y multiplied by 3.\n",
    "   4. Bottom-right: x and y multiplied by 4.\n",
    "3. Add titles to each subplot to indicate the transformation applied.\n",
    "4. Display the plot."
   ]
  },
  {
   "cell_type": "code",
   "execution_count": null,
   "metadata": {},
   "outputs": [],
   "source": [
    "x = [1, 2, 3, 4, 5]\n",
    "y = [6, 7, 8, 9, 10]"
   ]
  }
 ],
 "metadata": {
  "kernelspec": {
   "display_name": "python-course",
   "language": "python",
   "name": "python3"
  },
  "language_info": {
   "codemirror_mode": {
    "name": "ipython",
    "version": 3
   },
   "file_extension": ".py",
   "mimetype": "text/x-python",
   "name": "python",
   "nbconvert_exporter": "python",
   "pygments_lexer": "ipython3",
   "version": "3.12.2"
  }
 },
 "nbformat": 4,
 "nbformat_minor": 2
}
