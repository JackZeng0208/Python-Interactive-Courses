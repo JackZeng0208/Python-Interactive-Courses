{
 "cells": [
  {
   "cell_type": "markdown",
   "metadata": {},
   "source": [
    "# Problem 1: Dictionary on cumulative sums"
   ]
  },
  {
   "cell_type": "markdown",
   "metadata": {},
   "source": [
    "Write a function `cumulative_sums` that takes a list of numbers and returns a dictionary where the keys are the number itself (ex: 1, 2,...) and the values are the cumulative sums up to that number."
   ]
  },
  {
   "cell_type": "code",
   "execution_count": 9,
   "metadata": {},
   "outputs": [
    {
     "name": "stdout",
     "output_type": "stream",
     "text": [
      "{1: 1, 2: 3, 3: 6, 4: 10, 5: 15}\n"
     ]
    }
   ],
   "source": [
    "def cumulative_sums(numbers):\n",
    "    num = {}\n",
    "    for i in numbers:\n",
    "        new_i = i\n",
    "        n = 0\n",
    "        while i > 0:\n",
    "            n += i\n",
    "            i -= 1\n",
    "        num[new_i] = n\n",
    "    print(num)\n",
    "        \n",
    "\n",
    "\n",
    "\n",
    "# Your output should be: {1: 1, 2: 3, 3: 6, 4: 10, 5: 15}\n",
    "numbers = [1, 2, 3, 4, 5]\n",
    "cumulative_sums(numbers)"
   ]
  },
  {
   "cell_type": "markdown",
   "metadata": {},
   "source": [
    "# Problem 2: Inverting a dictionary with lists"
   ]
  },
  {
   "cell_type": "markdown",
   "metadata": {},
   "source": [
    "Write a function `invert_dict` that takes a dictionary where the values are lists and returns a new dictionary where each element in the lists is a key and the corresponding value is a list of keys from the original dictionary that contained it."
   ]
  },
  {
   "cell_type": "code",
   "execution_count": 19,
   "metadata": {},
   "outputs": [
    {
     "name": "stdout",
     "output_type": "stream",
     "text": [
      "{1: ['a'], 2: ['a', 'b'], 3: ['a', 'b'], 4: ['b', 'c'], 5: ['c']}\n"
     ]
    }
   ],
   "source": [
    "def invert_dict(d):\n",
    "    result = {}\n",
    "    for key, value in d.items():\n",
    "            for j in value:\n",
    "                if j in result:\n",
    "                    result[j].append(key)\n",
    "                else:\n",
    "                    result[j] = [key]\n",
    "    print(result)\n",
    "\n",
    "\n",
    "\n",
    "# Your output should be: {1: ['a'], 2: ['a', 'b'], 3: ['a', 'b'], 4: ['b', 'c'], 5: ['c']}\n",
    "original_dict = {'a': [1, 2, 3], 'b': [2, 3, 4], 'c': [4, 5]}\n",
    "invert_dict(original_dict)"
   ]
  },
  {
   "cell_type": "markdown",
   "metadata": {},
   "source": [
    "# Problem 3: Tracking order of keys"
   ]
  },
  {
   "cell_type": "markdown",
   "metadata": {},
   "source": [
    "Write a function `track_order` that takes a list of operations (either 'insert key' or 'delete key') and returns a list of keys in the order they were last inserted and not deleted (i.e., after all operations are performed)."
   ]
  },
  {
   "cell_type": "code",
   "execution_count": 33,
   "metadata": {},
   "outputs": [
    {
     "name": "stdout",
     "output_type": "stream",
     "text": [
      "['b', 'a', 'c']\n"
     ]
    }
   ],
   "source": [
    "def track_order(list_1):\n",
    "    result = []\n",
    "    for i in list_1:\n",
    "        if i[0] == \"i\":\n",
    "            result.append(i[7])\n",
    "        if i[0] == \"d\":\n",
    "            result.remove(i[7])\n",
    "    print(result)\n",
    "#有点抽象\n",
    "\n",
    "    \n",
    "\n",
    "# Your output should be: ['b', 'a', 'c']\n",
    "# because first insertion of a is deleted\n",
    "operations = [\"insert a\", \"insert b\", \"delete a\", \"insert a\", \"insert c\"]\n",
    "track_order(operations)"
   ]
  },
  {
   "cell_type": "markdown",
   "metadata": {},
   "source": [
    "# Problem 4: Dictionary comprehension with conditional logic"
   ]
  },
  {
   "cell_type": "markdown",
   "metadata": {},
   "source": [
    "Given a list of tuples where each tuple contains a student's name and their score, create a **dictionary comprehension** that assigns 'Pass' or 'Fail' to each student based on their score (>= 50 is 'Pass')."
   ]
  },
  {
   "cell_type": "code",
   "execution_count": 48,
   "metadata": {},
   "outputs": [
    {
     "ename": "SyntaxError",
     "evalue": "invalid syntax (3643986989.py, line 4)",
     "output_type": "error",
     "traceback": [
      "\u001b[1;36m  Cell \u001b[1;32mIn[48], line 4\u001b[1;36m\u001b[0m\n\u001b[1;33m    print({x[0]: \"Pass\" if x[1] >= 50 else x[0]: \"Fail\" for x in a})\u001b[0m\n\u001b[1;37m                                               ^\u001b[0m\n\u001b[1;31mSyntaxError\u001b[0m\u001b[1;31m:\u001b[0m invalid syntax\n"
     ]
    }
   ],
   "source": [
    "students_scores = [('Alice', 85), ('Bob', 42), ('Charlie', 75), ('Dave', 30)]\n",
    "# Fill out your own dictionary comprehension:\n",
    "def score(a):\n",
    "    print([x[0]: \"Pass\" if x[1] >= 50 else x[0]: \"Fail\" for x in a])\n",
    "score(students_scores)"
   ]
  }
 ],
 "metadata": {
  "kernelspec": {
   "display_name": "base",
   "language": "python",
   "name": "python3"
  },
  "language_info": {
   "codemirror_mode": {
    "name": "ipython",
    "version": 3
   },
   "file_extension": ".py",
   "mimetype": "text/x-python",
   "name": "python",
   "nbconvert_exporter": "python",
   "pygments_lexer": "ipython3",
   "version": "3.12.3"
  }
 },
 "nbformat": 4,
 "nbformat_minor": 2
}
