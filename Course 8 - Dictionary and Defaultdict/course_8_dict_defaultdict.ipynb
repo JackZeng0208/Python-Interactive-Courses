{
 "cells": [
  {
   "cell_type": "markdown",
   "metadata": {},
   "source": [
    "# Course 8 - Dictionary and Defaultdict"
   ]
  },
  {
   "cell_type": "markdown",
   "metadata": {},
   "source": [
    "## 1. Dictionary"
   ]
  },
  {
   "cell_type": "markdown",
   "metadata": {},
   "source": [
    "Dictionary store data values in **key-value pairs**\n",
    "- Dictionary is mutable data type\n",
    "- Key is unique\n",
    "- Dictionary pairs are ordered (after Python 3.7)"
   ]
  },
  {
   "cell_type": "markdown",
   "metadata": {},
   "source": [
    "### Creating dictionary"
   ]
  },
  {
   "cell_type": "markdown",
   "metadata": {},
   "source": [
    "- Dictionaries are created using curly braces `{}` with key-value pairs separated by `,`. \n",
    "- Keys and values are separated by a colon `:`"
   ]
  },
  {
   "cell_type": "markdown",
   "metadata": {},
   "source": [
    "Basic syntax:\n"
   ]
  },
  {
   "cell_type": "markdown",
   "metadata": {},
   "source": [
    "```python\n",
    "dictionary = {\n",
    "    key_1 : value_1,\n",
    "    key_2 : value_2,\n",
    "    ...\n",
    "}\n",
    "```"
   ]
  },
  {
   "cell_type": "code",
   "execution_count": null,
   "metadata": {},
   "outputs": [],
   "source": [
    "# Example of creating a dictionary\n",
    "student = {\n",
    "    \"name\": \"John\",\n",
    "    \"age\": 25,\n",
    "    \"major\": \"Computer Science\"\n",
    "}"
   ]
  },
  {
   "cell_type": "markdown",
   "metadata": {},
   "source": [
    "Another way is to use `dict()` constructor:"
   ]
  },
  {
   "cell_type": "code",
   "execution_count": null,
   "metadata": {},
   "outputs": [],
   "source": [
    "student = dict(name=\"John\", age=25, major=\"Computer Science\")"
   ]
  },
  {
   "cell_type": "markdown",
   "metadata": {},
   "source": [
    "### Accessing dictionary"
   ]
  },
  {
   "cell_type": "markdown",
   "metadata": {},
   "source": [
    "Values in a dictionary can be accessed using the keys (similar to list and tuple)."
   ]
  },
  {
   "cell_type": "code",
   "execution_count": null,
   "metadata": {},
   "outputs": [],
   "source": [
    "# Syntax: dict_name[key]\n",
    "print(student[\"name\"])\n",
    "print(student[\"age\"])"
   ]
  },
  {
   "cell_type": "markdown",
   "metadata": {},
   "source": [
    "Or, you could use `get(key)` method:\n",
    "- Parameter: key -> the key you are looking"
   ]
  },
  {
   "cell_type": "code",
   "execution_count": null,
   "metadata": {},
   "outputs": [],
   "source": [
    "print(student.get(\"major\"))\n",
    "\n",
    "# If the key does not exist, return the None value\n",
    "print(student.get(\"graduation_year\"))"
   ]
  },
  {
   "cell_type": "markdown",
   "metadata": {},
   "source": [
    "#### Accessing all keys and values"
   ]
  },
  {
   "cell_type": "markdown",
   "metadata": {},
   "source": [
    "- `keys()` method: return all of the key values as a list\n",
    "- `values()` method: return all of the value as as a list"
   ]
  },
  {
   "cell_type": "code",
   "execution_count": null,
   "metadata": {},
   "outputs": [],
   "source": [
    "print(student.keys())\n",
    "print(student.values())"
   ]
  },
  {
   "cell_type": "markdown",
   "metadata": {},
   "source": [
    "Usually, we use them for iterating keys or values"
   ]
  },
  {
   "cell_type": "code",
   "execution_count": null,
   "metadata": {},
   "outputs": [],
   "source": [
    "for key in student.keys():\n",
    "    print(key)\n",
    "\n",
    "for value in student.values():\n",
    "    print(value)"
   ]
  },
  {
   "cell_type": "markdown",
   "metadata": {},
   "source": [
    "#### Accessing all items"
   ]
  },
  {
   "cell_type": "markdown",
   "metadata": {},
   "source": [
    "The `items()` method returns a view object that displays **a list of dictionary’s key-value tuple pairs**."
   ]
  },
  {
   "cell_type": "code",
   "execution_count": null,
   "metadata": {},
   "outputs": [],
   "source": [
    "print(student.items())\n",
    "\n",
    "# It is usually used in a loop iteration\n",
    "for key, value in student.items():\n",
    "    print(key, value)"
   ]
  },
  {
   "cell_type": "markdown",
   "metadata": {},
   "source": [
    "#### Check key exists: using `in` keyword"
   ]
  },
  {
   "cell_type": "code",
   "execution_count": null,
   "metadata": {},
   "outputs": [],
   "source": [
    "# Check if a key exists in the dictionary\n",
    "print(\"name\" in student)"
   ]
  },
  {
   "cell_type": "markdown",
   "metadata": {},
   "source": [
    "### Dictionary Methods and Operations"
   ]
  },
  {
   "cell_type": "markdown",
   "metadata": {},
   "source": [
    "#### Adding and updating elements\n"
   ]
  },
  {
   "cell_type": "markdown",
   "metadata": {},
   "source": [
    "Add new key-value pairs to a dictionary by assigning a value to a new key."
   ]
  },
  {
   "cell_type": "code",
   "execution_count": null,
   "metadata": {},
   "outputs": [],
   "source": [
    "student[\"graduation_year\"] = 2024\n",
    "print(student)"
   ]
  },
  {
   "cell_type": "markdown",
   "metadata": {},
   "source": [
    "Update existing key-value pairs by assigning a new value to an existing key"
   ]
  },
  {
   "cell_type": "code",
   "execution_count": null,
   "metadata": {},
   "outputs": [],
   "source": [
    "student[\"age\"] = 26\n",
    "print(student)"
   ]
  },
  {
   "cell_type": "markdown",
   "metadata": {},
   "source": [
    "#### Removing elements"
   ]
  },
  {
   "cell_type": "markdown",
   "metadata": {},
   "source": [
    "Three methods/keywords:\n",
    "1. `pop(key)`\n",
    "2. `del` keyword\n",
    "3. `clear()`"
   ]
  },
  {
   "cell_type": "markdown",
   "metadata": {},
   "source": [
    "`pop()` method removes the specified key and **returns the corresponding value**. If the key is not found, it **raises a KeyError**.\n"
   ]
  },
  {
   "cell_type": "code",
   "execution_count": null,
   "metadata": {},
   "outputs": [],
   "source": [
    "age = student.pop(\"age\")\n",
    "print(age)\n",
    "print(student)"
   ]
  },
  {
   "cell_type": "markdown",
   "metadata": {},
   "source": [
    "`del` keyword removes the item with the specified key"
   ]
  },
  {
   "cell_type": "code",
   "execution_count": null,
   "metadata": {},
   "outputs": [],
   "source": [
    "# You need to specify which element to delete\n",
    "del student[\"graduation_year\"]\n",
    "print(student)"
   ]
  },
  {
   "cell_type": "markdown",
   "metadata": {},
   "source": [
    "`clear()` method removes all items from the dictionary."
   ]
  },
  {
   "cell_type": "code",
   "execution_count": null,
   "metadata": {},
   "outputs": [],
   "source": [
    "student.clear()\n",
    "print(student)"
   ]
  },
  {
   "cell_type": "markdown",
   "metadata": {},
   "source": [
    "#### Other dictionary methods"
   ]
  },
  {
   "cell_type": "markdown",
   "metadata": {},
   "source": [
    "`copy()` method returns a **shallow copy** of the dictionary."
   ]
  },
  {
   "cell_type": "code",
   "execution_count": null,
   "metadata": {},
   "outputs": [],
   "source": [
    "student = {\n",
    "    \"name\": \"John\",\n",
    "    \"age\": 25,\n",
    "    \"major\": \"Computer Science\"\n",
    "}\n",
    "student_copy = student.copy()\n",
    "# print(student_copy)\n",
    "\n",
    "\n",
    "# Shallow copy: the copy() method creates a new dictionary, but the location of the values is the same\n",
    "print(id(student[\"name\"]))\n",
    "print(id(student_copy[\"name\"]))"
   ]
  },
  {
   "cell_type": "code",
   "execution_count": null,
   "metadata": {},
   "outputs": [],
   "source": [
    "# If you update the value of the original dictionary, the value of the copied dictionary will also be updated\n",
    "# It will not work if the value is an immutable object\n",
    "student[\"name\"] = \"Jane\"\n",
    "print(student)\n",
    "print(student_copy)\n",
    "\n",
    "# It only works if the value is a mutable object\n",
    "student = {\n",
    "    \"name\": \"John\",\n",
    "    \"age\": 25,\n",
    "    \"major\": [\"Computer Science\", \"Math\"]\n",
    "}\n",
    "student_copy = student.copy()\n",
    "print(student)\n",
    "print(student_copy)\n",
    "\n",
    "# Here, the value of the original dictionary is a list, which is a mutable object\n",
    "# Therefore, the value of the copied dictionary will be updated\n",
    "student[\"major\"].append(\"Art\")\n",
    "print(student)\n",
    "print(student_copy)"
   ]
  },
  {
   "cell_type": "markdown",
   "metadata": {},
   "source": [
    "`update()` method updates the dictionary with the elements from another dictionary object or from an iterable of key-value pairs.\n",
    " - As same as assigning new key-value pairs"
   ]
  },
  {
   "cell_type": "code",
   "execution_count": null,
   "metadata": {},
   "outputs": [],
   "source": [
    "student = {\"name\": \"John\", \"age\": 25}\n",
    "student.update({\"major\": \"Computer Science\", \"graduation_year\": 2022})\n",
    "print(student)"
   ]
  },
  {
   "cell_type": "markdown",
   "metadata": {},
   "source": [
    "#### Dictionary comprehensions"
   ]
  },
  {
   "cell_type": "markdown",
   "metadata": {},
   "source": [
    "Similar to list comprehension, dictionary comprehensions provide a concise way to create dictionaries."
   ]
  },
  {
   "cell_type": "code",
   "execution_count": null,
   "metadata": {},
   "outputs": [],
   "source": [
    "# Making sure you assign both keys and values\n",
    "squares = {x: x**2 for x in range(6)}\n",
    "print(squares)"
   ]
  },
  {
   "cell_type": "markdown",
   "metadata": {},
   "source": [
    "**Exercise**"
   ]
  },
  {
   "cell_type": "markdown",
   "metadata": {},
   "source": [
    "1. Create a dictionary book with the following key-value pairs:\n",
    "- \"title\": \"To Kill a Mockingbird\"\n",
    "- \"author\": \"Harper Lee\"\n",
    "- \"year_published\": 1960\n",
    "2. Access the value associated with the key \"author\".\n",
    "3. Access the value associated with the key \"genre\", providing a default value \"Fiction\".\n",
    "4. Add a new key-value pair to the book dictionary: \"genre\": \"Fiction\".\n",
    "5. Update the value associated with the key \"year_published\" to 1961."
   ]
  },
  {
   "cell_type": "code",
   "execution_count": null,
   "metadata": {},
   "outputs": [],
   "source": [
    "book = {\n",
    "    \"title\": \"To Kill a Mockingbird\",\n",
    "    \"author\": \"Harper Lee\",\n",
    "    \"year_published\": 1960\n",
    "}"
   ]
  },
  {
   "cell_type": "markdown",
   "metadata": {},
   "source": [
    "Write a function combine_dicts that takes a list of dictionaries and returns a single dictionary that combines them. If a key appears in more than one dictionary, sum the values."
   ]
  },
  {
   "cell_type": "code",
   "execution_count": null,
   "metadata": {},
   "outputs": [],
   "source": [
    "def combine_dicts(dicts: list) -> dict:\n",
    "    # Please write your code here\n",
    "    pass\n",
    "\n",
    "# Example output: {'a': 3, 'b': 5, 'c': 5}\n",
    "dict_1 = {'a': 1, 'b': 2}\n",
    "dict_2 = {'b': 3, 'c': 4}\n",
    "dict_3 = {'a': 2, 'c': 1}\n",
    "result = combine_dicts([dict_1, dict_2, dict_3])\n",
    "print(result)"
   ]
  },
  {
   "cell_type": "markdown",
   "metadata": {},
   "source": [
    "Write a function char_histogram that takes a string and returns a dictionary representing the frequency histogram of characters in the string, ignoring cases and non-alphabet characters\n",
    "- How to convert a string into all lower-case: `lower()` method\n",
    "  - Ex: `\"String\".lower()` -> `\"string\"`\n",
    "- How to check a character is in alphabet: `isalpha()` method\n",
    "  - Ex: `\"!\".isalpha()` -> `False`"
   ]
  },
  {
   "cell_type": "code",
   "execution_count": null,
   "metadata": {},
   "outputs": [],
   "source": [
    "def char_histogram(text: str) -> dict:\n",
    "    # Please write your code here\n",
    "    pass\n",
    "\n",
    "# Example output: {'h': 1, 'e': 1, 'l': 3, 'o': 2, 'w': 1, 'r': 1, 'd': 1}\n",
    "text = \"Hello, World!\"\n",
    "result = char_histogram(text)\n",
    "print(result)"
   ]
  },
  {
   "cell_type": "markdown",
   "metadata": {},
   "source": [
    "## 2. `defaultdict`"
   ]
  },
  {
   "cell_type": "markdown",
   "metadata": {},
   "source": [
    "- In addition to standard dictionaries, Python's `collections` module provides a specialized dictionary called `defaultdict`. \n",
    "- A `defaultdict` is a subclass of the built-in dict class that overrides one method and adds one writable instance variable. \n",
    "- It provides a default value for the key that does not exist."
   ]
  },
  {
   "cell_type": "markdown",
   "metadata": {},
   "source": [
    "### Why we use it?"
   ]
  },
  {
   "cell_type": "markdown",
   "metadata": {},
   "source": [
    "Example:"
   ]
  },
  {
   "cell_type": "code",
   "execution_count": null,
   "metadata": {},
   "outputs": [],
   "source": [
    "student = {\n",
    "    \"name\": \"John\",\n",
    "    \"age\": 25,\n",
    "    \"major\": \"Computer Science\"\n",
    "}\n",
    "print(student[\"name\"])\n",
    "# If the key does not exist, it will return an error\n",
    "# That's the reason why we need defaultdict\n",
    "print(student['school'])"
   ]
  },
  {
   "cell_type": "markdown",
   "metadata": {},
   "source": [
    "### Importing `defaultdict`"
   ]
  },
  {
   "cell_type": "markdown",
   "metadata": {},
   "source": [
    "To use `defaultdict`, you need to import it from the collections module."
   ]
  },
  {
   "cell_type": "code",
   "execution_count": 122,
   "metadata": {},
   "outputs": [],
   "source": [
    "from collections import defaultdict"
   ]
  },
  {
   "cell_type": "markdown",
   "metadata": {},
   "source": [
    "### Creating a `defaultdict`"
   ]
  },
  {
   "cell_type": "markdown",
   "metadata": {},
   "source": [
    "`defaultdict(factory_function, dict)`:\n",
    "-  For the factory_function parameter, you need to default value data type for missing keys\n",
    "-  factory_function returns a default value for keys that're not present in the dictionary"
   ]
  },
  {
   "cell_type": "code",
   "execution_count": 132,
   "metadata": {},
   "outputs": [],
   "source": [
    "# Default factory is int, which provides 0 as the default value\n",
    "int_dict = defaultdict(int)\n",
    "\n",
    "# Default factory is list, which provides an empty list as the default value\n",
    "list_dict = defaultdict(list)\n",
    "\n",
    "# Default factory could also be lambda function\n",
    "lambda_dict = defaultdict(lambda: \"None\")\n",
    "\n",
    "# Creating a defaultdict from existing dictionary\n",
    "# Put the original dictionary as the second argument\n",
    "student = {\n",
    "    \"name\": \"John\",\n",
    "    \"age\": 25,\n",
    "    \"major\": \"Computer Science\"\n",
    "}\n",
    "student_default = defaultdict(lambda: \"None\", student)"
   ]
  },
  {
   "cell_type": "markdown",
   "metadata": {},
   "source": [
    "### Use case"
   ]
  },
  {
   "cell_type": "code",
   "execution_count": 133,
   "metadata": {},
   "outputs": [
    {
     "name": "stdout",
     "output_type": "stream",
     "text": [
      "None\n"
     ]
    }
   ],
   "source": [
    "print(student_default[\"school\"])"
   ]
  }
 ],
 "metadata": {
  "kernelspec": {
   "display_name": "python-course",
   "language": "python",
   "name": "python3"
  },
  "language_info": {
   "codemirror_mode": {
    "name": "ipython",
    "version": 3
   },
   "file_extension": ".py",
   "mimetype": "text/x-python",
   "name": "python",
   "nbconvert_exporter": "python",
   "pygments_lexer": "ipython3",
   "version": "3.12.4"
  }
 },
 "nbformat": 4,
 "nbformat_minor": 2
}
