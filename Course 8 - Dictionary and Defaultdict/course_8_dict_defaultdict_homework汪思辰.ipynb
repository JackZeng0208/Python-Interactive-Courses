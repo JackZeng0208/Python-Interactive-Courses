{
 "cells": [
  {
   "cell_type": "markdown",
   "metadata": {},
   "source": [
    "# Problem 1: Dictionary on cumulative sums"
   ]
  },
  {
   "cell_type": "markdown",
   "metadata": {},
   "source": [
    "Write a function `cumulative_sums` that takes a list of numbers and returns a dictionary where the keys are the number itself (ex: 1, 2,...) and the values are the cumulative sums up to that number."
   ]
  },
  {
   "cell_type": "code",
   "execution_count": 2,
   "metadata": {},
   "outputs": [
    {
     "name": "stdout",
     "output_type": "stream",
     "text": [
      "{1: 1, 2: 3, 3: 6, 4: 10, 5: 15}\n"
     ]
    }
   ],
   "source": [
    "def cumulative_sums(numbers): \n",
    "    cumulative_dict = {}  \n",
    "    cumulative_sum = 0  \n",
    "    for number in numbers:   \n",
    "        cumulative_sum += number  \n",
    "        cumulative_dict[number] = cumulative_sum   \n",
    "    return cumulative_dict  \n",
    "numbers = [1, 2, 3, 4, 5]  \n",
    "print(cumulative_sums(numbers))\n",
    "\n",
    "# Your output should be: {1: 1, 2: 3, 3: 6, 4: 10, 5: 15}\n",
    "numbers = [1, 2, 3, 4, 5]"
   ]
  },
  {
   "cell_type": "markdown",
   "metadata": {},
   "source": [
    "# Problem 2: Inverting a dictionary with lists"
   ]
  },
  {
   "cell_type": "markdown",
   "metadata": {},
   "source": [
    "Write a function `invert_dict` that takes a dictionary where the values are lists and returns a new dictionary where each element in the lists is a key and the corresponding value is a list of keys from the original dictionary that contained it."
   ]
  },
  {
   "cell_type": "code",
   "execution_count": 3,
   "metadata": {},
   "outputs": [
    {
     "name": "stdout",
     "output_type": "stream",
     "text": [
      "{1: ['a'], 2: ['a', 'b'], 3: ['a', 'b'], 4: ['b', 'c'], 5: ['c']}\n"
     ]
    }
   ],
   "source": [
    "def invert_dict(d): \n",
    "    inverted = {}    \n",
    "    for key, value_list in d.items():    \n",
    "        for value in value_list:    \n",
    "            if value not in inverted:  \n",
    "                inverted[value] = [key]   \n",
    "            else:  \n",
    "                inverted[value].append(key)   \n",
    "    return inverted   \n",
    "original_dict = {'a': [1, 2, 3], 'b': [2, 3, 4], 'c': [4, 5]}  \n",
    "print(invert_dict(original_dict))\n",
    "\n",
    "# Your output should be: {1: ['a'], 2: ['a', 'b'], 3: ['a', 'b'], 4: ['b', 'c'], 5: ['c']}\n",
    "original_dict = {'a': [1, 2, 3], 'b': [2, 3, 4], 'c': [4, 5]}"
   ]
  },
  {
   "cell_type": "markdown",
   "metadata": {},
   "source": [
    "# Problem 3: Tracking order of keys"
   ]
  },
  {
   "cell_type": "markdown",
   "metadata": {},
   "source": [
    "Write a function `track_order` that takes a list of operations (either 'insert key' or 'delete key') and returns a list of keys in the order they were last inserted and not deleted (i.e., after all operations are performed)."
   ]
  },
  {
   "cell_type": "code",
   "execution_count": 1,
   "metadata": {},
   "outputs": [
    {
     "name": "stdout",
     "output_type": "stream",
     "text": [
      "['b', 'a', 'c']\n"
     ]
    }
   ],
   "source": [
    "def track_order(operations):  \n",
    "    current_order = []  \n",
    "    for operation in operations:  \n",
    "        action, key = operation.split()  \n",
    "        if action == \"insert\":   \n",
    "            if key in current_order:  \n",
    "                current_order.remove(key)   \n",
    "            current_order.append(key)  \n",
    "        elif action == \"delete\":  \n",
    "            if key in current_order:  \n",
    "                current_order.remove(key)  \n",
    "    return current_order  \n",
    "operations = [\"insert a\", \"insert b\", \"delete a\", \"insert a\", \"insert c\"]  \n",
    "print(track_order(operations))\n",
    "\n",
    "# Your output should be: ['b', 'a', 'c']\n",
    "# because first insertion of a is deleted\n",
    "operations = [\"insert a\", \"insert b\", \"delete a\", \"insert a\", \"insert c\"]"
   ]
  },
  {
   "cell_type": "markdown",
   "metadata": {},
   "source": [
    "# Problem 4: Dictionary comprehension with conditional logic"
   ]
  },
  {
   "cell_type": "markdown",
   "metadata": {},
   "source": [
    "Given a list of tuples where each tuple contains a student's name and their score, create a **dictionary comprehension** that assigns 'Pass' or 'Fail' to each student based on their score (>= 50 is 'Pass')."
   ]
  },
  {
   "cell_type": "code",
   "execution_count": 2,
   "metadata": {},
   "outputs": [],
   "source": [
    "students_scores = [('Alice', 85), ('Bob', 42), ('Charlie', 75), ('Dave', 30)]\n",
    "# Fill out your own dictionary comprehension: \n",
    "result = {name: 'Pass' if score >= 50 else 'Fail' for name, score in students_scores}"
   ]
  }
 ],
 "metadata": {
  "kernelspec": {
   "display_name": "base",
   "language": "python",
   "name": "python3"
  },
  "language_info": {
   "codemirror_mode": {
    "name": "ipython",
    "version": 3
   },
   "file_extension": ".py",
   "mimetype": "text/x-python",
   "name": "python",
   "nbconvert_exporter": "python",
   "pygments_lexer": "ipython3",
   "version": "3.12.3"
  }
 },
 "nbformat": 4,
 "nbformat_minor": 2
}
