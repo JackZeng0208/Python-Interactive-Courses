{
 "cells": [
  {
   "cell_type": "markdown",
   "metadata": {},
   "source": [
    "# Course 10 - Importing Modules, File and Exception Handling"
   ]
  },
  {
   "cell_type": "markdown",
   "metadata": {},
   "source": [
    "## Importing Modules"
   ]
  },
  {
   "cell_type": "markdown",
   "metadata": {},
   "source": [
    "You can import a module using the `import` statement. Once imported, you can access its functions, classes, and variables."
   ]
  },
  {
   "cell_type": "markdown",
   "metadata": {},
   "source": [
    "### Importing the entire module"
   ]
  },
  {
   "cell_type": "markdown",
   "metadata": {},
   "source": [
    "Example:"
   ]
  },
  {
   "cell_type": "code",
   "execution_count": null,
   "metadata": {},
   "outputs": [],
   "source": [
    "import math\n",
    "\n",
    "print(math.sqrt(16))\n",
    "print(math.pi)"
   ]
  },
  {
   "cell_type": "markdown",
   "metadata": {},
   "source": [
    "### Importing specific functions or variables"
   ]
  },
  {
   "cell_type": "markdown",
   "metadata": {},
   "source": [
    "Example:"
   ]
  },
  {
   "cell_type": "code",
   "execution_count": null,
   "metadata": {},
   "outputs": [],
   "source": [
    "from math import sqrt\n",
    "print(sqrt(16))"
   ]
  },
  {
   "cell_type": "markdown",
   "metadata": {},
   "source": [
    "### Importing with an alias"
   ]
  },
  {
   "cell_type": "markdown",
   "metadata": {},
   "source": [
    "Example:"
   ]
  },
  {
   "cell_type": "code",
   "execution_count": null,
   "metadata": {},
   "outputs": [],
   "source": [
    "from math import sqrt as s\n",
    "print(s(16))"
   ]
  },
  {
   "cell_type": "markdown",
   "metadata": {},
   "source": [
    "## Opening and closing files"
   ]
  },
  {
   "cell_type": "markdown",
   "metadata": {},
   "source": [
    "To open a file in Python, you use the `open()` function. This function takes two parameters: the **file name** and the **mode**."
   ]
  },
  {
   "cell_type": "markdown",
   "metadata": {},
   "source": [
    "Here're the modes you can choose:\n",
    "- 'r': Read mode (default). Opens the file for reading.\n",
    "- 'w': Write mode. Opens the file for writing (creates a new file if it doesn't exist or truncates the file if it exists).\n",
    "- 'a': Append mode. Opens the file for appending (creates a new file if it doesn't exist).\n",
    "- 'x': Create mode. Create the file, return error if the file exists\n",
    "- 'b': Binary mode. Used in conjunction with other modes for binary files.\n",
    "- 't': Text mode (default). Used in conjunction with other modes for text files."
   ]
  },
  {
   "cell_type": "markdown",
   "metadata": {},
   "source": [
    "Always ensure that files are properly closed after they are opened to free up system resources. This can be done using the `close()` method."
   ]
  },
  {
   "cell_type": "code",
   "execution_count": null,
   "metadata": {},
   "outputs": [],
   "source": [
    "# Example of opening a file in read mode\n",
    "file = open('example.txt', 'r')\n",
    "print(file.read())\n",
    "\n",
    "# Always close the file after you are done with it\n",
    "file.close()"
   ]
  },
  {
   "cell_type": "markdown",
   "metadata": {},
   "source": [
    "## Read from and writing to files"
   ]
  },
  {
   "cell_type": "markdown",
   "metadata": {},
   "source": [
    "### Reading files"
   ]
  },
  {
   "cell_type": "markdown",
   "metadata": {},
   "source": [
    "You can read the contents of a file using various methods:\n",
    "- `read()`: Reads the entire file.\n",
    "- `readline()`: Reads a single line from the file.\n",
    "- `readlines()`: Reads all lines into a list."
   ]
  },
  {
   "cell_type": "code",
   "execution_count": null,
   "metadata": {},
   "outputs": [],
   "source": [
    "file = open('example.txt', 'r')\n",
    "# Reads the entire file and return file content as a string\n",
    "print(file.read())\n",
    "file.close()\n",
    "\n",
    "print()\n",
    "file = open('example.txt', 'r')\n",
    "# Reads the one line of the file\n",
    "# Here, the cursor is at the beginning of the file\n",
    "# So it reads the first line\n",
    "print(file.readline())\n",
    "file.close()\n",
    "\n",
    "file = open('example.txt', 'r')\n",
    "# Reads the lines and return as a list\n",
    "print(file.readlines()) \n",
    "file.close()"
   ]
  },
  {
   "cell_type": "markdown",
   "metadata": {},
   "source": [
    "We can also read each line using `for` loop:"
   ]
  },
  {
   "cell_type": "code",
   "execution_count": null,
   "metadata": {},
   "outputs": [],
   "source": [
    "# Reading lines using for loop\n",
    "file = open('example.txt', 'r')\n",
    "for line in file:\n",
    "    l = line.strip('\\n')\n",
    "    print(l)"
   ]
  },
  {
   "cell_type": "markdown",
   "metadata": {},
   "source": [
    "### Writing files"
   ]
  },
  {
   "cell_type": "markdown",
   "metadata": {},
   "source": [
    "You can write to a file using the `write()` method. If the file does not exist, it will be created."
   ]
  },
  {
   "cell_type": "code",
   "execution_count": null,
   "metadata": {},
   "outputs": [],
   "source": [
    "file = open('example.txt', 'w')\n",
    "# 'w' mode will overwrite the file\n",
    "file.write('Hello, World!')\n",
    "file.close()"
   ]
  },
  {
   "cell_type": "markdown",
   "metadata": {},
   "source": [
    "You can also write multiple lines using the `writelines()` method."
   ]
  },
  {
   "cell_type": "code",
   "execution_count": null,
   "metadata": {},
   "outputs": [],
   "source": [
    "lines = ['First line\\n', 'Second line\\n', 'Third line\\n']\n",
    "file = open('example.txt', 'w')\n",
    "file.writelines(lines)\n",
    "file.close()"
   ]
  },
  {
   "cell_type": "markdown",
   "metadata": {},
   "source": [
    "### With statement"
   ]
  },
  {
   "cell_type": "markdown",
   "metadata": {},
   "source": [
    "Using the `with` statement ensures that files are properly closed after their suite finishes, even if an exception is raised. This is a cleaner and more concise way to handle files."
   ]
  },
  {
   "cell_type": "markdown",
   "metadata": {},
   "source": [
    "Basic syntax:\n",
    "```python\n",
    "with expression as variable:\n",
    "    # Code here\n",
    "```"
   ]
  },
  {
   "cell_type": "code",
   "execution_count": null,
   "metadata": {},
   "outputs": [],
   "source": [
    "with open('example.txt', 'r') as file:\n",
    "    contents = file.read()\n",
    "    print(contents)"
   ]
  },
  {
   "cell_type": "markdown",
   "metadata": {},
   "source": [
    "**Exercise**"
   ]
  },
  {
   "cell_type": "markdown",
   "metadata": {},
   "source": [
    "1. Read the exercise_1.txt file.\n",
    "2. Count the frequency of each word in the file.\n",
    "3. Print out each word and its frequency.\n",
    "   1. Print out form \"{word}: {count}\""
   ]
  },
  {
   "cell_type": "code",
   "execution_count": null,
   "metadata": {},
   "outputs": [],
   "source": []
  },
  {
   "cell_type": "markdown",
   "metadata": {},
   "source": [
    "1. read the exercise_2.txt file.\n",
    "2. Calculate the total sales for each product (Quantity * Price).\n",
    "3. Print out each product's name and its total sales.\n",
    "   1. Print out form \"{name}: {total_sale}\""
   ]
  },
  {
   "cell_type": "code",
   "execution_count": null,
   "metadata": {},
   "outputs": [],
   "source": []
  },
  {
   "cell_type": "markdown",
   "metadata": {},
   "source": [
    "## Handling CSV file in Python"
   ]
  },
  {
   "cell_type": "markdown",
   "metadata": {},
   "source": [
    "CSV (Comma-Separated Values) files are a common data format used in data analysis and other applications."
   ]
  },
  {
   "cell_type": "markdown",
   "metadata": {},
   "source": [
    "### Reading CSV files"
   ]
  },
  {
   "cell_type": "code",
   "execution_count": 2,
   "metadata": {},
   "outputs": [
    {
     "name": "stdout",
     "output_type": "stream",
     "text": [
      "['EmployeeID', 'Name', 'Department', 'MonthlySales', 'MonthlyHoursWorked']\n",
      "['E001', 'John', 'Sales', '5000', '160']\n",
      "['E002', 'Emma', 'Marketing', '7000', '150']\n",
      "['E003', 'Sam', 'Sales', '6000', '170']\n",
      "['E004', 'Olivia', 'HR', '4000', '160']\n",
      "['E005', 'David', 'Engineering', '8000', '180']\n",
      "['E006', 'Eve', 'Sales', '9000', '200']\n"
     ]
    }
   ],
   "source": [
    "import csv\n",
    "\n",
    "with open('employee_performance.csv', mode='r') as file:\n",
    "    # Create a csv reader object\n",
    "    csv_reader = csv.reader(file)\n",
    "    for row in csv_reader:\n",
    "        # Print each row\n",
    "        print(row)"
   ]
  },
  {
   "cell_type": "markdown",
   "metadata": {},
   "source": [
    "### Writing CSV files"
   ]
  },
  {
   "cell_type": "markdown",
   "metadata": {},
   "source": [
    "`csv.writer.writerow(iterable)`: write a single row to a CSV file."
   ]
  },
  {
   "cell_type": "code",
   "execution_count": 5,
   "metadata": {},
   "outputs": [],
   "source": [
    "data = ['Name', 'Age', 'City']\n",
    "with open('output_single_row.csv', mode='a', newline='') as file:\n",
    "    csv_writer = csv.writer(file)\n",
    "    csv_writer.writerow(data)"
   ]
  },
  {
   "cell_type": "markdown",
   "metadata": {},
   "source": [
    "`csv.writer.writerows(iterable)`: write multiple rows to a CSV file"
   ]
  },
  {
   "cell_type": "code",
   "execution_count": 6,
   "metadata": {},
   "outputs": [],
   "source": [
    "data = [\n",
    "    ['Name', 'Age', 'City'],\n",
    "    ['Alice', 30, 'New York'],\n",
    "    ['Bob', 25, 'Los Angeles']\n",
    "]\n",
    "\n",
    "with open('output_multiple_rows.csv', mode='w', newline='') as file:\n",
    "    csv_writer = csv.writer(file)\n",
    "    csv_writer.writerows(data)"
   ]
  },
  {
   "cell_type": "code",
   "execution_count": 7,
   "metadata": {},
   "outputs": [
    {
     "name": "stdout",
     "output_type": "stream",
     "text": [
      "{'name': 'John Smith', 'department': 'Accounting', 'birthday month': 'November'}\n",
      "{'name': 'Erica Meyers', 'department': 'IT', 'birthday month': 'March'}\n"
     ]
    }
   ],
   "source": [
    "import csv\n",
    "\n",
    "with open('example.csv') as file:\n",
    "    csv_reader = csv.DictReader(file)\n",
    "    for row in csv_reader:\n",
    "        print(row)"
   ]
  },
  {
   "cell_type": "markdown",
   "metadata": {},
   "source": [
    "**Exercise**"
   ]
  },
  {
   "cell_type": "markdown",
   "metadata": {},
   "source": [
    "1. Create a CSV file named \"students.csv\" with the following data:\n",
    "```python\n",
    "Name,Age,Grade\n",
    "John,16,A\n",
    "Emma,15,B\n",
    "Sam,16,A\n",
    "Olivia,17,C\n",
    "```\n",
    "2. Write a Python script to read this CSV file and print the name of the eldest student"
   ]
  },
  {
   "cell_type": "code",
   "execution_count": null,
   "metadata": {},
   "outputs": [],
   "source": []
  },
  {
   "cell_type": "markdown",
   "metadata": {},
   "source": [
    "Open CSV file named \"employee_performance.csv\" and print the top performer name based on sales per hour.\n",
    "Notice:\n",
    "1. print out the csv file to see the structure\n",
    "2. sales per hour = monthly sales/ worked hours\n",
    "3. print out format should be \"{Name}: {sales_per_hour}\""
   ]
  },
  {
   "cell_type": "markdown",
   "metadata": {},
   "source": [
    "## Handling exceptions with try, except and finally"
   ]
  },
  {
   "cell_type": "markdown",
   "metadata": {},
   "source": [
    "### Built-in exceptions"
   ]
  },
  {
   "cell_type": "markdown",
   "metadata": {},
   "source": [
    "- `SyntaxError`: Raised when the parser encounters a syntax error.\n",
    "- `IndentationError`: Raised when there is an incorrect indentation\n",
    "- `TypeError`: Raised when an operation or function is applied to an object of inappropriate type.\n",
    "- `ValueError`: Raised when a function receives an argument of the right type but inappropriate value.\n",
    "- `IndexError`: Raised when a sequence subscript is out of range.\n",
    "- `AttributeError`: Raised when an attribute reference or assignment fails.\n",
    "- `ImportError`: Raised when the import statement fails to find the module definition or cannot load it.\n",
    "- `ZeroDivisionError`: Raised when the second argument of a division or modulo operation is zero."
   ]
  },
  {
   "cell_type": "markdown",
   "metadata": {},
   "source": [
    "### Try and Except"
   ]
  },
  {
   "cell_type": "markdown",
   "metadata": {},
   "source": [
    "`Try` and `Except` allows your program to continue running even if an error occurs."
   ]
  },
  {
   "cell_type": "markdown",
   "metadata": {},
   "source": [
    "Basic syntax:"
   ]
  },
  {
   "cell_type": "markdown",
   "metadata": {},
   "source": [
    "```python\n",
    "try:\n",
    "    # Your code\n",
    "except error_type:\n",
    "    # Your code for handling errors\n",
    "```"
   ]
  },
  {
   "cell_type": "code",
   "execution_count": null,
   "metadata": {},
   "outputs": [],
   "source": [
    "try:\n",
    "    file = open('nonexistentfile.txt', 'r')\n",
    "except FileNotFoundError:\n",
    "    print('The file was not found.')"
   ]
  },
  {
   "cell_type": "markdown",
   "metadata": {},
   "source": [
    "### Finally"
   ]
  },
  {
   "cell_type": "markdown",
   "metadata": {},
   "source": [
    "The `finally` block will always be executed, no matter the error is raised or not"
   ]
  },
  {
   "cell_type": "markdown",
   "metadata": {},
   "source": [
    "Basic syntax:"
   ]
  },
  {
   "cell_type": "markdown",
   "metadata": {},
   "source": [
    "```python\n",
    "try:\n",
    "    # Your code\n",
    "except ExceptionType:\n",
    "    # Your code for handling errors\n",
    "finally:\n",
    "    # Your code\n",
    "```"
   ]
  },
  {
   "cell_type": "markdown",
   "metadata": {},
   "source": [
    "Example:"
   ]
  },
  {
   "cell_type": "code",
   "execution_count": null,
   "metadata": {},
   "outputs": [],
   "source": [
    "try:\n",
    "    result = 5 / 0\n",
    "except ZeroDivisionError:\n",
    "    print('Cannot divide by zero')\n",
    "finally:\n",
    "    print('This code will run no matter what happens')"
   ]
  },
  {
   "cell_type": "markdown",
   "metadata": {},
   "source": [
    "### Raising an exception"
   ]
  },
  {
   "cell_type": "markdown",
   "metadata": {},
   "source": [
    "Sometimes, you may want to raise exceptions intentionally to signal that something has gone wrong."
   ]
  },
  {
   "cell_type": "markdown",
   "metadata": {},
   "source": [
    "Basic syntax:"
   ]
  },
  {
   "cell_type": "markdown",
   "metadata": {},
   "source": [
    "```python\n",
    "raise ExceptionType(\"Error message\")\n",
    "```"
   ]
  },
  {
   "cell_type": "markdown",
   "metadata": {},
   "source": [
    "Example:"
   ]
  },
  {
   "cell_type": "code",
   "execution_count": null,
   "metadata": {},
   "outputs": [],
   "source": [
    "def check_positive(number):\n",
    "    if number <= 0:\n",
    "        # Raise an exception if the number is not positive\n",
    "        # number <=0 itself is correct\n",
    "        raise ValueError(\"The number must be positive.\")\n",
    "    return True\n",
    "\n",
    "# Example usage\n",
    "try:\n",
    "    check_positive(-5)\n",
    "# 'as' keyword is used to store the exception object\n",
    "except ValueError as e:\n",
    "    # Print the exception object here means printing the error message\n",
    "    print(f\"Error: {e}\")"
   ]
  },
  {
   "cell_type": "markdown",
   "metadata": {},
   "source": [
    "**Exercise**"
   ]
  },
  {
   "cell_type": "markdown",
   "metadata": {},
   "source": [
    "- Write a Python program that tries to open \"quotes.txt\" and prints its contents. \n",
    "- Use a finally block to print \"Operation completed\" after attempting to read the file, regardless of whether an exception was raised."
   ]
  },
  {
   "cell_type": "code",
   "execution_count": null,
   "metadata": {},
   "outputs": [],
   "source": []
  },
  {
   "cell_type": "markdown",
   "metadata": {},
   "source": [
    "Write a Python program that prompts the user to enter two numbers and performs division. Handle potential exceptions: `ZeroDivisionError`, `ValueError`, and `TypeError`.\n",
    "- Print 'Error: Division by zero is not allowed.' if there's `ZeroDivisionError`\n",
    "- Print 'Error: Invalid input. Please enter valid numbers.' if there's `ValueError`\n",
    "- Print 'Error: Unsupported operand type(s).' if there's `TypeError`\n",
    "- For other errors, print 'An unexpected error occurred'"
   ]
  },
  {
   "cell_type": "code",
   "execution_count": null,
   "metadata": {},
   "outputs": [],
   "source": []
  }
 ],
 "metadata": {
  "kernelspec": {
   "display_name": "python-course",
   "language": "python",
   "name": "python3"
  },
  "language_info": {
   "codemirror_mode": {
    "name": "ipython",
    "version": 3
   },
   "file_extension": ".py",
   "mimetype": "text/x-python",
   "name": "python",
   "nbconvert_exporter": "python",
   "pygments_lexer": "ipython3",
   "version": "3.11.6"
  }
 },
 "nbformat": 4,
 "nbformat_minor": 2
}
