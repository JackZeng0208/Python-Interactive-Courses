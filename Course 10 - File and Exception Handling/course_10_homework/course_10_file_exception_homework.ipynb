{
 "cells": [
  {
   "cell_type": "markdown",
   "metadata": {},
   "source": [
    "# Problem 1: Extracting department data"
   ]
  },
  {
   "cell_type": "markdown",
   "metadata": {},
   "source": [
    "1. Read the problem_1.txt file.\n",
    "2. Calculate the total salary for each department.\n",
    "3. Print out each department's name and its total salary.\n",
    "   1. Format: \"{department}: {total_salary}\""
   ]
  },
  {
   "cell_type": "code",
   "execution_count": null,
   "metadata": {},
   "outputs": [],
   "source": []
  },
  {
   "cell_type": "markdown",
   "metadata": {},
   "source": [
    "# Problem 2: Extracting specific lines"
   ]
  },
  {
   "cell_type": "markdown",
   "metadata": {},
   "source": [
    "1. Read the problem_2.txt file.\n",
    "2. Extract and print the time that only has \"ERROR\" message\n",
    "   1. Format: \"2024-07-14 10:05:00\""
   ]
  },
  {
   "cell_type": "code",
   "execution_count": null,
   "metadata": {},
   "outputs": [],
   "source": []
  },
  {
   "cell_type": "markdown",
   "metadata": {},
   "source": [
    "# Problem 3: Calculate average grades"
   ]
  },
  {
   "cell_type": "markdown",
   "metadata": {},
   "source": [
    "1. Read the problem_3.txt file.\n",
    "2. Calculate the average grade for each student across all subjects.\n",
    "3. Print out each student's name and their average grade.\n",
    "   1. Format: \"{student_name}: {average}\""
   ]
  },
  {
   "cell_type": "code",
   "execution_count": null,
   "metadata": {},
   "outputs": [],
   "source": []
  },
  {
   "cell_type": "markdown",
   "metadata": {},
   "source": [
    "# Problem 4: Analyzing movie ratings"
   ]
  },
  {
   "cell_type": "markdown",
   "metadata": {},
   "source": [
    "1. Read the problem_4.txt file.\n",
    "2. Calculate and print the following:\n",
    "   1. The highest-rated movie.\n",
    "   2. The lowest-rated movie.\n",
    "   3. The average rating of all movies.\n",
    "      1. Format \"Average rate: {rate}\"\n",
    "   4. The number of movies released in each year.\n",
    "      1. For each year, the format should be: \"{year}: number\""
   ]
  },
  {
   "cell_type": "code",
   "execution_count": null,
   "metadata": {},
   "outputs": [],
   "source": []
  }
 ],
 "metadata": {
  "kernelspec": {
   "display_name": "base",
   "language": "python",
   "name": "python3"
  },
  "language_info": {
   "name": "python",
   "version": "3.11.6"
  }
 },
 "nbformat": 4,
 "nbformat_minor": 2
}
