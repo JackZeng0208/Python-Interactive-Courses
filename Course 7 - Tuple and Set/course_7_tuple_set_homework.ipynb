{
 "cells": [
  {
   "cell_type": "markdown",
   "metadata": {},
   "source": [
    "# Problem 1: Tuple Index Finder"
   ]
  },
  {
   "cell_type": "markdown",
   "metadata": {},
   "source": [
    "You are given a tuple of integers and an integer value. Write a function that finds all the indices of the given integer value in the tuple. If the integer is not found in the tuple, the function should return -1."
   ]
  },
  {
   "cell_type": "code",
   "execution_count": null,
   "metadata": {},
   "outputs": [],
   "source": [
    "input_tuple = (1, 3, 7, 8, 7, 5, 6, 7, 9)\n",
    "target = 7\n",
    "\n",
    "def find_indices(input_tuple, target):\n",
    "    pass"
   ]
  },
  {
   "cell_type": "markdown",
   "metadata": {},
   "source": [
    "# Problem 2: Unique Element Finder"
   ]
  },
  {
   "cell_type": "markdown",
   "metadata": {},
   "source": [
    "Given two sets of integers, write a function that returns a set of elements that are present in one of the sets but not in both (i.e., the symmetric difference). However, you are **not allowed** to use the `symmetric_difference()` method or the `^` operator. Instead, use basic set operations to achieve this."
   ]
  },
  {
   "cell_type": "code",
   "execution_count": null,
   "metadata": {},
   "outputs": [],
   "source": [
    "set_A = {1, 2, 3, 4, 5}\n",
    "set_B = {4, 5, 6, 7, 8}\n",
    "\n",
    "# Expected output: {1, 2, 3, 6, 7, 8}\n",
    "def find_unique_elements(set_A, set_B):\n",
    "    pass"
   ]
  }
 ],
 "metadata": {
  "kernelspec": {
   "display_name": "base",
   "language": "python",
   "name": "python3"
  },
  "language_info": {
   "codemirror_mode": {
    "name": "ipython",
    "version": 3
   },
   "file_extension": ".py",
   "mimetype": "text/x-python",
   "name": "python",
   "nbconvert_exporter": "python",
   "pygments_lexer": "ipython3",
   "version": "3.11.6"
  }
 },
 "nbformat": 4,
 "nbformat_minor": 2
}
