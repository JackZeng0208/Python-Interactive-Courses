{
 "cells": [
  {
   "cell_type": "markdown",
   "metadata": {},
   "source": [
    "# Course 7 - Tuple and Set"
   ]
  },
  {
   "cell_type": "markdown",
   "metadata": {},
   "source": [
    "## 1. Tuple"
   ]
  },
  {
   "cell_type": "markdown",
   "metadata": {},
   "source": [
    "Tuples are **immutable** sequences in Python. once created, their elements cannot be changed, added, or removed. "
   ]
  },
  {
   "cell_type": "markdown",
   "metadata": {},
   "source": [
    "### Creating and accessing tuples"
   ]
  },
  {
   "cell_type": "markdown",
   "metadata": {},
   "source": [
    "- To create an empty tuple, you can have:\n",
    "  - Empty parentheses `()`\n",
    "  - `tuple()`\n",
    "- Tuples are filled by placing a sequence of values separated by commas inside parentheses `()`."
   ]
  },
  {
   "cell_type": "code",
   "execution_count": null,
   "metadata": {},
   "outputs": [],
   "source": [
    "# Example of creating tuples\n",
    "tuple_init = ()\n",
    "tuple_init_2 = tuple()\n",
    "\n",
    "# Same as list, tuples can contain different data types\n",
    "tuple_1 = (1, 2, 3)\n",
    "tuple_2 = (\"apple\", \"banana\", \"cherry\")\n",
    "tuple_3 = (1, \"hello\", 3.14)"
   ]
  },
  {
   "cell_type": "markdown",
   "metadata": {},
   "source": [
    "#### Accessing tuple elements"
   ]
  },
  {
   "cell_type": "markdown",
   "metadata": {},
   "source": [
    "Similar to list, accessing tuple elements using indexing"
   ]
  },
  {
   "cell_type": "code",
   "execution_count": null,
   "metadata": {},
   "outputs": [],
   "source": [
    "tuple_example = (1, 2, 3, 4, 5)\n",
    "# Accessing elements in a tuple\n",
    "print(tuple_example[0])"
   ]
  },
  {
   "cell_type": "markdown",
   "metadata": {},
   "source": [
    "#### Negative indexing"
   ]
  },
  {
   "cell_type": "markdown",
   "metadata": {},
   "source": [
    "Similar to list, use negative indexing to access elements from the end of the tuple."
   ]
  },
  {
   "cell_type": "code",
   "execution_count": null,
   "metadata": {},
   "outputs": [],
   "source": [
    "tuple_example = (1, 2, 3, 4, 5)\n",
    "print(tuple_example[-1])"
   ]
  },
  {
   "cell_type": "markdown",
   "metadata": {},
   "source": [
    "#### Slicing tuples"
   ]
  },
  {
   "cell_type": "markdown",
   "metadata": {},
   "source": [
    "Similar to list, tuples can be sliced to obtain a subset of elements."
   ]
  },
  {
   "cell_type": "code",
   "execution_count": null,
   "metadata": {},
   "outputs": [],
   "source": [
    "# Exactly the same as list slicing\n",
    "print(tuple_example[1:3])\n",
    "print(tuple_example[:3])\n",
    "print(tuple_example[1:])\n",
    "print(tuple_example[::2])"
   ]
  },
  {
   "cell_type": "markdown",
   "metadata": {},
   "source": [
    "#### Difference between list and tuple"
   ]
  },
  {
   "cell_type": "markdown",
   "metadata": {},
   "source": [
    "Tuple is immutable:"
   ]
  },
  {
   "cell_type": "code",
   "execution_count": null,
   "metadata": {},
   "outputs": [],
   "source": [
    "tuple_example = (1, 2, 3, 4, 5)\n",
    "tuple_example[0] = 10\n",
    "print(tuple_example)"
   ]
  },
  {
   "cell_type": "markdown",
   "metadata": {},
   "source": [
    "List is mutable:"
   ]
  },
  {
   "cell_type": "code",
   "execution_count": null,
   "metadata": {},
   "outputs": [],
   "source": [
    "list_example = [1, 2, 3, 4, 5]\n",
    "list_example[0] = 10\n",
    "print(list_example)"
   ]
  },
  {
   "cell_type": "markdown",
   "metadata": {},
   "source": [
    "### Tuple methods and operations"
   ]
  },
  {
   "cell_type": "markdown",
   "metadata": {},
   "source": [
    "### Tuple methods"
   ]
  },
  {
   "cell_type": "markdown",
   "metadata": {},
   "source": [
    "- Since tuples are immutable, they have a limited set of methods compared to lists.\n",
    "- `count(x)`: Returns the number of times x appears in the tuple.\n",
    "- `index(x)`: Returns the first index of x in the tuple."
   ]
  },
  {
   "cell_type": "code",
   "execution_count": null,
   "metadata": {},
   "outputs": [],
   "source": [
    "tuple_example = (1, 2, 3, 1, 2, 1)\n",
    "print(tuple_example.count(1))\n",
    "print(tuple_example.index(2))"
   ]
  },
  {
   "cell_type": "markdown",
   "metadata": {},
   "source": [
    "### Operations"
   ]
  },
  {
   "cell_type": "markdown",
   "metadata": {},
   "source": [
    "#### Concatenation and repetition"
   ]
  },
  {
   "cell_type": "markdown",
   "metadata": {},
   "source": [
    "- Concatenate tuples using the `+` operator\n",
    "- Repeat tuples using the `*` operator."
   ]
  },
  {
   "cell_type": "code",
   "execution_count": null,
   "metadata": {},
   "outputs": [],
   "source": [
    "tuple_1 = (1, 2, 3)\n",
    "tuple_2 = (\"apple\", \"banana\", \"cherry\")\n",
    "\n",
    "# Concatenation\n",
    "tuple_3 = tuple_1 + tuple_2\n",
    "print(tuple_3)\n",
    "\n",
    "# Repetition\n",
    "tuple_4 = tuple_1 * 3\n",
    "print(tuple_4)"
   ]
  },
  {
   "cell_type": "markdown",
   "metadata": {},
   "source": [
    "#### `in` keyword"
   ]
  },
  {
   "cell_type": "markdown",
   "metadata": {},
   "source": [
    "Similar to list and string, you can use `in` to test if an element exists in a tuple."
   ]
  },
  {
   "cell_type": "code",
   "execution_count": null,
   "metadata": {},
   "outputs": [],
   "source": [
    "print(1 in tuple_1)\n",
    "print(\"banana\" in tuple_2)\n",
    "print(\"grape\" in tuple_2)"
   ]
  },
  {
   "cell_type": "markdown",
   "metadata": {},
   "source": [
    "#### Tuple unpacking"
   ]
  },
  {
   "cell_type": "markdown",
   "metadata": {},
   "source": [
    "You can unpack a tuple into individual variables."
   ]
  },
  {
   "cell_type": "code",
   "execution_count": null,
   "metadata": {},
   "outputs": [],
   "source": [
    "a, b, c = tuple_1\n",
    "print(a, b, c)"
   ]
  },
  {
   "cell_type": "markdown",
   "metadata": {},
   "source": [
    "**Exercise**"
   ]
  },
  {
   "cell_type": "code",
   "execution_count": null,
   "metadata": {},
   "outputs": [],
   "source": [
    "# Given a tuple t, create a new tuple that is the reverse of t.\n",
    "t = (10, 20, 30, 40, 50)"
   ]
  },
  {
   "cell_type": "code",
   "execution_count": null,
   "metadata": {},
   "outputs": [],
   "source": [
    "# Given a nested tuple where each element is a tuple of integers, calculate the sum of all integers.\n",
    "nested_tuple = ((1, 2), (3, 4), (5, 6))"
   ]
  },
  {
   "cell_type": "code",
   "execution_count": null,
   "metadata": {},
   "outputs": [],
   "source": [
    "# Given a tuple of tuples\n",
    "# Where each inner tuple contains a student's name and their grade\n",
    "# Sort the tuple by grades in descending order.\n",
    "students = ((\"Alice\", 85), (\"Bob\", 75), (\"Charlie\", 95), (\"Dave\", 80))"
   ]
  },
  {
   "cell_type": "markdown",
   "metadata": {},
   "source": [
    "## 2. Set"
   ]
  },
  {
   "cell_type": "markdown",
   "metadata": {},
   "source": [
    "Sets are **unordered** collections of **unique** elements\n",
    "- Set is mutable"
   ]
  },
  {
   "cell_type": "markdown",
   "metadata": {},
   "source": [
    "### Creating sets"
   ]
  },
  {
   "cell_type": "markdown",
   "metadata": {},
   "source": [
    "Sets are created by placing a comma-separated sequence of elements inside curly braces `{}` or by using the `set()` function."
   ]
  },
  {
   "cell_type": "code",
   "execution_count": null,
   "metadata": {},
   "outputs": [],
   "source": [
    "set_1 = {1, 2, 3}\n",
    "\n",
    "# Convert a list to a set\n",
    "set_2 = set([\"apple\", \"banana\", \"cherry\"])\n",
    "\n",
    "# Convert a string to a set\n",
    "# Each character in the string is an element in the set\n",
    "# Duplicated characters are removed\n",
    "set_3 = set(\"hello\")\n",
    "\n",
    "# Elements contained in a set must be immutable (int, float, string, tuple)\n",
    "set_4 = {[1, 2, 3], [4, 5, 6]}\n",
    "\n",
    "print(set_1)\n",
    "print(set_2)\n",
    "print(set_3)"
   ]
  },
  {
   "cell_type": "markdown",
   "metadata": {},
   "source": [
    "### Adding and removing elements"
   ]
  },
  {
   "cell_type": "markdown",
   "metadata": {},
   "source": [
    "- `add(x)`: Adds element x to the set.\n",
    "- `remove(x)`: Removes element x from the set. Raises KeyError if x is not in the set.\n",
    "- `discard(x)`: Removes element x from the set if it is present.\n",
    "- `clear()`: Removes all elements from the set."
   ]
  },
  {
   "cell_type": "code",
   "execution_count": null,
   "metadata": {},
   "outputs": [],
   "source": [
    "set_1 = {1, 2, 3}\n",
    "\n",
    "set_1.add(4)\n",
    "print(set_1)\n",
    "\n",
    "set_1.remove(3)\n",
    "print(set_1)\n",
    "\n",
    "set_1.discard(2)\n",
    "print(set_1)\n",
    "\n",
    "set_1.clear()\n",
    "print(set_1)"
   ]
  },
  {
   "cell_type": "markdown",
   "metadata": {},
   "source": [
    "### Set comprehension"
   ]
  },
  {
   "cell_type": "markdown",
   "metadata": {},
   "source": [
    "Sets can be created using set comprehensions, similar to list comprehensions."
   ]
  },
  {
   "cell_type": "code",
   "execution_count": null,
   "metadata": {},
   "outputs": [],
   "source": [
    "set_com = {x for x in range(10) if x % 2 == 0}\n",
    "print(set_com)"
   ]
  },
  {
   "cell_type": "markdown",
   "metadata": {},
   "source": [
    "### Set operation"
   ]
  },
  {
   "cell_type": "markdown",
   "metadata": {},
   "source": [
    "#### Union"
   ]
  },
  {
   "cell_type": "markdown",
   "metadata": {},
   "source": [
    "- The union of two sets is a set containing all elements from both sets.\n",
    "- Use the `|` operator or the `union()` method."
   ]
  },
  {
   "cell_type": "code",
   "execution_count": null,
   "metadata": {},
   "outputs": [],
   "source": [
    "set_1 = {1, 2, 3}\n",
    "set_2 = {2, 3, 4}\n",
    "\n",
    "result = set_1.union(set_2)\n",
    "print(result)\n",
    "\n",
    "result = set_1 | set_2\n",
    "print(result)"
   ]
  },
  {
   "cell_type": "markdown",
   "metadata": {},
   "source": [
    "#### Intersection"
   ]
  },
  {
   "cell_type": "markdown",
   "metadata": {},
   "source": [
    "- The intersection of two sets is a set containing only elements that are present **in both sets**.\n",
    "- Use the `&` operator or the `intersection()` method."
   ]
  },
  {
   "cell_type": "code",
   "execution_count": null,
   "metadata": {},
   "outputs": [],
   "source": [
    "intersection_set = set_1.intersection(set_2)\n",
    "print(intersection_set)\n",
    "\n",
    "intersection_set = set_1 & set_2\n",
    "print(intersection_set)"
   ]
  },
  {
   "cell_type": "markdown",
   "metadata": {},
   "source": [
    "#### Difference"
   ]
  },
  {
   "cell_type": "markdown",
   "metadata": {},
   "source": [
    "- The difference of two sets is a set containing elements that are **in the first set but not in the second**.\n",
    "- Use the `-` operator or the `difference()` method."
   ]
  },
  {
   "cell_type": "code",
   "execution_count": null,
   "metadata": {},
   "outputs": [],
   "source": [
    "difference_set = set_1.difference(set_2)\n",
    "print(difference_set)\n",
    "\n",
    "difference_set = set_1 - set_2\n",
    "print(difference_set)"
   ]
  },
  {
   "cell_type": "markdown",
   "metadata": {},
   "source": [
    "#### Symmetric difference"
   ]
  },
  {
   "cell_type": "markdown",
   "metadata": {},
   "source": [
    "- The symmetric difference of two sets is a set containing elements that are in either of the sets but not in both.\n",
    "- Use the `^` operator or the `symmetric_difference()` method."
   ]
  },
  {
   "cell_type": "code",
   "execution_count": null,
   "metadata": {},
   "outputs": [],
   "source": [
    "set_1 = {1, 2, 3}\n",
    "set_2 = {2, 3, 4}\n",
    "\n",
    "sym_diff_set = set_1.symmetric_difference(set_2)\n",
    "print(sym_diff_set)\n",
    "\n",
    "sym_diff_set = set_1 ^ set_2\n",
    "print(sym_diff_set)"
   ]
  },
  {
   "cell_type": "markdown",
   "metadata": {},
   "source": [
    "#### Update"
   ]
  },
  {
   "cell_type": "markdown",
   "metadata": {},
   "source": [
    "- `update()`updates the current set by adding items from another set (any iterable variable)\n",
    "- You can also use `|=` operator\n",
    "- Comparing with  `union()`, `update()` function updates the original set."
   ]
  },
  {
   "cell_type": "code",
   "execution_count": null,
   "metadata": {},
   "outputs": [],
   "source": [
    "set_1 = {1, 2, 3}\n",
    "set_2 = {2, 3, 4}\n",
    "set_1.update(set_2)\n",
    "print(set_1)"
   ]
  },
  {
   "cell_type": "markdown",
   "metadata": {},
   "source": [
    "#### Subset and superset"
   ]
  },
  {
   "cell_type": "markdown",
   "metadata": {},
   "source": [
    "- Set A is a subset of set B if all elements of A are also elements of B.\n",
    "- Set A is a superset of set B if all elements of B are also elements of A (opposite of subset)\n",
    "- Use the `<=` and `<` operators for subsets\n",
    "- Use the `>=` and `>` operators for supersets"
   ]
  },
  {
   "cell_type": "code",
   "execution_count": null,
   "metadata": {},
   "outputs": [],
   "source": [
    "set_1 = {1, 2}\n",
    "set_2 = {1, 2, 3}\n",
    "\n",
    "print(set_1 <= set_2)\n",
    "print(set_1 < set_2)\n",
    "\n",
    "print(set_1 >= set_2)\n",
    "print(set_1 > set_2)"
   ]
  },
  {
   "cell_type": "markdown",
   "metadata": {},
   "source": [
    "**Exercise**\n"
   ]
  },
  {
   "cell_type": "markdown",
   "metadata": {},
   "source": [
    "- Set A = {1, 2, 3, 4, 5}.\n",
    "- Set B = {4, 5, 6, 7, 8}.\n",
    "- Find the union, intersection, and difference of sets A and B without using Python"
   ]
  }
 ],
 "metadata": {
  "kernelspec": {
   "display_name": "python-course",
   "language": "python",
   "name": "python3"
  },
  "language_info": {
   "codemirror_mode": {
    "name": "ipython",
    "version": 3
   },
   "file_extension": ".py",
   "mimetype": "text/x-python",
   "name": "python",
   "nbconvert_exporter": "python",
   "pygments_lexer": "ipython3",
   "version": "3.12.4"
  }
 },
 "nbformat": 4,
 "nbformat_minor": 2
}
